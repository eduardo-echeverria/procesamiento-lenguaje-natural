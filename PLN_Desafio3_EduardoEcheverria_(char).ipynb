{
  "nbformat": 4,
  "nbformat_minor": 0,
  "metadata": {
    "colab": {
      "provenance": [],
      "gpuType": "T4"
    },
    "kernelspec": {
      "name": "python3",
      "display_name": "Python 3"
    },
    "language_info": {
      "name": "python"
    },
    "accelerator": "GPU"
  },
  "cells": [
    {
      "cell_type": "markdown",
      "source": [
        "# Procesamiento de lenguaje natural\n",
        "## Tokenizacion por caracteres\n",
        "### Nombre: Eduardo Echeverria\n",
        "### Cohorte: 15Co2024"
      ],
      "metadata": {
        "id": "6USkvR-bnQRu"
      }
    },
    {
      "cell_type": "markdown",
      "source": [
        "### Consigna\n",
        "- Seleccionar un corpus de texto sobre el cual entrenar el modelo de lenguaje.\n",
        "- Realizar el pre-procesamiento adecuado para tokenizar el corpus, estructurar el dataset y separar entre datos de entrenamiento y validación.\n",
        "- Proponer arquitecturas de redes neuronales basadas en unidades recurrentes para implementar un modelo de lenguaje.\n",
        "- Con el o los modelos que consideren adecuados, generar nuevas secuencias a partir de secuencias de contexto con las estrategias de greedy search y beam search determístico y estocástico. En este último caso observar el efecto de la temperatura en la generación de secuencias.\n",
        "\n",
        "\n",
        "### Sugerencias\n",
        "- Durante el entrenamiento, guiarse por el descenso de la perplejidad en los datos de validación para finalizar el entrenamiento. Para ello se provee un callback.\n",
        "- Explorar utilizar SimpleRNN (celda de Elman), LSTM y GRU.\n",
        "- rmsprop es el optimizador recomendado para la buena convergencia. No obstante se pueden explorar otros."
      ],
      "metadata": {
        "id": "8_9z7GAInVyt"
      }
    },
    {
      "cell_type": "code",
      "execution_count": 1,
      "metadata": {
        "id": "Uu6GoVwSIPUA"
      },
      "outputs": [],
      "source": [
        "import random\n",
        "import io\n",
        "import pickle\n",
        "\n",
        "import numpy as np\n",
        "import pandas as pd\n",
        "import matplotlib.pyplot as plt\n",
        "from sklearn.model_selection import train_test_split\n",
        "\n",
        "from tensorflow import keras\n",
        "from tensorflow.keras import layers\n",
        "from keras.utils import to_categorical\n",
        "from keras.models import Sequential\n",
        "from keras.layers import Dense, LSTM, Embedding, Dropout, Input, TimeDistributed, CategoryEncoding, SimpleRNN, Dense, GRU\n",
        "from tensorflow.keras.losses import SparseCategoricalCrossentropy\n",
        "from tensorflow.keras.utils import pad_sequences\n",
        "from keras.models import Model, Sequential\n",
        "\n",
        "import urllib.request\n",
        "import bs4 as bs"
      ]
    },
    {
      "cell_type": "markdown",
      "source": [
        "## DataSet\n",
        "\n",
        "De la misma forma que para el Colab de tokenización por palabra, en este desafío se utiliza como DataSet el texto correspondiente al cuento \"Corazon Delator\" de Edgar Allan Poe, obtenido de la plataforma \"https://www.textos.info\"\n",
        "\n",
        "Este texto presenta un mayor tamaño que los datasets vistos en clase."
      ],
      "metadata": {
        "id": "M3PcxkWWnz38"
      }
    },
    {
      "cell_type": "code",
      "source": [
        "raw_html = urllib.request.urlopen('https://www.textos.info/edgar-allan-poe/el-corazon-delator/ebook')\n",
        "raw_html = raw_html.read()\n",
        "\n",
        "# realizamos el parseo del articulo\n",
        "article_html = bs.BeautifulSoup(raw_html, 'lxml')\n",
        "\n",
        "# Encontrar todos los párrafos del HTML (bajo el tag <p>)\n",
        "article_paragraphs = article_html.find_all('p')\n",
        "\n",
        "article_text = ''\n",
        "\n",
        "for paragraph in article_paragraphs:\n",
        "    article_text += paragraph.text + ' '\n",
        "\n",
        "# pasar todo el texto a minúscula\n",
        "article_text = article_text.lower()"
      ],
      "metadata": {
        "id": "H1ARtg1cObM5"
      },
      "execution_count": 2,
      "outputs": []
    },
    {
      "cell_type": "code",
      "source": [
        "article_text[:1000]"
      ],
      "metadata": {
        "colab": {
          "base_uri": "https://localhost:8080/",
          "height": 105
        },
        "id": "kssRJuyhuEuO",
        "outputId": "ea02e00b-404e-4d10-cd23-62e3475a7cce"
      },
      "execution_count": 3,
      "outputs": [
        {
          "output_type": "execute_result",
          "data": {
            "text/plain": [
              "' ¡es verdad! nervioso, muy, muy terriblemente nervioso yo había sido y\\r\\n soy; ¿pero por qué dirán ustedes que soy loco? la enfermedad había \\r\\naguzado mis sentidos, no destruido, no entorpecido. sobre todo estaba la\\r\\n penetrante capacidad de oír. yo oí todas las cosas en el cielo y en la \\r\\ntierra. yo oí muchas cosas en el infierno. ¿cómo entonces soy yo loco? \\r\\n¡escuchen! y observen cuan razonablemente, cuan serenamente, puedo \\r\\ncontarles toda la historia. es imposible decir cómo primero la idea entró en mi cerebro, pero, \\r\\nuna vez concebida, me acosó día y noche. objeto no había ninguno. pasión\\r\\n no había ninguna. yo amé al viejo. el nunca me había hecho mal. él no \\r\\nme había insultado. de su oro no tuve ningún deseo. ¡creo que fue su ojo! sí, ¡fue eso! \\r\\nuno de sus ojos parecía como el de un buitre — un ojo azul pálido con \\r\\nuna nube encima. cada vez que caía sobre mí, la sangre se me helaba, y entonces de a \\r\\npoco, muy gradualmente, me decidí a tomar la vida del viejo, y así \\r\\nlibrar'"
            ],
            "application/vnd.google.colaboratory.intrinsic+json": {
              "type": "string"
            }
          },
          "metadata": {},
          "execution_count": 3
        }
      ]
    },
    {
      "cell_type": "markdown",
      "source": [
        "## Tamaño del Contexto\n",
        "\n",
        "Al tratarse de un modelo de lenguaje por caracteres, el tamaño del contexto puede ser elegido mas libremente. Para el resto del desafio el tamaño máximo del contexto se deja en 100."
      ],
      "metadata": {
        "id": "o04YaX6KuO7j"
      }
    },
    {
      "cell_type": "code",
      "source": [
        "# Seleccionamos manualmente el tamaño del contexto\n",
        "max_context_size = 100"
      ],
      "metadata": {
        "id": "Ba_5QZDKuS33"
      },
      "execution_count": 4,
      "outputs": []
    },
    {
      "cell_type": "code",
      "source": [
        "chars_vocabulary = set(article_text)"
      ],
      "metadata": {
        "id": "V_BPwv9CvwEB"
      },
      "execution_count": 5,
      "outputs": []
    },
    {
      "cell_type": "code",
      "source": [
        "# Definimos los diccionarios de caracteres a indices y viceversa\n",
        "char2idx = {k: v for v,k in enumerate(chars_vocabulary)}\n",
        "idx2char = {v: k for k,v in char2idx.items()}"
      ],
      "metadata": {
        "id": "F3PmHkJvwpnM"
      },
      "execution_count": 6,
      "outputs": []
    },
    {
      "cell_type": "markdown",
      "source": [
        "## Tokenización\n",
        "\n",
        "Se procede con el tokenizado del texto."
      ],
      "metadata": {
        "id": "ahHYUgmNxGc1"
      }
    },
    {
      "cell_type": "code",
      "source": [
        "# Realizamos la tokenizacion del texto\n",
        "tokenized_text = [char2idx[char] for char in article_text]\n",
        "\n",
        "tokenized_text[:1000]"
      ],
      "metadata": {
        "colab": {
          "base_uri": "https://localhost:8080/"
        },
        "id": "47NTmz0NzFP9",
        "outputId": "4108d091-6674-4ebd-88a3-64055c966b74"
      },
      "execution_count": 7,
      "outputs": [
        {
          "output_type": "execute_result",
          "data": {
            "text/plain": [
              "[13,\n",
              " 4,\n",
              " 48,\n",
              " 0,\n",
              " 13,\n",
              " 44,\n",
              " 48,\n",
              " 12,\n",
              " 7,\n",
              " 27,\n",
              " 7,\n",
              " 5,\n",
              " 13,\n",
              " 31,\n",
              " 48,\n",
              " 12,\n",
              " 44,\n",
              " 45,\n",
              " 47,\n",
              " 0,\n",
              " 47,\n",
              " 36,\n",
              " 13,\n",
              " 3,\n",
              " 41,\n",
              " 33,\n",
              " 36,\n",
              " 13,\n",
              " 3,\n",
              " 41,\n",
              " 33,\n",
              " 13,\n",
              " 2,\n",
              " 48,\n",
              " 12,\n",
              " 12,\n",
              " 45,\n",
              " 9,\n",
              " 34,\n",
              " 48,\n",
              " 3,\n",
              " 48,\n",
              " 31,\n",
              " 2,\n",
              " 48,\n",
              " 13,\n",
              " 31,\n",
              " 48,\n",
              " 12,\n",
              " 44,\n",
              " 45,\n",
              " 47,\n",
              " 0,\n",
              " 47,\n",
              " 13,\n",
              " 33,\n",
              " 47,\n",
              " 13,\n",
              " 21,\n",
              " 27,\n",
              " 9,\n",
              " 29,\n",
              " 27,\n",
              " 13,\n",
              " 0,\n",
              " 45,\n",
              " 7,\n",
              " 47,\n",
              " 13,\n",
              " 33,\n",
              " 35,\n",
              " 52,\n",
              " 13,\n",
              " 0,\n",
              " 47,\n",
              " 33,\n",
              " 6,\n",
              " 13,\n",
              " 23,\n",
              " 51,\n",
              " 48,\n",
              " 12,\n",
              " 47,\n",
              " 13,\n",
              " 51,\n",
              " 47,\n",
              " 12,\n",
              " 13,\n",
              " 26,\n",
              " 41,\n",
              " 50,\n",
              " 13,\n",
              " 7,\n",
              " 45,\n",
              " 12,\n",
              " 54,\n",
              " 31,\n",
              " 13,\n",
              " 41,\n",
              " 0,\n",
              " 2,\n",
              " 48,\n",
              " 7,\n",
              " 48,\n",
              " 0,\n",
              " 13,\n",
              " 26,\n",
              " 41,\n",
              " 48,\n",
              " 13,\n",
              " 0,\n",
              " 47,\n",
              " 33,\n",
              " 13,\n",
              " 34,\n",
              " 47,\n",
              " 38,\n",
              " 47,\n",
              " 22,\n",
              " 13,\n",
              " 34,\n",
              " 27,\n",
              " 13,\n",
              " 48,\n",
              " 31,\n",
              " 16,\n",
              " 48,\n",
              " 12,\n",
              " 3,\n",
              " 48,\n",
              " 7,\n",
              " 27,\n",
              " 7,\n",
              " 13,\n",
              " 21,\n",
              " 27,\n",
              " 9,\n",
              " 29,\n",
              " 27,\n",
              " 13,\n",
              " 35,\n",
              " 52,\n",
              " 27,\n",
              " 46,\n",
              " 41,\n",
              " 1,\n",
              " 27,\n",
              " 7,\n",
              " 47,\n",
              " 13,\n",
              " 3,\n",
              " 45,\n",
              " 0,\n",
              " 13,\n",
              " 0,\n",
              " 48,\n",
              " 31,\n",
              " 2,\n",
              " 45,\n",
              " 7,\n",
              " 47,\n",
              " 0,\n",
              " 36,\n",
              " 13,\n",
              " 31,\n",
              " 47,\n",
              " 13,\n",
              " 7,\n",
              " 48,\n",
              " 0,\n",
              " 2,\n",
              " 12,\n",
              " 41,\n",
              " 45,\n",
              " 7,\n",
              " 47,\n",
              " 36,\n",
              " 13,\n",
              " 31,\n",
              " 47,\n",
              " 13,\n",
              " 48,\n",
              " 31,\n",
              " 2,\n",
              " 47,\n",
              " 12,\n",
              " 51,\n",
              " 48,\n",
              " 38,\n",
              " 45,\n",
              " 7,\n",
              " 47,\n",
              " 56,\n",
              " 13,\n",
              " 0,\n",
              " 47,\n",
              " 9,\n",
              " 12,\n",
              " 48,\n",
              " 13,\n",
              " 2,\n",
              " 47,\n",
              " 7,\n",
              " 47,\n",
              " 13,\n",
              " 48,\n",
              " 0,\n",
              " 2,\n",
              " 27,\n",
              " 9,\n",
              " 27,\n",
              " 13,\n",
              " 34,\n",
              " 27,\n",
              " 35,\n",
              " 52,\n",
              " 13,\n",
              " 51,\n",
              " 48,\n",
              " 31,\n",
              " 48,\n",
              " 2,\n",
              " 12,\n",
              " 27,\n",
              " 31,\n",
              " 2,\n",
              " 48,\n",
              " 13,\n",
              " 38,\n",
              " 27,\n",
              " 51,\n",
              " 27,\n",
              " 38,\n",
              " 45,\n",
              " 7,\n",
              " 27,\n",
              " 7,\n",
              " 13,\n",
              " 7,\n",
              " 48,\n",
              " 13,\n",
              " 47,\n",
              " 29,\n",
              " 12,\n",
              " 56,\n",
              " 13,\n",
              " 33,\n",
              " 47,\n",
              " 13,\n",
              " 47,\n",
              " 29,\n",
              " 13,\n",
              " 2,\n",
              " 47,\n",
              " 7,\n",
              " 27,\n",
              " 0,\n",
              " 13,\n",
              " 34,\n",
              " 27,\n",
              " 0,\n",
              " 13,\n",
              " 38,\n",
              " 47,\n",
              " 0,\n",
              " 27,\n",
              " 0,\n",
              " 13,\n",
              " 48,\n",
              " 31,\n",
              " 13,\n",
              " 48,\n",
              " 34,\n",
              " 13,\n",
              " 38,\n",
              " 45,\n",
              " 48,\n",
              " 34,\n",
              " 47,\n",
              " 13,\n",
              " 33,\n",
              " 13,\n",
              " 48,\n",
              " 31,\n",
              " 13,\n",
              " 34,\n",
              " 27,\n",
              " 13,\n",
              " 35,\n",
              " 52,\n",
              " 2,\n",
              " 45,\n",
              " 48,\n",
              " 12,\n",
              " 12,\n",
              " 27,\n",
              " 56,\n",
              " 13,\n",
              " 33,\n",
              " 47,\n",
              " 13,\n",
              " 47,\n",
              " 29,\n",
              " 13,\n",
              " 3,\n",
              " 41,\n",
              " 38,\n",
              " 21,\n",
              " 27,\n",
              " 0,\n",
              " 13,\n",
              " 38,\n",
              " 47,\n",
              " 0,\n",
              " 27,\n",
              " 0,\n",
              " 13,\n",
              " 48,\n",
              " 31,\n",
              " 13,\n",
              " 48,\n",
              " 34,\n",
              " 13,\n",
              " 45,\n",
              " 31,\n",
              " 16,\n",
              " 45,\n",
              " 48,\n",
              " 12,\n",
              " 31,\n",
              " 47,\n",
              " 56,\n",
              " 13,\n",
              " 23,\n",
              " 38,\n",
              " 37,\n",
              " 3,\n",
              " 47,\n",
              " 13,\n",
              " 48,\n",
              " 31,\n",
              " 2,\n",
              " 47,\n",
              " 31,\n",
              " 38,\n",
              " 48,\n",
              " 0,\n",
              " 13,\n",
              " 0,\n",
              " 47,\n",
              " 33,\n",
              " 13,\n",
              " 33,\n",
              " 47,\n",
              " 13,\n",
              " 34,\n",
              " 47,\n",
              " 38,\n",
              " 47,\n",
              " 22,\n",
              " 13,\n",
              " 35,\n",
              " 52,\n",
              " 4,\n",
              " 48,\n",
              " 0,\n",
              " 38,\n",
              " 41,\n",
              " 38,\n",
              " 21,\n",
              " 48,\n",
              " 31,\n",
              " 5,\n",
              " 13,\n",
              " 33,\n",
              " 13,\n",
              " 47,\n",
              " 9,\n",
              " 0,\n",
              " 48,\n",
              " 12,\n",
              " 44,\n",
              " 48,\n",
              " 31,\n",
              " 13,\n",
              " 38,\n",
              " 41,\n",
              " 27,\n",
              " 31,\n",
              " 13,\n",
              " 12,\n",
              " 27,\n",
              " 1,\n",
              " 47,\n",
              " 31,\n",
              " 27,\n",
              " 9,\n",
              " 34,\n",
              " 48,\n",
              " 3,\n",
              " 48,\n",
              " 31,\n",
              " 2,\n",
              " 48,\n",
              " 36,\n",
              " 13,\n",
              " 38,\n",
              " 41,\n",
              " 27,\n",
              " 31,\n",
              " 13,\n",
              " 0,\n",
              " 48,\n",
              " 12,\n",
              " 48,\n",
              " 31,\n",
              " 27,\n",
              " 3,\n",
              " 48,\n",
              " 31,\n",
              " 2,\n",
              " 48,\n",
              " 36,\n",
              " 13,\n",
              " 51,\n",
              " 41,\n",
              " 48,\n",
              " 7,\n",
              " 47,\n",
              " 13,\n",
              " 35,\n",
              " 52,\n",
              " 38,\n",
              " 47,\n",
              " 31,\n",
              " 2,\n",
              " 27,\n",
              " 12,\n",
              " 34,\n",
              " 48,\n",
              " 0,\n",
              " 13,\n",
              " 2,\n",
              " 47,\n",
              " 7,\n",
              " 27,\n",
              " 13,\n",
              " 34,\n",
              " 27,\n",
              " 13,\n",
              " 21,\n",
              " 45,\n",
              " 0,\n",
              " 2,\n",
              " 47,\n",
              " 12,\n",
              " 45,\n",
              " 27,\n",
              " 56,\n",
              " 13,\n",
              " 48,\n",
              " 0,\n",
              " 13,\n",
              " 45,\n",
              " 3,\n",
              " 51,\n",
              " 47,\n",
              " 0,\n",
              " 45,\n",
              " 9,\n",
              " 34,\n",
              " 48,\n",
              " 13,\n",
              " 7,\n",
              " 48,\n",
              " 38,\n",
              " 45,\n",
              " 12,\n",
              " 13,\n",
              " 38,\n",
              " 37,\n",
              " 3,\n",
              " 47,\n",
              " 13,\n",
              " 51,\n",
              " 12,\n",
              " 45,\n",
              " 3,\n",
              " 48,\n",
              " 12,\n",
              " 47,\n",
              " 13,\n",
              " 34,\n",
              " 27,\n",
              " 13,\n",
              " 45,\n",
              " 7,\n",
              " 48,\n",
              " 27,\n",
              " 13,\n",
              " 48,\n",
              " 31,\n",
              " 2,\n",
              " 12,\n",
              " 37,\n",
              " 13,\n",
              " 48,\n",
              " 31,\n",
              " 13,\n",
              " 3,\n",
              " 45,\n",
              " 13,\n",
              " 38,\n",
              " 48,\n",
              " 12,\n",
              " 48,\n",
              " 9,\n",
              " 12,\n",
              " 47,\n",
              " 36,\n",
              " 13,\n",
              " 51,\n",
              " 48,\n",
              " 12,\n",
              " 47,\n",
              " 36,\n",
              " 13,\n",
              " 35,\n",
              " 52,\n",
              " 41,\n",
              " 31,\n",
              " 27,\n",
              " 13,\n",
              " 44,\n",
              " 48,\n",
              " 1,\n",
              " 13,\n",
              " 38,\n",
              " 47,\n",
              " 31,\n",
              " 38,\n",
              " 48,\n",
              " 9,\n",
              " 45,\n",
              " 7,\n",
              " 27,\n",
              " 36,\n",
              " 13,\n",
              " 3,\n",
              " 48,\n",
              " 13,\n",
              " 27,\n",
              " 38,\n",
              " 47,\n",
              " 0,\n",
              " 37,\n",
              " 13,\n",
              " 7,\n",
              " 29,\n",
              " 27,\n",
              " 13,\n",
              " 33,\n",
              " 13,\n",
              " 31,\n",
              " 47,\n",
              " 38,\n",
              " 21,\n",
              " 48,\n",
              " 56,\n",
              " 13,\n",
              " 47,\n",
              " 9,\n",
              " 53,\n",
              " 48,\n",
              " 2,\n",
              " 47,\n",
              " 13,\n",
              " 31,\n",
              " 47,\n",
              " 13,\n",
              " 21,\n",
              " 27,\n",
              " 9,\n",
              " 29,\n",
              " 27,\n",
              " 13,\n",
              " 31,\n",
              " 45,\n",
              " 31,\n",
              " 46,\n",
              " 41,\n",
              " 31,\n",
              " 47,\n",
              " 56,\n",
              " 13,\n",
              " 51,\n",
              " 27,\n",
              " 0,\n",
              " 45,\n",
              " 37,\n",
              " 31,\n",
              " 35,\n",
              " 52,\n",
              " 13,\n",
              " 31,\n",
              " 47,\n",
              " 13,\n",
              " 21,\n",
              " 27,\n",
              " 9,\n",
              " 29,\n",
              " 27,\n",
              " 13,\n",
              " 31,\n",
              " 45,\n",
              " 31,\n",
              " 46,\n",
              " 41,\n",
              " 31,\n",
              " 27,\n",
              " 56,\n",
              " 13,\n",
              " 33,\n",
              " 47,\n",
              " 13,\n",
              " 27,\n",
              " 3,\n",
              " 50,\n",
              " 13,\n",
              " 27,\n",
              " 34,\n",
              " 13,\n",
              " 44,\n",
              " 45,\n",
              " 48,\n",
              " 53,\n",
              " 47,\n",
              " 56,\n",
              " 13,\n",
              " 48,\n",
              " 34,\n",
              " 13,\n",
              " 31,\n",
              " 41,\n",
              " 31,\n",
              " 38,\n",
              " 27,\n",
              " 13,\n",
              " 3,\n",
              " 48,\n",
              " 13,\n",
              " 21,\n",
              " 27,\n",
              " 9,\n",
              " 29,\n",
              " 27,\n",
              " 13,\n",
              " 21,\n",
              " 48,\n",
              " 38,\n",
              " 21,\n",
              " 47,\n",
              " 13,\n",
              " 3,\n",
              " 27,\n",
              " 34,\n",
              " 56,\n",
              " 13,\n",
              " 50,\n",
              " 34,\n",
              " 13,\n",
              " 31,\n",
              " 47,\n",
              " 13,\n",
              " 35,\n",
              " 52,\n",
              " 3,\n",
              " 48,\n",
              " 13,\n",
              " 21,\n",
              " 27,\n",
              " 9,\n",
              " 29,\n",
              " 27,\n",
              " 13,\n",
              " 45,\n",
              " 31,\n",
              " 0,\n",
              " 41,\n",
              " 34,\n",
              " 2,\n",
              " 27,\n",
              " 7,\n",
              " 47,\n",
              " 56,\n",
              " 13,\n",
              " 7,\n",
              " 48,\n",
              " 13,\n",
              " 0,\n",
              " 41,\n",
              " 13,\n",
              " 47,\n",
              " 12,\n",
              " 47,\n",
              " 13,\n",
              " 31,\n",
              " 47,\n",
              " 13,\n",
              " 2,\n",
              " 41,\n",
              " 44,\n",
              " 48,\n",
              " 13,\n",
              " 31,\n",
              " 45,\n",
              " 31,\n",
              " 46,\n",
              " 14,\n",
              " 31,\n",
              " 13,\n",
              " 7,\n",
              " 48,\n",
              " 0,\n",
              " 48,\n",
              " 47,\n",
              " 56,\n",
              " 13,\n",
              " 4,\n",
              " 38,\n",
              " 12,\n",
              " 48,\n",
              " 47,\n",
              " 13,\n",
              " 26,\n",
              " 41,\n",
              " 48,\n",
              " 13,\n",
              " 16,\n",
              " 41,\n",
              " 48,\n",
              " 13,\n",
              " 0,\n",
              " 41,\n",
              " 13,\n",
              " 47,\n",
              " 53,\n",
              " 47,\n",
              " 5,\n",
              " 13,\n",
              " 0,\n",
              " 29,\n",
              " 36,\n",
              " 13,\n",
              " 4,\n",
              " 16,\n",
              " 41,\n",
              " 48,\n",
              " 13,\n",
              " 48,\n",
              " 0,\n",
              " 47,\n",
              " 5,\n",
              " 13,\n",
              " 35,\n",
              " 52,\n",
              " 41,\n",
              " 31,\n",
              " 47,\n",
              " 13,\n",
              " 7,\n",
              " 48,\n",
              " 13,\n",
              " 0,\n",
              " 41,\n",
              " 0,\n",
              " 13,\n",
              " 47,\n",
              " 53,\n",
              " 47,\n",
              " 0,\n",
              " 13,\n",
              " 51,\n",
              " 27,\n",
              " 12,\n",
              " 48,\n",
              " 38,\n",
              " 29,\n",
              " 27,\n",
              " 13,\n",
              " 38,\n",
              " 47,\n",
              " 3,\n",
              " 47,\n",
              " 13,\n",
              " 48,\n",
              " 34,\n",
              " 13,\n",
              " 7,\n",
              " 48,\n",
              " 13,\n",
              " 41,\n",
              " 31,\n",
              " 13,\n",
              " 9,\n",
              " 41,\n",
              " 45,\n",
              " 2,\n",
              " 12,\n",
              " 48,\n",
              " 13,\n",
              " 39,\n",
              " 13,\n",
              " 41,\n",
              " 31,\n",
              " 13,\n",
              " 47,\n",
              " 53,\n",
              " 47,\n",
              " 13,\n",
              " 27,\n",
              " 1,\n",
              " 41,\n",
              " 34,\n",
              " 13,\n",
              " 51,\n",
              " 54,\n",
              " 34,\n",
              " 45,\n",
              " 7,\n",
              " 47,\n",
              " 13,\n",
              " 38,\n",
              " 47,\n",
              " 31,\n",
              " 13,\n",
              " 35,\n",
              " 52,\n",
              " 41,\n",
              " 31,\n",
              " 27,\n",
              " 13,\n",
              " 31,\n",
              " 41,\n",
              " 9,\n",
              " 48,\n",
              " 13,\n",
              " 48,\n",
              " 31,\n",
              " 38,\n",
              " 45,\n",
              " 3,\n",
              " 27,\n",
              " 56,\n",
              " 13,\n",
              " 38,\n",
              " 27,\n",
              " 7,\n",
              " 27,\n",
              " 13,\n",
              " 44,\n",
              " 48,\n",
              " 1,\n",
              " 13,\n",
              " 26,\n",
              " 41,\n",
              " 48,\n",
              " 13,\n",
              " 38,\n",
              " 27,\n",
              " 29,\n",
              " 27,\n",
              " 13,\n",
              " 0,\n",
              " 47,\n",
              " 9,\n",
              " 12,\n",
              " 48,\n",
              " 13,\n",
              " 3,\n",
              " 29,\n",
              " 36,\n",
              " 13,\n",
              " 34,\n",
              " 27,\n",
              " 13,\n",
              " 0,\n",
              " 27,\n",
              " 31,\n",
              " 46,\n",
              " 12,\n",
              " 48,\n",
              " 13,\n",
              " 0,\n",
              " 48,\n",
              " 13,\n",
              " 3,\n",
              " 48,\n",
              " 13,\n",
              " 21,\n",
              " 48,\n",
              " 34,\n",
              " 27,\n",
              " 9,\n",
              " 27,\n",
              " 36,\n",
              " 13,\n",
              " 33,\n",
              " 13,\n",
              " 48,\n",
              " 31,\n",
              " 2,\n",
              " 47,\n",
              " 31,\n",
              " 38,\n",
              " 48,\n",
              " 0,\n",
              " 13,\n",
              " 7,\n",
              " 48,\n",
              " 13,\n",
              " 27,\n",
              " 13,\n",
              " 35,\n",
              " 52,\n",
              " 51,\n",
              " 47,\n",
              " 38,\n",
              " 47,\n",
              " 36,\n",
              " 13,\n",
              " 3,\n",
              " 41,\n",
              " 33,\n",
              " 13,\n",
              " 46,\n",
              " 12,\n",
              " 27,\n",
              " 7,\n",
              " 41,\n",
              " 27,\n",
              " 34,\n",
              " 3,\n",
              " 48,\n",
              " 31,\n",
              " 2,\n",
              " 48,\n",
              " 36,\n",
              " 13,\n",
              " 3,\n",
              " 48,\n",
              " 13,\n",
              " 7,\n",
              " 48,\n",
              " 38,\n",
              " 45,\n",
              " 7,\n",
              " 29,\n",
              " 13,\n",
              " 27,\n",
              " 13,\n",
              " 2,\n",
              " 47,\n",
              " 3,\n",
              " 27,\n",
              " 12,\n",
              " 13,\n",
              " 34,\n",
              " 27,\n",
              " 13,\n",
              " 44,\n",
              " 45,\n",
              " 7,\n",
              " 27,\n",
              " 13,\n",
              " 7,\n",
              " 48,\n",
              " 34,\n",
              " 13,\n",
              " 44,\n",
              " 45,\n",
              " 48,\n",
              " 53,\n",
              " 47,\n",
              " 36,\n",
              " 13,\n",
              " 33,\n",
              " 13,\n",
              " 27,\n",
              " 0,\n",
              " 29,\n",
              " 13,\n",
              " 35,\n",
              " 52,\n",
              " 34,\n",
              " 45,\n",
              " 9,\n",
              " 12,\n",
              " 27,\n",
              " 12]"
            ]
          },
          "metadata": {},
          "execution_count": 7
        }
      ]
    },
    {
      "cell_type": "markdown",
      "source": [
        "## Estructurado del DataSet\n",
        "\n",
        "Se separa el dataset en entrenamiento y validación"
      ],
      "metadata": {
        "id": "5EEALghHzqA8"
      }
    },
    {
      "cell_type": "code",
      "source": [
        "# Separamos el dataset entre entrenamineto y validacion\n",
        "p_val = 0.1\n",
        "num_val = int(np.ceil(len(tokenized_text)*p_val/max_context_size))\n",
        "\n",
        "train_text = tokenized_text[:-num_val*max_context_size]\n",
        "val_text = tokenized_text[-num_val*max_context_size:]"
      ],
      "metadata": {
        "id": "eMqQwK2fzsaB"
      },
      "execution_count": 8,
      "outputs": []
    },
    {
      "cell_type": "code",
      "source": [
        "tokenized_sentences_val = [val_text[init*max_context_size:init*(max_context_size+1)] for init in range(num_val)]\n",
        "tokenized_sentences_train = [train_text[init:init+max_context_size] for init in range(len(train_text)-max_context_size+1)]\n",
        "\n",
        "X = np.array(tokenized_sentences_train[:-1])\n",
        "y = np.array(tokenized_sentences_train[1:])"
      ],
      "metadata": {
        "id": "8ackgQmb1wtc"
      },
      "execution_count": 9,
      "outputs": []
    },
    {
      "cell_type": "code",
      "source": [
        "X.shape"
      ],
      "metadata": {
        "colab": {
          "base_uri": "https://localhost:8080/"
        },
        "id": "HqMmvgyT2G07",
        "outputId": "dfb64542-b65f-4fc0-cf27-f708e4ffb43f"
      },
      "execution_count": 10,
      "outputs": [
        {
          "output_type": "execute_result",
          "data": {
            "text/plain": [
              "(11387, 100)"
            ]
          },
          "metadata": {},
          "execution_count": 10
        }
      ]
    },
    {
      "cell_type": "code",
      "source": [
        "X[0,:10]"
      ],
      "metadata": {
        "colab": {
          "base_uri": "https://localhost:8080/"
        },
        "id": "N8jY2mtG2mzt",
        "outputId": "8edcdd64-a0ad-4622-873a-d180df5067f0"
      },
      "execution_count": 11,
      "outputs": [
        {
          "output_type": "execute_result",
          "data": {
            "text/plain": [
              "array([13,  4, 48,  0, 13, 44, 48, 12,  7, 27])"
            ]
          },
          "metadata": {},
          "execution_count": 11
        }
      ]
    },
    {
      "cell_type": "code",
      "source": [
        "y[0,:10]"
      ],
      "metadata": {
        "colab": {
          "base_uri": "https://localhost:8080/"
        },
        "id": "Go8Cng8w2tPl",
        "outputId": "e794ab61-afe4-4dd8-c72e-668b41cd18e2"
      },
      "execution_count": 12,
      "outputs": [
        {
          "output_type": "execute_result",
          "data": {
            "text/plain": [
              "array([ 4, 48,  0, 13, 44, 48, 12,  7, 27,  7])"
            ]
          },
          "metadata": {},
          "execution_count": 12
        }
      ]
    },
    {
      "cell_type": "code",
      "source": [
        "vocabulary_size = len(chars_vocabulary)"
      ],
      "metadata": {
        "id": "Se9b9pGh21fp"
      },
      "execution_count": 13,
      "outputs": []
    },
    {
      "cell_type": "markdown",
      "source": [
        "## Definiendo el Modelo\n",
        "\n",
        "De forma similar a lo realizado con el modelo de lenguaje por palabras, se procede a analizar los siguientes tres modelos:\n",
        "\n",
        "- LSTM\n",
        "- SimpleRNN\n",
        "- GRU\n",
        "\n",
        "Para los tres modelos se realiza en principio la transformación a vectores One-Hot Encoding mediante la combinacion de la capa de \"CategoryEncoding\" y \"TimeDistributed\""
      ],
      "metadata": {
        "id": "EwBqgtdo3qJ4"
      }
    },
    {
      "cell_type": "markdown",
      "source": [
        "### Primer Modelo\n",
        "\n",
        "LSTM"
      ],
      "metadata": {
        "id": "VXgv44A2jql1"
      }
    },
    {
      "cell_type": "code",
      "source": [
        "# Modelo basado en LSTM\n",
        "model_LSTM = Sequential()\n",
        "\n",
        "# Capa de One-hot encoding\n",
        "model_LSTM.add(TimeDistributed(CategoryEncoding(num_tokens=vocabulary_size, output_mode = \"one_hot\"),input_shape=(None,1)))\n",
        "\n",
        "# Primera capa LSTM\n",
        "model_LSTM.add(LSTM(100, return_sequences=True, dropout=0.1, recurrent_dropout=0.1))\n",
        "\n",
        "# Capa de salida\n",
        "model_LSTM.add(Dense(vocabulary_size, activation='softmax'))\n",
        "\n",
        "# Se compila el modelo\n",
        "model_LSTM.compile(loss='sparse_categorical_crossentropy', optimizer='rmsprop')\n",
        "\n",
        "model_LSTM.summary()\n"
      ],
      "metadata": {
        "colab": {
          "base_uri": "https://localhost:8080/",
          "height": 280
        },
        "id": "Xwp5FzBM3r9M",
        "outputId": "494a4321-7aa2-45d3-ad5a-076c92e3a4e5"
      },
      "execution_count": 14,
      "outputs": [
        {
          "output_type": "stream",
          "name": "stderr",
          "text": [
            "/usr/local/lib/python3.10/dist-packages/keras/src/layers/core/wrapper.py:27: UserWarning: Do not pass an `input_shape`/`input_dim` argument to a layer. When using Sequential models, prefer using an `Input(shape)` object as the first layer in the model instead.\n",
            "  super().__init__(**kwargs)\n"
          ]
        },
        {
          "output_type": "display_data",
          "data": {
            "text/plain": [
              "\u001b[1mModel: \"sequential\"\u001b[0m\n"
            ],
            "text/html": [
              "<pre style=\"white-space:pre;overflow-x:auto;line-height:normal;font-family:Menlo,'DejaVu Sans Mono',consolas,'Courier New',monospace\"><span style=\"font-weight: bold\">Model: \"sequential\"</span>\n",
              "</pre>\n"
            ]
          },
          "metadata": {}
        },
        {
          "output_type": "display_data",
          "data": {
            "text/plain": [
              "┏━━━━━━━━━━━━━━━━━━━━━━━━━━━━━━━━━━━━━━┳━━━━━━━━━━━━━━━━━━━━━━━━━━━━━┳━━━━━━━━━━━━━━━━━┓\n",
              "┃\u001b[1m \u001b[0m\u001b[1mLayer (type)                        \u001b[0m\u001b[1m \u001b[0m┃\u001b[1m \u001b[0m\u001b[1mOutput Shape               \u001b[0m\u001b[1m \u001b[0m┃\u001b[1m \u001b[0m\u001b[1m        Param #\u001b[0m\u001b[1m \u001b[0m┃\n",
              "┡━━━━━━━━━━━━━━━━━━━━━━━━━━━━━━━━━━━━━━╇━━━━━━━━━━━━━━━━━━━━━━━━━━━━━╇━━━━━━━━━━━━━━━━━┩\n",
              "│ time_distributed (\u001b[38;5;33mTimeDistributed\u001b[0m)   │ (\u001b[38;5;45mNone\u001b[0m, \u001b[38;5;45mNone\u001b[0m, \u001b[38;5;34m57\u001b[0m)            │               \u001b[38;5;34m0\u001b[0m │\n",
              "├──────────────────────────────────────┼─────────────────────────────┼─────────────────┤\n",
              "│ lstm (\u001b[38;5;33mLSTM\u001b[0m)                          │ (\u001b[38;5;45mNone\u001b[0m, \u001b[38;5;45mNone\u001b[0m, \u001b[38;5;34m100\u001b[0m)           │          \u001b[38;5;34m63,200\u001b[0m │\n",
              "├──────────────────────────────────────┼─────────────────────────────┼─────────────────┤\n",
              "│ dense (\u001b[38;5;33mDense\u001b[0m)                        │ (\u001b[38;5;45mNone\u001b[0m, \u001b[38;5;45mNone\u001b[0m, \u001b[38;5;34m57\u001b[0m)            │           \u001b[38;5;34m5,757\u001b[0m │\n",
              "└──────────────────────────────────────┴─────────────────────────────┴─────────────────┘\n"
            ],
            "text/html": [
              "<pre style=\"white-space:pre;overflow-x:auto;line-height:normal;font-family:Menlo,'DejaVu Sans Mono',consolas,'Courier New',monospace\">┏━━━━━━━━━━━━━━━━━━━━━━━━━━━━━━━━━━━━━━┳━━━━━━━━━━━━━━━━━━━━━━━━━━━━━┳━━━━━━━━━━━━━━━━━┓\n",
              "┃<span style=\"font-weight: bold\"> Layer (type)                         </span>┃<span style=\"font-weight: bold\"> Output Shape                </span>┃<span style=\"font-weight: bold\">         Param # </span>┃\n",
              "┡━━━━━━━━━━━━━━━━━━━━━━━━━━━━━━━━━━━━━━╇━━━━━━━━━━━━━━━━━━━━━━━━━━━━━╇━━━━━━━━━━━━━━━━━┩\n",
              "│ time_distributed (<span style=\"color: #0087ff; text-decoration-color: #0087ff\">TimeDistributed</span>)   │ (<span style=\"color: #00d7ff; text-decoration-color: #00d7ff\">None</span>, <span style=\"color: #00d7ff; text-decoration-color: #00d7ff\">None</span>, <span style=\"color: #00af00; text-decoration-color: #00af00\">57</span>)            │               <span style=\"color: #00af00; text-decoration-color: #00af00\">0</span> │\n",
              "├──────────────────────────────────────┼─────────────────────────────┼─────────────────┤\n",
              "│ lstm (<span style=\"color: #0087ff; text-decoration-color: #0087ff\">LSTM</span>)                          │ (<span style=\"color: #00d7ff; text-decoration-color: #00d7ff\">None</span>, <span style=\"color: #00d7ff; text-decoration-color: #00d7ff\">None</span>, <span style=\"color: #00af00; text-decoration-color: #00af00\">100</span>)           │          <span style=\"color: #00af00; text-decoration-color: #00af00\">63,200</span> │\n",
              "├──────────────────────────────────────┼─────────────────────────────┼─────────────────┤\n",
              "│ dense (<span style=\"color: #0087ff; text-decoration-color: #0087ff\">Dense</span>)                        │ (<span style=\"color: #00d7ff; text-decoration-color: #00d7ff\">None</span>, <span style=\"color: #00d7ff; text-decoration-color: #00d7ff\">None</span>, <span style=\"color: #00af00; text-decoration-color: #00af00\">57</span>)            │           <span style=\"color: #00af00; text-decoration-color: #00af00\">5,757</span> │\n",
              "└──────────────────────────────────────┴─────────────────────────────┴─────────────────┘\n",
              "</pre>\n"
            ]
          },
          "metadata": {}
        },
        {
          "output_type": "display_data",
          "data": {
            "text/plain": [
              "\u001b[1m Total params: \u001b[0m\u001b[38;5;34m68,957\u001b[0m (269.36 KB)\n"
            ],
            "text/html": [
              "<pre style=\"white-space:pre;overflow-x:auto;line-height:normal;font-family:Menlo,'DejaVu Sans Mono',consolas,'Courier New',monospace\"><span style=\"font-weight: bold\"> Total params: </span><span style=\"color: #00af00; text-decoration-color: #00af00\">68,957</span> (269.36 KB)\n",
              "</pre>\n"
            ]
          },
          "metadata": {}
        },
        {
          "output_type": "display_data",
          "data": {
            "text/plain": [
              "\u001b[1m Trainable params: \u001b[0m\u001b[38;5;34m68,957\u001b[0m (269.36 KB)\n"
            ],
            "text/html": [
              "<pre style=\"white-space:pre;overflow-x:auto;line-height:normal;font-family:Menlo,'DejaVu Sans Mono',consolas,'Courier New',monospace\"><span style=\"font-weight: bold\"> Trainable params: </span><span style=\"color: #00af00; text-decoration-color: #00af00\">68,957</span> (269.36 KB)\n",
              "</pre>\n"
            ]
          },
          "metadata": {}
        },
        {
          "output_type": "display_data",
          "data": {
            "text/plain": [
              "\u001b[1m Non-trainable params: \u001b[0m\u001b[38;5;34m0\u001b[0m (0.00 B)\n"
            ],
            "text/html": [
              "<pre style=\"white-space:pre;overflow-x:auto;line-height:normal;font-family:Menlo,'DejaVu Sans Mono',consolas,'Courier New',monospace\"><span style=\"font-weight: bold\"> Non-trainable params: </span><span style=\"color: #00af00; text-decoration-color: #00af00\">0</span> (0.00 B)\n",
              "</pre>\n"
            ]
          },
          "metadata": {}
        }
      ]
    },
    {
      "cell_type": "markdown",
      "source": [
        "### Segundo Modelo\n",
        "\n",
        "SimpleRNN"
      ],
      "metadata": {
        "id": "WdTdhzdTjvcZ"
      }
    },
    {
      "cell_type": "code",
      "source": [
        "model_simpleRNN = Sequential()\n",
        "\n",
        "# Capa de One-Hot Encoding\n",
        "model_simpleRNN.add(TimeDistributed(CategoryEncoding(num_tokens=vocabulary_size, output_mode = \"one_hot\"),input_shape=(None,1)))\n",
        "\n",
        "# Capa SimpleRNN\n",
        "model_simpleRNN.add(SimpleRNN(200, return_sequences=True, dropout=0.1, recurrent_dropout=0.1 ))\n",
        "\n",
        "# Capa de salida\n",
        "model_simpleRNN.add(Dense(vocabulary_size, activation='softmax'))\n",
        "\n",
        "# Compilamos el modelo\n",
        "model_simpleRNN.compile(loss='sparse_categorical_crossentropy', optimizer='rmsprop')\n",
        "\n",
        "model_simpleRNN.summary()"
      ],
      "metadata": {
        "colab": {
          "base_uri": "https://localhost:8080/",
          "height": 225
        },
        "id": "BFprHx9jj4UQ",
        "outputId": "d8c9c4f5-4332-40ce-996d-0ce3dca05d8e"
      },
      "execution_count": 15,
      "outputs": [
        {
          "output_type": "display_data",
          "data": {
            "text/plain": [
              "\u001b[1mModel: \"sequential_1\"\u001b[0m\n"
            ],
            "text/html": [
              "<pre style=\"white-space:pre;overflow-x:auto;line-height:normal;font-family:Menlo,'DejaVu Sans Mono',consolas,'Courier New',monospace\"><span style=\"font-weight: bold\">Model: \"sequential_1\"</span>\n",
              "</pre>\n"
            ]
          },
          "metadata": {}
        },
        {
          "output_type": "display_data",
          "data": {
            "text/plain": [
              "┏━━━━━━━━━━━━━━━━━━━━━━━━━━━━━━━━━━━━━━┳━━━━━━━━━━━━━━━━━━━━━━━━━━━━━┳━━━━━━━━━━━━━━━━━┓\n",
              "┃\u001b[1m \u001b[0m\u001b[1mLayer (type)                        \u001b[0m\u001b[1m \u001b[0m┃\u001b[1m \u001b[0m\u001b[1mOutput Shape               \u001b[0m\u001b[1m \u001b[0m┃\u001b[1m \u001b[0m\u001b[1m        Param #\u001b[0m\u001b[1m \u001b[0m┃\n",
              "┡━━━━━━━━━━━━━━━━━━━━━━━━━━━━━━━━━━━━━━╇━━━━━━━━━━━━━━━━━━━━━━━━━━━━━╇━━━━━━━━━━━━━━━━━┩\n",
              "│ time_distributed_1 (\u001b[38;5;33mTimeDistributed\u001b[0m) │ (\u001b[38;5;45mNone\u001b[0m, \u001b[38;5;45mNone\u001b[0m, \u001b[38;5;34m57\u001b[0m)            │               \u001b[38;5;34m0\u001b[0m │\n",
              "├──────────────────────────────────────┼─────────────────────────────┼─────────────────┤\n",
              "│ simple_rnn (\u001b[38;5;33mSimpleRNN\u001b[0m)               │ (\u001b[38;5;45mNone\u001b[0m, \u001b[38;5;45mNone\u001b[0m, \u001b[38;5;34m200\u001b[0m)           │          \u001b[38;5;34m51,600\u001b[0m │\n",
              "├──────────────────────────────────────┼─────────────────────────────┼─────────────────┤\n",
              "│ dense_1 (\u001b[38;5;33mDense\u001b[0m)                      │ (\u001b[38;5;45mNone\u001b[0m, \u001b[38;5;45mNone\u001b[0m, \u001b[38;5;34m57\u001b[0m)            │          \u001b[38;5;34m11,457\u001b[0m │\n",
              "└──────────────────────────────────────┴─────────────────────────────┴─────────────────┘\n"
            ],
            "text/html": [
              "<pre style=\"white-space:pre;overflow-x:auto;line-height:normal;font-family:Menlo,'DejaVu Sans Mono',consolas,'Courier New',monospace\">┏━━━━━━━━━━━━━━━━━━━━━━━━━━━━━━━━━━━━━━┳━━━━━━━━━━━━━━━━━━━━━━━━━━━━━┳━━━━━━━━━━━━━━━━━┓\n",
              "┃<span style=\"font-weight: bold\"> Layer (type)                         </span>┃<span style=\"font-weight: bold\"> Output Shape                </span>┃<span style=\"font-weight: bold\">         Param # </span>┃\n",
              "┡━━━━━━━━━━━━━━━━━━━━━━━━━━━━━━━━━━━━━━╇━━━━━━━━━━━━━━━━━━━━━━━━━━━━━╇━━━━━━━━━━━━━━━━━┩\n",
              "│ time_distributed_1 (<span style=\"color: #0087ff; text-decoration-color: #0087ff\">TimeDistributed</span>) │ (<span style=\"color: #00d7ff; text-decoration-color: #00d7ff\">None</span>, <span style=\"color: #00d7ff; text-decoration-color: #00d7ff\">None</span>, <span style=\"color: #00af00; text-decoration-color: #00af00\">57</span>)            │               <span style=\"color: #00af00; text-decoration-color: #00af00\">0</span> │\n",
              "├──────────────────────────────────────┼─────────────────────────────┼─────────────────┤\n",
              "│ simple_rnn (<span style=\"color: #0087ff; text-decoration-color: #0087ff\">SimpleRNN</span>)               │ (<span style=\"color: #00d7ff; text-decoration-color: #00d7ff\">None</span>, <span style=\"color: #00d7ff; text-decoration-color: #00d7ff\">None</span>, <span style=\"color: #00af00; text-decoration-color: #00af00\">200</span>)           │          <span style=\"color: #00af00; text-decoration-color: #00af00\">51,600</span> │\n",
              "├──────────────────────────────────────┼─────────────────────────────┼─────────────────┤\n",
              "│ dense_1 (<span style=\"color: #0087ff; text-decoration-color: #0087ff\">Dense</span>)                      │ (<span style=\"color: #00d7ff; text-decoration-color: #00d7ff\">None</span>, <span style=\"color: #00d7ff; text-decoration-color: #00d7ff\">None</span>, <span style=\"color: #00af00; text-decoration-color: #00af00\">57</span>)            │          <span style=\"color: #00af00; text-decoration-color: #00af00\">11,457</span> │\n",
              "└──────────────────────────────────────┴─────────────────────────────┴─────────────────┘\n",
              "</pre>\n"
            ]
          },
          "metadata": {}
        },
        {
          "output_type": "display_data",
          "data": {
            "text/plain": [
              "\u001b[1m Total params: \u001b[0m\u001b[38;5;34m63,057\u001b[0m (246.32 KB)\n"
            ],
            "text/html": [
              "<pre style=\"white-space:pre;overflow-x:auto;line-height:normal;font-family:Menlo,'DejaVu Sans Mono',consolas,'Courier New',monospace\"><span style=\"font-weight: bold\"> Total params: </span><span style=\"color: #00af00; text-decoration-color: #00af00\">63,057</span> (246.32 KB)\n",
              "</pre>\n"
            ]
          },
          "metadata": {}
        },
        {
          "output_type": "display_data",
          "data": {
            "text/plain": [
              "\u001b[1m Trainable params: \u001b[0m\u001b[38;5;34m63,057\u001b[0m (246.32 KB)\n"
            ],
            "text/html": [
              "<pre style=\"white-space:pre;overflow-x:auto;line-height:normal;font-family:Menlo,'DejaVu Sans Mono',consolas,'Courier New',monospace\"><span style=\"font-weight: bold\"> Trainable params: </span><span style=\"color: #00af00; text-decoration-color: #00af00\">63,057</span> (246.32 KB)\n",
              "</pre>\n"
            ]
          },
          "metadata": {}
        },
        {
          "output_type": "display_data",
          "data": {
            "text/plain": [
              "\u001b[1m Non-trainable params: \u001b[0m\u001b[38;5;34m0\u001b[0m (0.00 B)\n"
            ],
            "text/html": [
              "<pre style=\"white-space:pre;overflow-x:auto;line-height:normal;font-family:Menlo,'DejaVu Sans Mono',consolas,'Courier New',monospace\"><span style=\"font-weight: bold\"> Non-trainable params: </span><span style=\"color: #00af00; text-decoration-color: #00af00\">0</span> (0.00 B)\n",
              "</pre>\n"
            ]
          },
          "metadata": {}
        }
      ]
    },
    {
      "cell_type": "markdown",
      "source": [
        "### Tercer Modelo\n",
        "GRU"
      ],
      "metadata": {
        "id": "OvaaUAApj5bH"
      }
    },
    {
      "cell_type": "code",
      "source": [
        "# Modelo basado en GRU\n",
        "model_GRU = Sequential()\n",
        "\n",
        "# Capa One-Hot Encoding\n",
        "model_GRU.add(TimeDistributed(CategoryEncoding(num_tokens=vocabulary_size, output_mode = \"one_hot\"),input_shape=(None,1)))\n",
        "\n",
        "# Capa GRU\n",
        "model_GRU.add(GRU(100, return_sequences=True, dropout=0.1, recurrent_dropout=0.1))\n",
        "\n",
        "# Capa de salida\n",
        "model_GRU.add(Dense(vocabulary_size, activation='softmax'))\n",
        "\n",
        "# Compilamos el modelo\n",
        "model_GRU.compile(loss='sparse_categorical_crossentropy', optimizer='rmsprop')\n",
        "\n",
        "model_GRU.summary()"
      ],
      "metadata": {
        "colab": {
          "base_uri": "https://localhost:8080/",
          "height": 225
        },
        "id": "EPCby8Waj9Vl",
        "outputId": "b64b26e7-af6c-43f0-b42b-6e2b08ce95af"
      },
      "execution_count": 16,
      "outputs": [
        {
          "output_type": "display_data",
          "data": {
            "text/plain": [
              "\u001b[1mModel: \"sequential_2\"\u001b[0m\n"
            ],
            "text/html": [
              "<pre style=\"white-space:pre;overflow-x:auto;line-height:normal;font-family:Menlo,'DejaVu Sans Mono',consolas,'Courier New',monospace\"><span style=\"font-weight: bold\">Model: \"sequential_2\"</span>\n",
              "</pre>\n"
            ]
          },
          "metadata": {}
        },
        {
          "output_type": "display_data",
          "data": {
            "text/plain": [
              "┏━━━━━━━━━━━━━━━━━━━━━━━━━━━━━━━━━━━━━━┳━━━━━━━━━━━━━━━━━━━━━━━━━━━━━┳━━━━━━━━━━━━━━━━━┓\n",
              "┃\u001b[1m \u001b[0m\u001b[1mLayer (type)                        \u001b[0m\u001b[1m \u001b[0m┃\u001b[1m \u001b[0m\u001b[1mOutput Shape               \u001b[0m\u001b[1m \u001b[0m┃\u001b[1m \u001b[0m\u001b[1m        Param #\u001b[0m\u001b[1m \u001b[0m┃\n",
              "┡━━━━━━━━━━━━━━━━━━━━━━━━━━━━━━━━━━━━━━╇━━━━━━━━━━━━━━━━━━━━━━━━━━━━━╇━━━━━━━━━━━━━━━━━┩\n",
              "│ time_distributed_2 (\u001b[38;5;33mTimeDistributed\u001b[0m) │ (\u001b[38;5;45mNone\u001b[0m, \u001b[38;5;45mNone\u001b[0m, \u001b[38;5;34m57\u001b[0m)            │               \u001b[38;5;34m0\u001b[0m │\n",
              "├──────────────────────────────────────┼─────────────────────────────┼─────────────────┤\n",
              "│ gru (\u001b[38;5;33mGRU\u001b[0m)                            │ (\u001b[38;5;45mNone\u001b[0m, \u001b[38;5;45mNone\u001b[0m, \u001b[38;5;34m100\u001b[0m)           │          \u001b[38;5;34m47,700\u001b[0m │\n",
              "├──────────────────────────────────────┼─────────────────────────────┼─────────────────┤\n",
              "│ dense_2 (\u001b[38;5;33mDense\u001b[0m)                      │ (\u001b[38;5;45mNone\u001b[0m, \u001b[38;5;45mNone\u001b[0m, \u001b[38;5;34m57\u001b[0m)            │           \u001b[38;5;34m5,757\u001b[0m │\n",
              "└──────────────────────────────────────┴─────────────────────────────┴─────────────────┘\n"
            ],
            "text/html": [
              "<pre style=\"white-space:pre;overflow-x:auto;line-height:normal;font-family:Menlo,'DejaVu Sans Mono',consolas,'Courier New',monospace\">┏━━━━━━━━━━━━━━━━━━━━━━━━━━━━━━━━━━━━━━┳━━━━━━━━━━━━━━━━━━━━━━━━━━━━━┳━━━━━━━━━━━━━━━━━┓\n",
              "┃<span style=\"font-weight: bold\"> Layer (type)                         </span>┃<span style=\"font-weight: bold\"> Output Shape                </span>┃<span style=\"font-weight: bold\">         Param # </span>┃\n",
              "┡━━━━━━━━━━━━━━━━━━━━━━━━━━━━━━━━━━━━━━╇━━━━━━━━━━━━━━━━━━━━━━━━━━━━━╇━━━━━━━━━━━━━━━━━┩\n",
              "│ time_distributed_2 (<span style=\"color: #0087ff; text-decoration-color: #0087ff\">TimeDistributed</span>) │ (<span style=\"color: #00d7ff; text-decoration-color: #00d7ff\">None</span>, <span style=\"color: #00d7ff; text-decoration-color: #00d7ff\">None</span>, <span style=\"color: #00af00; text-decoration-color: #00af00\">57</span>)            │               <span style=\"color: #00af00; text-decoration-color: #00af00\">0</span> │\n",
              "├──────────────────────────────────────┼─────────────────────────────┼─────────────────┤\n",
              "│ gru (<span style=\"color: #0087ff; text-decoration-color: #0087ff\">GRU</span>)                            │ (<span style=\"color: #00d7ff; text-decoration-color: #00d7ff\">None</span>, <span style=\"color: #00d7ff; text-decoration-color: #00d7ff\">None</span>, <span style=\"color: #00af00; text-decoration-color: #00af00\">100</span>)           │          <span style=\"color: #00af00; text-decoration-color: #00af00\">47,700</span> │\n",
              "├──────────────────────────────────────┼─────────────────────────────┼─────────────────┤\n",
              "│ dense_2 (<span style=\"color: #0087ff; text-decoration-color: #0087ff\">Dense</span>)                      │ (<span style=\"color: #00d7ff; text-decoration-color: #00d7ff\">None</span>, <span style=\"color: #00d7ff; text-decoration-color: #00d7ff\">None</span>, <span style=\"color: #00af00; text-decoration-color: #00af00\">57</span>)            │           <span style=\"color: #00af00; text-decoration-color: #00af00\">5,757</span> │\n",
              "└──────────────────────────────────────┴─────────────────────────────┴─────────────────┘\n",
              "</pre>\n"
            ]
          },
          "metadata": {}
        },
        {
          "output_type": "display_data",
          "data": {
            "text/plain": [
              "\u001b[1m Total params: \u001b[0m\u001b[38;5;34m53,457\u001b[0m (208.82 KB)\n"
            ],
            "text/html": [
              "<pre style=\"white-space:pre;overflow-x:auto;line-height:normal;font-family:Menlo,'DejaVu Sans Mono',consolas,'Courier New',monospace\"><span style=\"font-weight: bold\"> Total params: </span><span style=\"color: #00af00; text-decoration-color: #00af00\">53,457</span> (208.82 KB)\n",
              "</pre>\n"
            ]
          },
          "metadata": {}
        },
        {
          "output_type": "display_data",
          "data": {
            "text/plain": [
              "\u001b[1m Trainable params: \u001b[0m\u001b[38;5;34m53,457\u001b[0m (208.82 KB)\n"
            ],
            "text/html": [
              "<pre style=\"white-space:pre;overflow-x:auto;line-height:normal;font-family:Menlo,'DejaVu Sans Mono',consolas,'Courier New',monospace\"><span style=\"font-weight: bold\"> Trainable params: </span><span style=\"color: #00af00; text-decoration-color: #00af00\">53,457</span> (208.82 KB)\n",
              "</pre>\n"
            ]
          },
          "metadata": {}
        },
        {
          "output_type": "display_data",
          "data": {
            "text/plain": [
              "\u001b[1m Non-trainable params: \u001b[0m\u001b[38;5;34m0\u001b[0m (0.00 B)\n"
            ],
            "text/html": [
              "<pre style=\"white-space:pre;overflow-x:auto;line-height:normal;font-family:Menlo,'DejaVu Sans Mono',consolas,'Courier New',monospace\"><span style=\"font-weight: bold\"> Non-trainable params: </span><span style=\"color: #00af00; text-decoration-color: #00af00\">0</span> (0.00 B)\n",
              "</pre>\n"
            ]
          },
          "metadata": {}
        }
      ]
    },
    {
      "cell_type": "markdown",
      "source": [
        "## Agregamos la clase de Callback\n",
        "\n",
        "Se utiliza una Clase de Callback para poder medir la perplejidad por cada época."
      ],
      "metadata": {
        "id": "Ng35FvD77XS9"
      }
    },
    {
      "cell_type": "code",
      "source": [
        "class PplCallback(keras.callbacks.Callback):\n",
        "\n",
        "    '''\n",
        "    Este callback es una solución ad-hoc para calcular al final de cada epoch de\n",
        "    entrenamiento la métrica de Perplejidad sobre un conjunto de datos de validación.\n",
        "    La perplejidad es una métrica cuantitativa para evaluar la calidad de la generación de secuencias.\n",
        "    Además implementa la finalización del entrenamiento (Early Stopping)\n",
        "    si la perplejidad no mejora después de `patience` epochs.\n",
        "    '''\n",
        "\n",
        "    def __init__(self, val_data, history_ppl, model_name, patience=15):\n",
        "      # El callback lo inicializamos con secuencias de validación sobre las cuales\n",
        "      # mediremos la perplejidad y la paciencia para detener el entrenamiento.\n",
        "      self.val_data = val_data\n",
        "\n",
        "      self.target = []\n",
        "      self.padded = []\n",
        "\n",
        "      count = 0\n",
        "      self.info = []\n",
        "      self.history_ppl = history_ppl\n",
        "      self.model_name = model_name\n",
        "      self.min_score = np.inf\n",
        "      self.patience_counter = 0\n",
        "      self.patience = patience\n",
        "\n",
        "      # nos movemos en todas las secuencias de los datos de validación\n",
        "      for seq in self.val_data:\n",
        "\n",
        "        len_seq = len(seq)\n",
        "        # armamos todas las subsecuencias\n",
        "        subseq = [seq[:i] for i in range(len_seq)]\n",
        "        self.target.extend([seq[i] for i in range(len_seq)])\n",
        "\n",
        "        if len(subseq)!=0:\n",
        "\n",
        "          self.padded.append(pad_sequences(subseq, maxlen=max_context_size, padding='pre'))\n",
        "\n",
        "          self.info.append((count,count+len_seq))\n",
        "          count += len_seq\n",
        "\n",
        "      self.padded = np.vstack(self.padded)\n",
        "\n",
        "\n",
        "    def on_epoch_end(self, epoch, logs=None):\n",
        "\n",
        "        # en `scores` iremos guardando la perplejidad de cada secuencia\n",
        "        scores = []\n",
        "\n",
        "        predictions = self.model.predict(self.padded,verbose=0)\n",
        "\n",
        "        # para cada secuencia de validación\n",
        "        for start,end in self.info:\n",
        "\n",
        "          # en `probs` iremos guardando las probabilidades de los términos target\n",
        "          probs = [predictions[idx_seq,-1,idx_vocab] for idx_seq, idx_vocab in zip(range(start,end),self.target[start:end])]\n",
        "\n",
        "          # calculamos la perplejidad por medio de logaritmos\n",
        "          scores.append(np.exp(-np.sum(np.log(probs))/(end-start)))\n",
        "\n",
        "        # promediamos todos los scores e imprimimos el valor promedio\n",
        "        current_score = np.mean(scores)\n",
        "        self.history_ppl.append(current_score)\n",
        "        print(f'\\n mean perplexity: {current_score} \\n')\n",
        "\n",
        "        # chequeamos si tenemos que detener el entrenamiento\n",
        "        if current_score < self.min_score:\n",
        "          self.min_score = current_score\n",
        "          self.model.save(f'{self.model_name}.keras')\n",
        "          print(\"Saved new model!\")\n",
        "          self.patience_counter = 0\n",
        "        else:\n",
        "          self.patience_counter += 1\n",
        "          if self.patience_counter == self.patience:\n",
        "            print(\"Stopping training...\")\n",
        "            self.model.stop_training = True"
      ],
      "metadata": {
        "id": "TVF1BUy47ZxR"
      },
      "execution_count": 17,
      "outputs": []
    },
    {
      "cell_type": "markdown",
      "source": [
        "## Entrenamiento\n",
        "\n",
        "Se procede a realizar el entrenamiento de los modelos planteados."
      ],
      "metadata": {
        "id": "t3MjqXaQ7tvx"
      }
    },
    {
      "cell_type": "code",
      "source": [
        "history_ppl_LSTM = []\n",
        "hist_LSTM = model_LSTM.fit(X, y, epochs=20, callbacks=[PplCallback(tokenized_sentences_val, history_ppl_LSTM, model_name='model_LSTM')], batch_size=256)"
      ],
      "metadata": {
        "colab": {
          "base_uri": "https://localhost:8080/"
        },
        "id": "6Ug90_7N3W1k",
        "outputId": "43772ae3-bbca-4aac-8151-154dbd80d4b8"
      },
      "execution_count": 18,
      "outputs": [
        {
          "output_type": "stream",
          "name": "stdout",
          "text": [
            "Epoch 1/20\n",
            "\u001b[1m45/45\u001b[0m \u001b[32m━━━━━━━━━━━━━━━━━━━━\u001b[0m\u001b[37m\u001b[0m \u001b[1m0s\u001b[0m 123ms/step - loss: 3.5150\n",
            " mean perplexity: 51.61940749940902 \n",
            "\n",
            "Saved new model!\n",
            "\u001b[1m45/45\u001b[0m \u001b[32m━━━━━━━━━━━━━━━━━━━━\u001b[0m\u001b[37m\u001b[0m \u001b[1m18s\u001b[0m 241ms/step - loss: 3.5092\n",
            "Epoch 2/20\n",
            "\u001b[1m45/45\u001b[0m \u001b[32m━━━━━━━━━━━━━━━━━━━━\u001b[0m\u001b[37m\u001b[0m \u001b[1m0s\u001b[0m 134ms/step - loss: 3.0438\n",
            " mean perplexity: 45.21424127443856 \n",
            "\n",
            "Saved new model!\n",
            "\u001b[1m45/45\u001b[0m \u001b[32m━━━━━━━━━━━━━━━━━━━━\u001b[0m\u001b[37m\u001b[0m \u001b[1m6s\u001b[0m 140ms/step - loss: 3.0435\n",
            "Epoch 3/20\n",
            "\u001b[1m45/45\u001b[0m \u001b[32m━━━━━━━━━━━━━━━━━━━━\u001b[0m\u001b[37m\u001b[0m \u001b[1m0s\u001b[0m 125ms/step - loss: 2.9878\n",
            " mean perplexity: 45.9179434002402 \n",
            "\n",
            "\u001b[1m45/45\u001b[0m \u001b[32m━━━━━━━━━━━━━━━━━━━━\u001b[0m\u001b[37m\u001b[0m \u001b[1m10s\u001b[0m 129ms/step - loss: 2.9875\n",
            "Epoch 4/20\n",
            "\u001b[1m45/45\u001b[0m \u001b[32m━━━━━━━━━━━━━━━━━━━━\u001b[0m\u001b[37m\u001b[0m \u001b[1m0s\u001b[0m 142ms/step - loss: 2.9163\n",
            " mean perplexity: 43.02059444280189 \n",
            "\n",
            "Saved new model!\n",
            "\u001b[1m45/45\u001b[0m \u001b[32m━━━━━━━━━━━━━━━━━━━━\u001b[0m\u001b[37m\u001b[0m \u001b[1m7s\u001b[0m 152ms/step - loss: 2.9159\n",
            "Epoch 5/20\n",
            "\u001b[1m45/45\u001b[0m \u001b[32m━━━━━━━━━━━━━━━━━━━━\u001b[0m\u001b[37m\u001b[0m \u001b[1m0s\u001b[0m 123ms/step - loss: 2.8265\n",
            " mean perplexity: 42.406444059644265 \n",
            "\n",
            "Saved new model!\n",
            "\u001b[1m45/45\u001b[0m \u001b[32m━━━━━━━━━━━━━━━━━━━━\u001b[0m\u001b[37m\u001b[0m \u001b[1m6s\u001b[0m 128ms/step - loss: 2.8260\n",
            "Epoch 6/20\n",
            "\u001b[1m45/45\u001b[0m \u001b[32m━━━━━━━━━━━━━━━━━━━━\u001b[0m\u001b[37m\u001b[0m \u001b[1m0s\u001b[0m 150ms/step - loss: 2.7255\n",
            " mean perplexity: 38.83238686450323 \n",
            "\n",
            "Saved new model!\n",
            "\u001b[1m45/45\u001b[0m \u001b[32m━━━━━━━━━━━━━━━━━━━━\u001b[0m\u001b[37m\u001b[0m \u001b[1m11s\u001b[0m 155ms/step - loss: 2.7250\n",
            "Epoch 7/20\n",
            "\u001b[1m45/45\u001b[0m \u001b[32m━━━━━━━━━━━━━━━━━━━━\u001b[0m\u001b[37m\u001b[0m \u001b[1m0s\u001b[0m 157ms/step - loss: 2.6371\n",
            " mean perplexity: 38.228108900602244 \n",
            "\n",
            "Saved new model!\n",
            "\u001b[1m45/45\u001b[0m \u001b[32m━━━━━━━━━━━━━━━━━━━━\u001b[0m\u001b[37m\u001b[0m \u001b[1m10s\u001b[0m 162ms/step - loss: 2.6367\n",
            "Epoch 8/20\n",
            "\u001b[1m45/45\u001b[0m \u001b[32m━━━━━━━━━━━━━━━━━━━━\u001b[0m\u001b[37m\u001b[0m \u001b[1m0s\u001b[0m 126ms/step - loss: 2.5625\n",
            " mean perplexity: 37.49293170684059 \n",
            "\n",
            "Saved new model!\n",
            "\u001b[1m45/45\u001b[0m \u001b[32m━━━━━━━━━━━━━━━━━━━━\u001b[0m\u001b[37m\u001b[0m \u001b[1m9s\u001b[0m 136ms/step - loss: 2.5621\n",
            "Epoch 9/20\n",
            "\u001b[1m45/45\u001b[0m \u001b[32m━━━━━━━━━━━━━━━━━━━━\u001b[0m\u001b[37m\u001b[0m \u001b[1m0s\u001b[0m 125ms/step - loss: 2.5020\n",
            " mean perplexity: 36.98214232321156 \n",
            "\n",
            "Saved new model!\n",
            "\u001b[1m45/45\u001b[0m \u001b[32m━━━━━━━━━━━━━━━━━━━━\u001b[0m\u001b[37m\u001b[0m \u001b[1m10s\u001b[0m 130ms/step - loss: 2.5017\n",
            "Epoch 10/20\n",
            "\u001b[1m45/45\u001b[0m \u001b[32m━━━━━━━━━━━━━━━━━━━━\u001b[0m\u001b[37m\u001b[0m \u001b[1m0s\u001b[0m 129ms/step - loss: 2.4519\n",
            " mean perplexity: 37.1997016995814 \n",
            "\n",
            "\u001b[1m45/45\u001b[0m \u001b[32m━━━━━━━━━━━━━━━━━━━━\u001b[0m\u001b[37m\u001b[0m \u001b[1m10s\u001b[0m 133ms/step - loss: 2.4517\n",
            "Epoch 11/20\n",
            "\u001b[1m45/45\u001b[0m \u001b[32m━━━━━━━━━━━━━━━━━━━━\u001b[0m\u001b[37m\u001b[0m \u001b[1m0s\u001b[0m 128ms/step - loss: 2.4134\n",
            " mean perplexity: 35.74433185143897 \n",
            "\n",
            "Saved new model!\n",
            "\u001b[1m45/45\u001b[0m \u001b[32m━━━━━━━━━━━━━━━━━━━━\u001b[0m\u001b[37m\u001b[0m \u001b[1m10s\u001b[0m 133ms/step - loss: 2.4132\n",
            "Epoch 12/20\n",
            "\u001b[1m45/45\u001b[0m \u001b[32m━━━━━━━━━━━━━━━━━━━━\u001b[0m\u001b[37m\u001b[0m \u001b[1m0s\u001b[0m 161ms/step - loss: 2.3787\n",
            " mean perplexity: 38.011532415933075 \n",
            "\n",
            "\u001b[1m45/45\u001b[0m \u001b[32m━━━━━━━━━━━━━━━━━━━━\u001b[0m\u001b[37m\u001b[0m \u001b[1m12s\u001b[0m 165ms/step - loss: 2.3785\n",
            "Epoch 13/20\n",
            "\u001b[1m45/45\u001b[0m \u001b[32m━━━━━━━━━━━━━━━━━━━━\u001b[0m\u001b[37m\u001b[0m \u001b[1m0s\u001b[0m 160ms/step - loss: 2.3517\n",
            " mean perplexity: 38.52782671213303 \n",
            "\n",
            "\u001b[1m45/45\u001b[0m \u001b[32m━━━━━━━━━━━━━━━━━━━━\u001b[0m\u001b[37m\u001b[0m \u001b[1m10s\u001b[0m 165ms/step - loss: 2.3516\n",
            "Epoch 14/20\n",
            "\u001b[1m45/45\u001b[0m \u001b[32m━━━━━━━━━━━━━━━━━━━━\u001b[0m\u001b[37m\u001b[0m \u001b[1m0s\u001b[0m 128ms/step - loss: 2.3239\n",
            " mean perplexity: 36.85753256223518 \n",
            "\n",
            "\u001b[1m45/45\u001b[0m \u001b[32m━━━━━━━━━━━━━━━━━━━━\u001b[0m\u001b[37m\u001b[0m \u001b[1m9s\u001b[0m 137ms/step - loss: 2.3238\n",
            "Epoch 15/20\n",
            "\u001b[1m45/45\u001b[0m \u001b[32m━━━━━━━━━━━━━━━━━━━━\u001b[0m\u001b[37m\u001b[0m \u001b[1m0s\u001b[0m 152ms/step - loss: 2.3043\n",
            " mean perplexity: 37.9176239083611 \n",
            "\n",
            "\u001b[1m45/45\u001b[0m \u001b[32m━━━━━━━━━━━━━━━━━━━━\u001b[0m\u001b[37m\u001b[0m \u001b[1m7s\u001b[0m 157ms/step - loss: 2.3042\n",
            "Epoch 16/20\n",
            "\u001b[1m45/45\u001b[0m \u001b[32m━━━━━━━━━━━━━━━━━━━━\u001b[0m\u001b[37m\u001b[0m \u001b[1m0s\u001b[0m 159ms/step - loss: 2.2836\n",
            " mean perplexity: 37.98644337093578 \n",
            "\n",
            "\u001b[1m45/45\u001b[0m \u001b[32m━━━━━━━━━━━━━━━━━━━━\u001b[0m\u001b[37m\u001b[0m \u001b[1m10s\u001b[0m 164ms/step - loss: 2.2835\n",
            "Epoch 17/20\n",
            "\u001b[1m45/45\u001b[0m \u001b[32m━━━━━━━━━━━━━━━━━━━━\u001b[0m\u001b[37m\u001b[0m \u001b[1m0s\u001b[0m 128ms/step - loss: 2.2663\n",
            " mean perplexity: 39.022109533315835 \n",
            "\n",
            "\u001b[1m45/45\u001b[0m \u001b[32m━━━━━━━━━━━━━━━━━━━━\u001b[0m\u001b[37m\u001b[0m \u001b[1m6s\u001b[0m 133ms/step - loss: 2.2663\n",
            "Epoch 18/20\n",
            "\u001b[1m45/45\u001b[0m \u001b[32m━━━━━━━━━━━━━━━━━━━━\u001b[0m\u001b[37m\u001b[0m \u001b[1m0s\u001b[0m 130ms/step - loss: 2.2503\n",
            " mean perplexity: 40.463920832985664 \n",
            "\n",
            "\u001b[1m45/45\u001b[0m \u001b[32m━━━━━━━━━━━━━━━━━━━━\u001b[0m\u001b[37m\u001b[0m \u001b[1m10s\u001b[0m 135ms/step - loss: 2.2503\n",
            "Epoch 19/20\n",
            "\u001b[1m45/45\u001b[0m \u001b[32m━━━━━━━━━━━━━━━━━━━━\u001b[0m\u001b[37m\u001b[0m \u001b[1m0s\u001b[0m 164ms/step - loss: 2.2369\n",
            " mean perplexity: 41.115429482096395 \n",
            "\n",
            "\u001b[1m45/45\u001b[0m \u001b[32m━━━━━━━━━━━━━━━━━━━━\u001b[0m\u001b[37m\u001b[0m \u001b[1m8s\u001b[0m 169ms/step - loss: 2.2368\n",
            "Epoch 20/20\n",
            "\u001b[1m45/45\u001b[0m \u001b[32m━━━━━━━━━━━━━━━━━━━━\u001b[0m\u001b[37m\u001b[0m \u001b[1m0s\u001b[0m 130ms/step - loss: 2.2217\n",
            " mean perplexity: 40.49274802043188 \n",
            "\n",
            "\u001b[1m45/45\u001b[0m \u001b[32m━━━━━━━━━━━━━━━━━━━━\u001b[0m\u001b[37m\u001b[0m \u001b[1m9s\u001b[0m 134ms/step - loss: 2.2216\n"
          ]
        }
      ]
    },
    {
      "cell_type": "code",
      "source": [
        "history_ppl_SimpleRNN = []\n",
        "hist_simple_RNN = model_simpleRNN.fit(X, y, epochs=20, callbacks=[PplCallback(tokenized_sentences_val, history_ppl_SimpleRNN, model_name='model_SimpleRNN')], batch_size=256)"
      ],
      "metadata": {
        "colab": {
          "base_uri": "https://localhost:8080/"
        },
        "id": "dV8tAO3x7vCl",
        "outputId": "138efea8-4588-4e8b-d49b-c536de259894"
      },
      "execution_count": 19,
      "outputs": [
        {
          "output_type": "stream",
          "name": "stdout",
          "text": [
            "Epoch 1/20\n",
            "\u001b[1m45/45\u001b[0m \u001b[32m━━━━━━━━━━━━━━━━━━━━\u001b[0m\u001b[37m\u001b[0m \u001b[1m0s\u001b[0m 88ms/step - loss: 3.2493\n",
            " mean perplexity: 42.33445256566728 \n",
            "\n",
            "Saved new model!\n",
            "\u001b[1m45/45\u001b[0m \u001b[32m━━━━━━━━━━━━━━━━━━━━\u001b[0m\u001b[37m\u001b[0m \u001b[1m23s\u001b[0m 323ms/step - loss: 3.2451\n",
            "Epoch 2/20\n",
            "\u001b[1m44/45\u001b[0m \u001b[32m━━━━━━━━━━━━━━━━━━━\u001b[0m\u001b[37m━\u001b[0m \u001b[1m0s\u001b[0m 18ms/step - loss: 2.7549\n",
            " mean perplexity: 41.47312129321572 \n",
            "\n",
            "Saved new model!\n",
            "\u001b[1m45/45\u001b[0m \u001b[32m━━━━━━━━━━━━━━━━━━━━\u001b[0m\u001b[37m\u001b[0m \u001b[1m2s\u001b[0m 20ms/step - loss: 2.7514\n",
            "Epoch 3/20\n",
            "\u001b[1m43/45\u001b[0m \u001b[32m━━━━━━━━━━━━━━━━━━━\u001b[0m\u001b[37m━\u001b[0m \u001b[1m0s\u001b[0m 16ms/step - loss: 2.4646\n",
            " mean perplexity: 38.96083072383834 \n",
            "\n",
            "Saved new model!\n",
            "\u001b[1m45/45\u001b[0m \u001b[32m━━━━━━━━━━━━━━━━━━━━\u001b[0m\u001b[37m\u001b[0m \u001b[1m1s\u001b[0m 19ms/step - loss: 2.4612\n",
            "Epoch 4/20\n",
            "\u001b[1m44/45\u001b[0m \u001b[32m━━━━━━━━━━━━━━━━━━━\u001b[0m\u001b[37m━\u001b[0m \u001b[1m0s\u001b[0m 16ms/step - loss: 2.2746\n",
            " mean perplexity: 40.61472074667023 \n",
            "\n",
            "\u001b[1m45/45\u001b[0m \u001b[32m━━━━━━━━━━━━━━━━━━━━\u001b[0m\u001b[37m\u001b[0m \u001b[1m1s\u001b[0m 17ms/step - loss: 2.2732\n",
            "Epoch 5/20\n",
            "\u001b[1m44/45\u001b[0m \u001b[32m━━━━━━━━━━━━━━━━━━━\u001b[0m\u001b[37m━\u001b[0m \u001b[1m0s\u001b[0m 16ms/step - loss: 2.1576\n",
            " mean perplexity: 49.73879796912119 \n",
            "\n",
            "\u001b[1m45/45\u001b[0m \u001b[32m━━━━━━━━━━━━━━━━━━━━\u001b[0m\u001b[37m\u001b[0m \u001b[1m1s\u001b[0m 18ms/step - loss: 2.1568\n",
            "Epoch 6/20\n",
            "\u001b[1m44/45\u001b[0m \u001b[32m━━━━━━━━━━━━━━━━━━━\u001b[0m\u001b[37m━\u001b[0m \u001b[1m0s\u001b[0m 16ms/step - loss: 2.0848\n",
            " mean perplexity: 55.57646613876947 \n",
            "\n",
            "\u001b[1m45/45\u001b[0m \u001b[32m━━━━━━━━━━━━━━━━━━━━\u001b[0m\u001b[37m\u001b[0m \u001b[1m1s\u001b[0m 17ms/step - loss: 2.0841\n",
            "Epoch 7/20\n",
            "\u001b[1m43/45\u001b[0m \u001b[32m━━━━━━━━━━━━━━━━━━━\u001b[0m\u001b[37m━\u001b[0m \u001b[1m0s\u001b[0m 16ms/step - loss: 2.0285\n",
            " mean perplexity: 68.68079030480567 \n",
            "\n",
            "\u001b[1m45/45\u001b[0m \u001b[32m━━━━━━━━━━━━━━━━━━━━\u001b[0m\u001b[37m\u001b[0m \u001b[1m1s\u001b[0m 19ms/step - loss: 2.0277\n",
            "Epoch 8/20\n",
            "\u001b[1m43/45\u001b[0m \u001b[32m━━━━━━━━━━━━━━━━━━━\u001b[0m\u001b[37m━\u001b[0m \u001b[1m0s\u001b[0m 18ms/step - loss: 1.9853\n",
            " mean perplexity: 71.44017565558315 \n",
            "\n",
            "\u001b[1m45/45\u001b[0m \u001b[32m━━━━━━━━━━━━━━━━━━━━\u001b[0m\u001b[37m\u001b[0m \u001b[1m1s\u001b[0m 22ms/step - loss: 1.9843\n",
            "Epoch 9/20\n",
            "\u001b[1m44/45\u001b[0m \u001b[32m━━━━━━━━━━━━━━━━━━━\u001b[0m\u001b[37m━\u001b[0m \u001b[1m0s\u001b[0m 17ms/step - loss: 1.9450\n",
            " mean perplexity: 86.46957727331282 \n",
            "\n",
            "\u001b[1m45/45\u001b[0m \u001b[32m━━━━━━━━━━━━━━━━━━━━\u001b[0m\u001b[37m\u001b[0m \u001b[1m1s\u001b[0m 18ms/step - loss: 1.9446\n",
            "Epoch 10/20\n",
            "\u001b[1m43/45\u001b[0m \u001b[32m━━━━━━━━━━━━━━━━━━━\u001b[0m\u001b[37m━\u001b[0m \u001b[1m0s\u001b[0m 16ms/step - loss: 1.9090\n",
            " mean perplexity: 137.36942094526756 \n",
            "\n",
            "\u001b[1m45/45\u001b[0m \u001b[32m━━━━━━━━━━━━━━━━━━━━\u001b[0m\u001b[37m\u001b[0m \u001b[1m1s\u001b[0m 18ms/step - loss: 1.9084\n",
            "Epoch 11/20\n",
            "\u001b[1m42/45\u001b[0m \u001b[32m━━━━━━━━━━━━━━━━━━\u001b[0m\u001b[37m━━\u001b[0m \u001b[1m0s\u001b[0m 16ms/step - loss: 1.8721\n",
            " mean perplexity: 129.72766272299327 \n",
            "\n",
            "\u001b[1m45/45\u001b[0m \u001b[32m━━━━━━━━━━━━━━━━━━━━\u001b[0m\u001b[37m\u001b[0m \u001b[1m1s\u001b[0m 18ms/step - loss: 1.8716\n",
            "Epoch 12/20\n",
            "\u001b[1m43/45\u001b[0m \u001b[32m━━━━━━━━━━━━━━━━━━━\u001b[0m\u001b[37m━\u001b[0m \u001b[1m0s\u001b[0m 16ms/step - loss: 1.8445\n",
            " mean perplexity: 134.84664538032712 \n",
            "\n",
            "\u001b[1m45/45\u001b[0m \u001b[32m━━━━━━━━━━━━━━━━━━━━\u001b[0m\u001b[37m\u001b[0m \u001b[1m1s\u001b[0m 18ms/step - loss: 1.8439\n",
            "Epoch 13/20\n",
            "\u001b[1m43/45\u001b[0m \u001b[32m━━━━━━━━━━━━━━━━━━━\u001b[0m\u001b[37m━\u001b[0m \u001b[1m0s\u001b[0m 16ms/step - loss: 1.8120\n",
            " mean perplexity: 136.8870305583795 \n",
            "\n",
            "\u001b[1m45/45\u001b[0m \u001b[32m━━━━━━━━━━━━━━━━━━━━\u001b[0m\u001b[37m\u001b[0m \u001b[1m1s\u001b[0m 17ms/step - loss: 1.8115\n",
            "Epoch 14/20\n",
            "\u001b[1m43/45\u001b[0m \u001b[32m━━━━━━━━━━━━━━━━━━━\u001b[0m\u001b[37m━\u001b[0m \u001b[1m0s\u001b[0m 16ms/step - loss: 1.7798\n",
            " mean perplexity: 156.6543554547927 \n",
            "\n",
            "\u001b[1m45/45\u001b[0m \u001b[32m━━━━━━━━━━━━━━━━━━━━\u001b[0m\u001b[37m\u001b[0m \u001b[1m1s\u001b[0m 19ms/step - loss: 1.7793\n",
            "Epoch 15/20\n",
            "\u001b[1m45/45\u001b[0m \u001b[32m━━━━━━━━━━━━━━━━━━━━\u001b[0m\u001b[37m\u001b[0m \u001b[1m0s\u001b[0m 18ms/step - loss: 1.7489\n",
            " mean perplexity: 250.10453361809633 \n",
            "\n",
            "\u001b[1m45/45\u001b[0m \u001b[32m━━━━━━━━━━━━━━━━━━━━\u001b[0m\u001b[37m\u001b[0m \u001b[1m1s\u001b[0m 21ms/step - loss: 1.7487\n",
            "Epoch 16/20\n",
            "\u001b[1m44/45\u001b[0m \u001b[32m━━━━━━━━━━━━━━━━━━━\u001b[0m\u001b[37m━\u001b[0m \u001b[1m0s\u001b[0m 16ms/step - loss: 1.7226\n",
            " mean perplexity: 464.2069756413195 \n",
            "\n",
            "\u001b[1m45/45\u001b[0m \u001b[32m━━━━━━━━━━━━━━━━━━━━\u001b[0m\u001b[37m\u001b[0m \u001b[1m1s\u001b[0m 18ms/step - loss: 1.7222\n",
            "Epoch 17/20\n",
            "\u001b[1m42/45\u001b[0m \u001b[32m━━━━━━━━━━━━━━━━━━\u001b[0m\u001b[37m━━\u001b[0m \u001b[1m0s\u001b[0m 16ms/step - loss: 1.6914\n",
            " mean perplexity: 481.6521413374607 \n",
            "\n",
            "\u001b[1m45/45\u001b[0m \u001b[32m━━━━━━━━━━━━━━━━━━━━\u001b[0m\u001b[37m\u001b[0m \u001b[1m1s\u001b[0m 19ms/step - loss: 1.6909\n",
            "Epoch 18/20\n",
            "\u001b[1m45/45\u001b[0m \u001b[32m━━━━━━━━━━━━━━━━━━━━\u001b[0m\u001b[37m\u001b[0m \u001b[1m0s\u001b[0m 18ms/step - loss: 1.6644\n",
            " mean perplexity: 484.592460774416 \n",
            "\n",
            "Stopping training...\n",
            "\u001b[1m45/45\u001b[0m \u001b[32m━━━━━━━━━━━━━━━━━━━━\u001b[0m\u001b[37m\u001b[0m \u001b[1m1s\u001b[0m 21ms/step - loss: 1.6643\n"
          ]
        }
      ]
    },
    {
      "cell_type": "code",
      "source": [
        "history_ppl_GRU = []\n",
        "hist_GRU = model_GRU.fit(X, y, epochs=20, callbacks=[PplCallback(tokenized_sentences_val, history_ppl_GRU, model_name='model_GRU')], batch_size=256)"
      ],
      "metadata": {
        "colab": {
          "base_uri": "https://localhost:8080/"
        },
        "id": "EFZfrfN_ks49",
        "outputId": "dc4d0b1a-3943-4b89-8a26-b0ada0293ee9"
      },
      "execution_count": 20,
      "outputs": [
        {
          "output_type": "stream",
          "name": "stdout",
          "text": [
            "Epoch 1/20\n",
            "\u001b[1m45/45\u001b[0m \u001b[32m━━━━━━━━━━━━━━━━━━━━\u001b[0m\u001b[37m\u001b[0m \u001b[1m0s\u001b[0m 219ms/step - loss: 3.5884\n",
            " mean perplexity: 43.630072346795885 \n",
            "\n",
            "Saved new model!\n",
            "\u001b[1m45/45\u001b[0m \u001b[32m━━━━━━━━━━━━━━━━━━━━\u001b[0m\u001b[37m\u001b[0m \u001b[1m18s\u001b[0m 289ms/step - loss: 3.5820\n",
            "Epoch 2/20\n",
            "\u001b[1m45/45\u001b[0m \u001b[32m━━━━━━━━━━━━━━━━━━━━\u001b[0m\u001b[37m\u001b[0m \u001b[1m0s\u001b[0m 218ms/step - loss: 2.9938\n",
            " mean perplexity: 45.21102193520955 \n",
            "\n",
            "\u001b[1m45/45\u001b[0m \u001b[32m━━━━━━━━━━━━━━━━━━━━\u001b[0m\u001b[37m\u001b[0m \u001b[1m10s\u001b[0m 227ms/step - loss: 2.9930\n",
            "Epoch 3/20\n",
            "\u001b[1m45/45\u001b[0m \u001b[32m━━━━━━━━━━━━━━━━━━━━\u001b[0m\u001b[37m\u001b[0m \u001b[1m0s\u001b[0m 199ms/step - loss: 2.8047\n",
            " mean perplexity: 40.04755589566974 \n",
            "\n",
            "Saved new model!\n",
            "\u001b[1m45/45\u001b[0m \u001b[32m━━━━━━━━━━━━━━━━━━━━\u001b[0m\u001b[37m\u001b[0m \u001b[1m9s\u001b[0m 209ms/step - loss: 2.8035\n",
            "Epoch 4/20\n",
            "\u001b[1m45/45\u001b[0m \u001b[32m━━━━━━━━━━━━━━━━━━━━\u001b[0m\u001b[37m\u001b[0m \u001b[1m0s\u001b[0m 180ms/step - loss: 2.5781\n",
            " mean perplexity: 36.9748028050517 \n",
            "\n",
            "Saved new model!\n",
            "\u001b[1m45/45\u001b[0m \u001b[32m━━━━━━━━━━━━━━━━━━━━\u001b[0m\u001b[37m\u001b[0m \u001b[1m9s\u001b[0m 185ms/step - loss: 2.5773\n",
            "Epoch 5/20\n",
            "\u001b[1m45/45\u001b[0m \u001b[32m━━━━━━━━━━━━━━━━━━━━\u001b[0m\u001b[37m\u001b[0m \u001b[1m0s\u001b[0m 200ms/step - loss: 2.4349\n",
            " mean perplexity: 35.18950062630227 \n",
            "\n",
            "Saved new model!\n",
            "\u001b[1m45/45\u001b[0m \u001b[32m━━━━━━━━━━━━━━━━━━━━\u001b[0m\u001b[37m\u001b[0m \u001b[1m11s\u001b[0m 205ms/step - loss: 2.4344\n",
            "Epoch 6/20\n",
            "\u001b[1m45/45\u001b[0m \u001b[32m━━━━━━━━━━━━━━━━━━━━\u001b[0m\u001b[37m\u001b[0m \u001b[1m0s\u001b[0m 216ms/step - loss: 2.3446\n",
            " mean perplexity: 34.050013867305246 \n",
            "\n",
            "Saved new model!\n",
            "\u001b[1m45/45\u001b[0m \u001b[32m━━━━━━━━━━━━━━━━━━━━\u001b[0m\u001b[37m\u001b[0m \u001b[1m11s\u001b[0m 222ms/step - loss: 2.3442\n",
            "Epoch 7/20\n",
            "\u001b[1m45/45\u001b[0m \u001b[32m━━━━━━━━━━━━━━━━━━━━\u001b[0m\u001b[37m\u001b[0m \u001b[1m0s\u001b[0m 211ms/step - loss: 2.2778\n",
            " mean perplexity: 36.45524836334874 \n",
            "\n",
            "\u001b[1m45/45\u001b[0m \u001b[32m━━━━━━━━━━━━━━━━━━━━\u001b[0m\u001b[37m\u001b[0m \u001b[1m10s\u001b[0m 215ms/step - loss: 2.2775\n",
            "Epoch 8/20\n",
            "\u001b[1m45/45\u001b[0m \u001b[32m━━━━━━━━━━━━━━━━━━━━\u001b[0m\u001b[37m\u001b[0m \u001b[1m0s\u001b[0m 185ms/step - loss: 2.2291\n",
            " mean perplexity: 38.06625634256344 \n",
            "\n",
            "\u001b[1m45/45\u001b[0m \u001b[32m━━━━━━━━━━━━━━━━━━━━\u001b[0m\u001b[37m\u001b[0m \u001b[1m9s\u001b[0m 194ms/step - loss: 2.2289\n",
            "Epoch 9/20\n",
            "\u001b[1m45/45\u001b[0m \u001b[32m━━━━━━━━━━━━━━━━━━━━\u001b[0m\u001b[37m\u001b[0m \u001b[1m0s\u001b[0m 291ms/step - loss: 2.1845\n",
            " mean perplexity: 42.91576517592372 \n",
            "\n",
            "\u001b[1m45/45\u001b[0m \u001b[32m━━━━━━━━━━━━━━━━━━━━\u001b[0m\u001b[37m\u001b[0m \u001b[1m15s\u001b[0m 296ms/step - loss: 2.1843\n",
            "Epoch 10/20\n",
            "\u001b[1m45/45\u001b[0m \u001b[32m━━━━━━━━━━━━━━━━━━━━\u001b[0m\u001b[37m\u001b[0m \u001b[1m0s\u001b[0m 278ms/step - loss: 2.1520\n",
            " mean perplexity: 43.74532849949774 \n",
            "\n",
            "\u001b[1m45/45\u001b[0m \u001b[32m━━━━━━━━━━━━━━━━━━━━\u001b[0m\u001b[37m\u001b[0m \u001b[1m20s\u001b[0m 282ms/step - loss: 2.1518\n",
            "Epoch 11/20\n",
            "\u001b[1m45/45\u001b[0m \u001b[32m━━━━━━━━━━━━━━━━━━━━\u001b[0m\u001b[37m\u001b[0m \u001b[1m0s\u001b[0m 349ms/step - loss: 2.1179\n",
            " mean perplexity: 43.00836065042538 \n",
            "\n",
            "\u001b[1m45/45\u001b[0m \u001b[32m━━━━━━━━━━━━━━━━━━━━\u001b[0m\u001b[37m\u001b[0m \u001b[1m16s\u001b[0m 354ms/step - loss: 2.1177\n",
            "Epoch 12/20\n",
            "\u001b[1m45/45\u001b[0m \u001b[32m━━━━━━━━━━━━━━━━━━━━\u001b[0m\u001b[37m\u001b[0m \u001b[1m0s\u001b[0m 296ms/step - loss: 2.0903\n",
            " mean perplexity: 44.76026404690521 \n",
            "\n",
            "\u001b[1m45/45\u001b[0m \u001b[32m━━━━━━━━━━━━━━━━━━━━\u001b[0m\u001b[37m\u001b[0m \u001b[1m18s\u001b[0m 300ms/step - loss: 2.0902\n",
            "Epoch 13/20\n",
            "\u001b[1m45/45\u001b[0m \u001b[32m━━━━━━━━━━━━━━━━━━━━\u001b[0m\u001b[37m\u001b[0m \u001b[1m0s\u001b[0m 215ms/step - loss: 2.0606\n",
            " mean perplexity: 50.1630278566168 \n",
            "\n",
            "\u001b[1m45/45\u001b[0m \u001b[32m━━━━━━━━━━━━━━━━━━━━\u001b[0m\u001b[37m\u001b[0m \u001b[1m17s\u001b[0m 219ms/step - loss: 2.0604\n",
            "Epoch 14/20\n",
            "\u001b[1m45/45\u001b[0m \u001b[32m━━━━━━━━━━━━━━━━━━━━\u001b[0m\u001b[37m\u001b[0m \u001b[1m0s\u001b[0m 215ms/step - loss: 2.0283\n",
            " mean perplexity: 54.7150693344538 \n",
            "\n",
            "\u001b[1m45/45\u001b[0m \u001b[32m━━━━━━━━━━━━━━━━━━━━\u001b[0m\u001b[37m\u001b[0m \u001b[1m10s\u001b[0m 220ms/step - loss: 2.0282\n",
            "Epoch 15/20\n",
            "\u001b[1m45/45\u001b[0m \u001b[32m━━━━━━━━━━━━━━━━━━━━\u001b[0m\u001b[37m\u001b[0m \u001b[1m0s\u001b[0m 209ms/step - loss: 1.9983\n",
            " mean perplexity: 56.01914753076007 \n",
            "\n",
            "\u001b[1m45/45\u001b[0m \u001b[32m━━━━━━━━━━━━━━━━━━━━\u001b[0m\u001b[37m\u001b[0m \u001b[1m10s\u001b[0m 218ms/step - loss: 1.9982\n",
            "Epoch 16/20\n",
            "\u001b[1m45/45\u001b[0m \u001b[32m━━━━━━━━━━━━━━━━━━━━\u001b[0m\u001b[37m\u001b[0m \u001b[1m0s\u001b[0m 179ms/step - loss: 1.9704\n",
            " mean perplexity: 59.50109905047497 \n",
            "\n",
            "\u001b[1m45/45\u001b[0m \u001b[32m━━━━━━━━━━━━━━━━━━━━\u001b[0m\u001b[37m\u001b[0m \u001b[1m9s\u001b[0m 184ms/step - loss: 1.9702\n",
            "Epoch 17/20\n",
            "\u001b[1m45/45\u001b[0m \u001b[32m━━━━━━━━━━━━━━━━━━━━\u001b[0m\u001b[37m\u001b[0m \u001b[1m0s\u001b[0m 233ms/step - loss: 1.9436\n",
            " mean perplexity: 68.28990746760185 \n",
            "\n",
            "\u001b[1m45/45\u001b[0m \u001b[32m━━━━━━━━━━━━━━━━━━━━\u001b[0m\u001b[37m\u001b[0m \u001b[1m13s\u001b[0m 238ms/step - loss: 1.9434\n",
            "Epoch 18/20\n",
            "\u001b[1m45/45\u001b[0m \u001b[32m━━━━━━━━━━━━━━━━━━━━\u001b[0m\u001b[37m\u001b[0m \u001b[1m0s\u001b[0m 218ms/step - loss: 1.9199\n",
            " mean perplexity: 74.75765464704966 \n",
            "\n",
            "\u001b[1m45/45\u001b[0m \u001b[32m━━━━━━━━━━━━━━━━━━━━\u001b[0m\u001b[37m\u001b[0m \u001b[1m20s\u001b[0m 223ms/step - loss: 1.9197\n",
            "Epoch 19/20\n",
            "\u001b[1m45/45\u001b[0m \u001b[32m━━━━━━━━━━━━━━━━━━━━\u001b[0m\u001b[37m\u001b[0m \u001b[1m0s\u001b[0m 219ms/step - loss: 1.8903\n",
            " mean perplexity: 83.77716375367784 \n",
            "\n",
            "\u001b[1m45/45\u001b[0m \u001b[32m━━━━━━━━━━━━━━━━━━━━\u001b[0m\u001b[37m\u001b[0m \u001b[1m11s\u001b[0m 228ms/step - loss: 1.8902\n",
            "Epoch 20/20\n",
            "\u001b[1m45/45\u001b[0m \u001b[32m━━━━━━━━━━━━━━━━━━━━\u001b[0m\u001b[37m\u001b[0m \u001b[1m0s\u001b[0m 210ms/step - loss: 1.8682\n",
            " mean perplexity: 95.97763645628218 \n",
            "\n",
            "\u001b[1m45/45\u001b[0m \u001b[32m━━━━━━━━━━━━━━━━━━━━\u001b[0m\u001b[37m\u001b[0m \u001b[1m20s\u001b[0m 214ms/step - loss: 1.8680\n"
          ]
        }
      ]
    },
    {
      "cell_type": "code",
      "source": [
        "# Creamos subplots\n",
        "fig, axs = plt.subplots(1, 3, figsize=(15, 5))\n",
        "\n",
        "# Para el modelo LSTM\n",
        "axs[0].plot(history_ppl_LSTM, color='blue')\n",
        "axs[0].set_title('Perplexity vs Epoch (Modelo: LSTM)')\n",
        "axs[0].set_xlabel('Epoch')\n",
        "axs[0].set_ylabel('Perplexity')\n",
        "\n",
        "# Plara el modelo SimpleRNN\n",
        "axs[1].plot(history_ppl_SimpleRNN, color='blue')\n",
        "axs[1].set_title('Perplexity vs Epoch (Modelo: SimpleRNN)')\n",
        "axs[1].set_xlabel('Epoch')\n",
        "axs[1].set_ylabel('Perplexity')\n",
        "\n",
        "# Para el modelo GRU\n",
        "axs[2].plot(history_ppl_GRU, color='blue')\n",
        "axs[2].set_title('Perplexity vs Epoch (Modelo: GRU)')\n",
        "axs[2].set_xlabel('Epoch')\n",
        "axs[2].set_ylabel('Perplexity')\n",
        "\n",
        "plt.tight_layout()\n",
        "plt.show()"
      ],
      "metadata": {
        "colab": {
          "base_uri": "https://localhost:8080/",
          "height": 507
        },
        "id": "oUtTN_KplGsN",
        "outputId": "cca8e6ae-b042-475c-ad72-f8ec6552f330"
      },
      "execution_count": 21,
      "outputs": [
        {
          "output_type": "display_data",
          "data": {
            "text/plain": [
              "<Figure size 1500x500 with 3 Axes>"
            ],
            "image/png": "[encoded data removed]"
          },
          "metadata": {}
        }
      ]
    },
    {
      "cell_type": "markdown",
      "source": [
        "De los gráficos anteriores se observa que el mejor comportamiento se obtuvo con el modelo LSTM y este es el único modelo en el que los valores de perplejidad reducen a medida que las épocas se van ejecutando, si bien al final se ve un incremento.\n",
        "\n",
        "Los peores resultados en cuanto a la perplejidad se obtienen con el modelo SimpleRNN, esto no solo porque los valores de perplejidad incrementan, sino tambien por que los valores llegan casi a 500. Si bien el modelo GRU tambien incrementa la perplejidad, los valores no sobrepasan de 100."
      ],
      "metadata": {
        "id": "BDILppEt8YdY"
      }
    },
    {
      "cell_type": "code",
      "source": [
        "# Cargamos el mejor modelo guardado del entrenamiento para hacer inferencia\n",
        "model_LSTM = keras.models.load_model('model_LSTM.keras')\n",
        "model_simpleRNN = keras.models.load_model('model_SimpleRNN.keras')\n",
        "model_GRU = keras.models.load_model('model_GRU.keras')"
      ],
      "metadata": {
        "id": "zyA4ZMx9leYT"
      },
      "execution_count": 22,
      "outputs": []
    },
    {
      "cell_type": "markdown",
      "source": [
        "## Predicción de Próximo Caracter\n",
        "\n",
        "Utilizamos la herramienta Gradio para disponibilizar una interfaz gráfica para la predicción del proximo caracter."
      ],
      "metadata": {
        "id": "x0o_vXblliRk"
      }
    },
    {
      "cell_type": "code",
      "source": [
        "!pip install -q gradio"
      ],
      "metadata": {
        "colab": {
          "base_uri": "https://localhost:8080/"
        },
        "id": "ts2SuO57li15",
        "outputId": "9847ee1b-238e-461e-a67d-5092a43a4627"
      },
      "execution_count": 23,
      "outputs": [
        {
          "output_type": "stream",
          "name": "stdout",
          "text": [
            "\u001b[2K     \u001b[90m━━━━━━━━━━━━━━━━━━━━━━━━━━━━━━━━━━━━━━━━\u001b[0m \u001b[32m50.4/50.4 kB\u001b[0m \u001b[31m4.3 MB/s\u001b[0m eta \u001b[36m0:00:00\u001b[0m\n",
            "\u001b[2K   \u001b[90m━━━━━━━━━━━━━━━━━━━━━━━━━━━━━━━━━━━━━━━━\u001b[0m \u001b[32m42.3/42.3 MB\u001b[0m \u001b[31m19.2 MB/s\u001b[0m eta \u001b[36m0:00:00\u001b[0m\n",
            "\u001b[2K   \u001b[90m━━━━━━━━━━━━━━━━━━━━━━━━━━━━━━━━━━━━━━━━\u001b[0m \u001b[32m319.8/319.8 kB\u001b[0m \u001b[31m24.3 MB/s\u001b[0m eta \u001b[36m0:00:00\u001b[0m\n",
            "\u001b[2K   \u001b[90m━━━━━━━━━━━━━━━━━━━━━━━━━━━━━━━━━━━━━━━━\u001b[0m \u001b[32m94.6/94.6 kB\u001b[0m \u001b[31m8.9 MB/s\u001b[0m eta \u001b[36m0:00:00\u001b[0m\n",
            "\u001b[2K   \u001b[90m━━━━━━━━━━━━━━━━━━━━━━━━━━━━━━━━━━━━━━━━\u001b[0m \u001b[32m76.4/76.4 kB\u001b[0m \u001b[31m6.8 MB/s\u001b[0m eta \u001b[36m0:00:00\u001b[0m\n",
            "\u001b[2K   \u001b[90m━━━━━━━━━━━━━━━━━━━━━━━━━━━━━━━━━━━━━━━━\u001b[0m \u001b[32m78.0/78.0 kB\u001b[0m \u001b[31m7.0 MB/s\u001b[0m eta \u001b[36m0:00:00\u001b[0m\n",
            "\u001b[2K   \u001b[90m━━━━━━━━━━━━━━━━━━━━━━━━━━━━━━━━━━━━━━━━\u001b[0m \u001b[32m436.6/436.6 kB\u001b[0m \u001b[31m35.7 MB/s\u001b[0m eta \u001b[36m0:00:00\u001b[0m\n",
            "\u001b[2K   \u001b[90m━━━━━━━━━━━━━━━━━━━━━━━━━━━━━━━━━━━━━━━━\u001b[0m \u001b[32m141.9/141.9 kB\u001b[0m \u001b[31m14.0 MB/s\u001b[0m eta \u001b[36m0:00:00\u001b[0m\n",
            "\u001b[2K   \u001b[90m━━━━━━━━━━━━━━━━━━━━━━━━━━━━━━━━━━━━━━━━\u001b[0m \u001b[32m10.9/10.9 MB\u001b[0m \u001b[31m110.2 MB/s\u001b[0m eta \u001b[36m0:00:00\u001b[0m\n",
            "\u001b[2K   \u001b[90m━━━━━━━━━━━━━━━━━━━━━━━━━━━━━━━━━━━━━━━━\u001b[0m \u001b[32m63.7/63.7 kB\u001b[0m \u001b[31m6.0 MB/s\u001b[0m eta \u001b[36m0:00:00\u001b[0m\n",
            "\u001b[2K   \u001b[90m━━━━━━━━━━━━━━━━━━━━━━━━━━━━━━━━━━━━━━━━\u001b[0m \u001b[32m58.3/58.3 kB\u001b[0m \u001b[31m4.8 MB/s\u001b[0m eta \u001b[36m0:00:00\u001b[0m\n",
            "\u001b[2K   \u001b[90m━━━━━━━━━━━━━━━━━━━━━━━━━━━━━━━━━━━━━━━━\u001b[0m \u001b[32m71.5/71.5 kB\u001b[0m \u001b[31m6.1 MB/s\u001b[0m eta \u001b[36m0:00:00\u001b[0m\n",
            "\u001b[2K   \u001b[90m━━━━━━━━━━━━━━━━━━━━━━━━━━━━━━━━━━━━━━━━\u001b[0m \u001b[32m130.2/130.2 kB\u001b[0m \u001b[31m12.6 MB/s\u001b[0m eta \u001b[36m0:00:00\u001b[0m\n",
            "\u001b[?25h"
          ]
        }
      ]
    },
    {
      "cell_type": "code",
      "source": [
        "import gradio as gr\n",
        "\n",
        "def model_response(human_text, model=model_simpleRNN):\n",
        "    encoded = [char2idx[ch] for ch in human_text.lower() ]\n",
        "    encoded = pad_sequences([encoded], maxlen=max_context_size, padding='pre')\n",
        "    y_pred = np.argmax(model.predict(encoded)[0,-1,:])\n",
        "\n",
        "    out_word = ''\n",
        "    out_word = idx2char[y_pred]\n",
        "    return human_text + out_word\n",
        "\n",
        "iface = gr.Interface(\n",
        "    fn=model_response,\n",
        "    inputs=[\"textbox\"],\n",
        "    outputs=\"text\")\n",
        "\n",
        "iface.launch(debug=True)"
      ],
      "metadata": {
        "colab": {
          "base_uri": "https://localhost:8080/",
          "height": 678
        },
        "id": "frZN7Yp5lpqv",
        "outputId": "c29f4a79-05f3-44eb-a3fb-8d0c788f36bc"
      },
      "execution_count": 32,
      "outputs": [
        {
          "output_type": "stream",
          "name": "stdout",
          "text": [
            "Setting queue=True in a Colab notebook requires sharing enabled. Setting `share=True` (you can turn this off by setting `share=False` in `launch()` explicitly).\n",
            "\n",
            "Colab notebook detected. This cell will run indefinitely so that you can see errors and logs. To turn off, set debug=False in launch().\n",
            "* Running on public URL: https://c6305d297eb1fd9fc0.gradio.live\n",
            "\n",
            "This share link expires in 72 hours. For free permanent hosting and GPU upgrades, run `gradio deploy` from the terminal in the working directory to deploy to Hugging Face Spaces (https://huggingface.co/spaces)\n"
          ]
        },
        {
          "output_type": "display_data",
          "data": {
            "text/plain": [
              "<IPython.core.display.HTML object>"
            ],
            "text/html": [
              "<div><iframe src=\"https://c6305d297eb1fd9fc0.gradio.live\" width=\"100%\" height=\"500\" allow=\"autoplay; camera; microphone; clipboard-read; clipboard-write;\" frameborder=\"0\" allowfullscreen></iframe></div>"
            ]
          },
          "metadata": {}
        },
        {
          "output_type": "stream",
          "name": "stdout",
          "text": [
            "\u001b[1m1/1\u001b[0m \u001b[32m━━━━━━━━━━━━━━━━━━━━\u001b[0m\u001b[37m\u001b[0m \u001b[1m0s\u001b[0m 20ms/step\n",
            "Keyboard interruption in main thread... closing server.\n",
            "Killing tunnel 127.0.0.1:7860 <> https://c6305d297eb1fd9fc0.gradio.live\n"
          ]
        },
        {
          "output_type": "execute_result",
          "data": {
            "text/plain": []
          },
          "metadata": {},
          "execution_count": 32
        }
      ]
    },
    {
      "cell_type": "code",
      "source": [
        "print(f'Respuesta LSTM: { model_response(\"esa casa viej\", model_LSTM) }')\n",
        "print(f'Respuesta SimpleRNN: {model_response(\"esa casa viej\", model_simpleRNN)}')\n",
        "print(f'Respuesta GRU: {model_response(\"esa casa viej\", model_GRU)}')"
      ],
      "metadata": {
        "colab": {
          "base_uri": "https://localhost:8080/"
        },
        "id": "x23LUU_altsS",
        "outputId": "04c08e1e-bc60-4c99-dd5f-3987f62c7862"
      },
      "execution_count": 36,
      "outputs": [
        {
          "output_type": "stream",
          "name": "stdout",
          "text": [
            "\u001b[1m1/1\u001b[0m \u001b[32m━━━━━━━━━━━━━━━━━━━━\u001b[0m\u001b[37m\u001b[0m \u001b[1m0s\u001b[0m 59ms/step\n",
            "Respuesta LSTM: esa casa viejo\n",
            "\u001b[1m1/1\u001b[0m \u001b[32m━━━━━━━━━━━━━━━━━━━━\u001b[0m\u001b[37m\u001b[0m \u001b[1m0s\u001b[0m 19ms/step\n",
            "Respuesta SimpleRNN: esa casa viejo\n",
            "\u001b[1m1/1\u001b[0m \u001b[32m━━━━━━━━━━━━━━━━━━━━\u001b[0m\u001b[37m\u001b[0m \u001b[1m0s\u001b[0m 72ms/step\n",
            "Respuesta GRU: esa casa viejo\n"
          ]
        }
      ]
    },
    {
      "cell_type": "markdown",
      "source": [
        "Se observa que la predicción del siguiente caracter tiene sentido, si bien el adjetivo \"viejo\" hace referencia a un sujeto masculino y el ejemplo habla de \"la casa\" que es un sujeto femenino, la palabra guarda coehrencia y corresponde a una palabra real."
      ],
      "metadata": {
        "id": "a9UX7vwS-KAU"
      }
    },
    {
      "cell_type": "markdown",
      "source": [
        "## Generacion de Secuencias"
      ],
      "metadata": {
        "id": "QAlfgU5jly_X"
      }
    },
    {
      "cell_type": "code",
      "source": [
        "def generate_seq(model, seed_text, max_length, n_words):\n",
        "    output_text = seed_text\n",
        "\n",
        "    for _ in range(n_words):\n",
        "        encoded = [char2idx[ch] for ch in output_text.lower() ]\n",
        "        encoded = pad_sequences([encoded], maxlen=max_length, padding='pre')\n",
        "        y_hat = np.argmax(model.predict(encoded,verbose=0)[0,-1,:])\n",
        "        out_word = ''\n",
        "        out_word = idx2char[y_hat]\n",
        "        output_text += out_word\n",
        "    return output_text"
      ],
      "metadata": {
        "id": "FwjIqOUElzpj"
      },
      "execution_count": 26,
      "outputs": []
    },
    {
      "cell_type": "code",
      "source": [
        "input_text='Llevé a mis visitantes'\n",
        "\n",
        "print('Modelo LSTM:')\n",
        "print(generate_seq(model_LSTM, input_text, max_length=max_context_size, n_words=30))\n",
        "\n",
        "print('Modelo Simple RNN:')\n",
        "print(generate_seq(model_simpleRNN, input_text, max_length=max_context_size, n_words=30))\n",
        "\n",
        "print('Modelo GRU:')\n",
        "print(generate_seq(model_GRU, input_text, max_length=max_context_size, n_words=30))"
      ],
      "metadata": {
        "colab": {
          "base_uri": "https://localhost:8080/"
        },
        "id": "H5geEEWvl5uu",
        "outputId": "42b6caf2-9c8e-4687-fd32-a40b8aa8f442"
      },
      "execution_count": 38,
      "outputs": [
        {
          "output_type": "stream",
          "name": "stdout",
          "text": [
            "Modelo LSTM:\n",
            "Llevé a mis visitantes ente co la la la la la la la \n",
            "Modelo Simple RNN:\n",
            "Llevé a mis visitantes \n",
            " ento con ento en la pera e\n",
            "Modelo GRU:\n",
            "Llevé a mis visitantes entente con entente con enten\n"
          ]
        }
      ]
    },
    {
      "cell_type": "markdown",
      "source": [
        "Se observa que las secuencias generadas, en general, no guardan mucha coherencia literaria para ninguno de los modelos, esto mas que nada porque los tres modelos generaron palabras inexistentes.\n",
        "\n",
        "Se observa que el modelo LSTM termina generando la misma palabra una y otra vez."
      ],
      "metadata": {
        "id": "tzheg5Un-4im"
      }
    },
    {
      "cell_type": "markdown",
      "source": [
        "## Beam Search y Muestreo Aleatorio"
      ],
      "metadata": {
        "id": "7i2I0uVyl930"
      }
    },
    {
      "cell_type": "code",
      "source": [
        "def encode(text,max_length=max_context_size):\n",
        "\n",
        "    encoded = [char2idx[ch] for ch in text]\n",
        "    encoded = pad_sequences([encoded], maxlen=max_length, padding='pre')\n",
        "\n",
        "    return encoded\n",
        "\n",
        "def decode(seq):\n",
        "    return ''.join([idx2char[ch] for ch in seq])"
      ],
      "metadata": {
        "id": "5adqUUAZl-dc"
      },
      "execution_count": 28,
      "outputs": []
    },
    {
      "cell_type": "code",
      "source": [
        "from scipy.special import softmax\n",
        "\n",
        "# función que selecciona candidatos para el beam search\n",
        "def select_candidates(pred,num_beams,vocab_size,history_probs,history_tokens,temp,mode):\n",
        "\n",
        "  # colectar todas las probabilidades para la siguiente búsqueda\n",
        "  pred_large = []\n",
        "\n",
        "  for idx,pp in enumerate(pred):\n",
        "    pred_large.extend(np.log(pp+1E-10)+history_probs[idx])\n",
        "\n",
        "  pred_large = np.array(pred_large)\n",
        "\n",
        "  # criterio de selección\n",
        "  if mode == 'det':\n",
        "    idx_select = np.argsort(pred_large)[::-1][:num_beams] # beam search determinista\n",
        "  elif mode == 'sto':\n",
        "    idx_select = np.random.choice(np.arange(pred_large.shape[0]), num_beams, p=softmax(pred_large/temp)) # beam search con muestreo aleatorio\n",
        "  else:\n",
        "    raise ValueError(f'Wrong selection mode. {mode} was given. det and sto are supported.')\n",
        "\n",
        "  # traducir a índices de token en el vocabulario\n",
        "  new_history_tokens = np.concatenate((np.array(history_tokens)[idx_select//vocab_size],\n",
        "                        np.array([idx_select%vocab_size]).T),\n",
        "                      axis=1)\n",
        "\n",
        "  # devolver el producto de las probabilidades (log) y la secuencia de tokens seleccionados\n",
        "  return pred_large[idx_select.astype(int)], new_history_tokens.astype(int)\n",
        "\n",
        "\n",
        "def beam_search(model,num_beams,num_words,input,temp=1,mode='det'):\n",
        "\n",
        "    # first iteration\n",
        "\n",
        "    # encode\n",
        "    encoded = encode(input)\n",
        "\n",
        "    # first prediction\n",
        "    y_hat = model.predict(encoded,verbose=0)[0,-1,:]\n",
        "\n",
        "    # get vocabulary size\n",
        "    vocab_size = y_hat.shape[0]\n",
        "\n",
        "    # initialize history\n",
        "    history_probs = [0]*num_beams\n",
        "    history_tokens = [encoded[0]]*num_beams\n",
        "\n",
        "    # select num_beams candidates\n",
        "    history_probs, history_tokens = select_candidates([y_hat],\n",
        "                                        num_beams,\n",
        "                                        vocab_size,\n",
        "                                        history_probs,\n",
        "                                        history_tokens,\n",
        "                                        temp,\n",
        "                                        mode)\n",
        "\n",
        "    # beam search loop\n",
        "    for i in range(num_words-1):\n",
        "\n",
        "      preds = []\n",
        "\n",
        "      for hist in history_tokens:\n",
        "\n",
        "        # actualizar secuencia de tokens\n",
        "        input_update = np.array([hist[i+1:]]).copy()\n",
        "\n",
        "        # predicción\n",
        "        y_hat = model.predict(input_update,verbose=0)[0,-1,:]\n",
        "\n",
        "        preds.append(y_hat)\n",
        "\n",
        "      history_probs, history_tokens = select_candidates(preds,\n",
        "                                                        num_beams,\n",
        "                                                        vocab_size,\n",
        "                                                        history_probs,\n",
        "                                                        history_tokens,\n",
        "                                                        temp,\n",
        "                                                        mode)\n",
        "\n",
        "    return history_tokens[:,-(len(input)+num_words):]"
      ],
      "metadata": {
        "id": "995BcZ4kqM4i"
      },
      "execution_count": 29,
      "outputs": []
    },
    {
      "cell_type": "code",
      "source": [
        "lstm_sto_beamsearch = beam_search(model_LSTM, num_beams=10, num_words=20, input=\"lo primero que hice fue\", temp=5, mode=\"sto\")\n",
        "print(f\"model_LSTM (estocastico), temp=5: {decode(lstm_sto_beamsearch[0])}\")\n",
        "\n",
        "rnn_sto_beamsearch = beam_search(model_simpleRNN, num_beams=10, num_words=20, input=\"lo primero que hice fue\", temp=5, mode=\"sto\")\n",
        "print(f\"model_simpleRNN (estocastico), temp=5: {decode(rnn_sto_beamsearch[0])}\")\n",
        "\n",
        "gru_sto_beamsearch = beam_search(model_GRU, num_beams=10, num_words=20, input=\"lo primero que hice fue\", temp=5, mode=\"sto\")\n",
        "print(f\"model_GRU (estocastico), temp=5: {decode(gru_sto_beamsearch[0])}\")"
      ],
      "metadata": {
        "colab": {
          "base_uri": "https://localhost:8080/"
        },
        "id": "GVhSLxZ4mOxf",
        "outputId": "356a51d0-1238-4e9f-ecac-f23619b106ff"
      },
      "execution_count": 30,
      "outputs": [
        {
          "output_type": "stream",
          "name": "stdout",
          "text": [
            "model_LSTM (estocastico), temp=5: lo primero que hice fue tín mnlimhe,tspú e(\n",
            "model_simpleRNN (estocastico), temp=5: lo primero que hice fues íorartaanólclófdgz\n",
            "model_GRU (estocastico), temp=5: lo primero que hice fue tigaesib(ú aúll paf\n"
          ]
        }
      ]
    },
    {
      "cell_type": "code",
      "source": [
        "lstm_det_beamsearch = beam_search(model_LSTM, num_beams=10, num_words=5, input=\"lo primero que hice fue\", mode=\"det\")\n",
        "print(f\"model_LSTM (determinista), temp=5: {decode(lstm_det_beamsearch[0])}\")\n",
        "\n",
        "rnn_det_beamsearch = beam_search(model_simpleRNN, num_beams=10, num_words=5, input=\"lo primero que hice fue\", mode=\"det\")\n",
        "print(f\"model_simpleRNN (determinista), temp=5: {decode(rnn_det_beamsearch[0])}\")\n",
        "\n",
        "gru_det_beamsearch = beam_search(model_GRU, num_beams=10, num_words=5, input=\"lo primero que hice fue\", mode=\"det\")\n",
        "print(f\"model_GRU (determinista), temp=5: {decode(gru_det_beamsearch[0])}\")"
      ],
      "metadata": {
        "colab": {
          "base_uri": "https://localhost:8080/"
        },
        "id": "vZzSMytpmRSg",
        "outputId": "9b510864-4c74-4c43-8ebe-d5478f0e5974"
      },
      "execution_count": 31,
      "outputs": [
        {
          "output_type": "stream",
          "name": "stdout",
          "text": [
            "model_LSTM (determinista), temp=5: lo primero que hice fuenten \n",
            "model_simpleRNN (determinista), temp=5: lo primero que hice fue do e\n",
            "model_GRU (determinista), temp=5: lo primero que hice fuentent\n"
          ]
        }
      ]
    },
    {
      "cell_type": "markdown",
      "source": [
        "Luego de aplicar Beam Search se observa que los resultados son poco satisfactorios, dado que para los tres modelos, las palabras generadas son inesixtentes.\n",
        "\n",
        "Sin embargo, y de forma similar a lo observado con los modelos de Tokenización por palabras, los resultados deterministas son ligeramente mejores, si bien siguen siendo palabras inexistentes."
      ],
      "metadata": {
        "id": "G478uCFe_u7t"
      }
    },
    {
      "cell_type": "markdown",
      "source": [
        "## Conclusiones Finales\n",
        "\n",
        "En este desafío se analizaron modelos de Tokenización por Caracteres utilizando tres diferentes arquitecturas. En general las observaciones son las siguientes:\n",
        "\n",
        "En cuanto a la medición de la perplejidad, se observa que el modelo LSTM, presenta el mejor comportamiento en el que se puede apreciar que en efecto los valores de la perplejidad descienden. En contraste, el modelo SimpleRNN presento el peor comportamiento.\n",
        "\n",
        "En cuanto a la predicción de caracteres, se observa que los tres modelos pudieron predecir de forma correcta el siguiente caracter, si bien hubo una pequeña incoherencia con el género del sujeto, lo cual dentro del contexto del idioma español conlleva importancia.\n",
        "\n",
        "Acerca de la generación de secuencias, se observó resultados desfavorables para los tres modelos, con una ligera mejoría para el caso del Beam Search determinista."
      ],
      "metadata": {
        "id": "N7hDaO-LATn-"
      }
    }
  ]
}