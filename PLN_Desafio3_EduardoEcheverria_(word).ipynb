{
  "nbformat": 4,
  "nbformat_minor": 0,
  "metadata": {
    "colab": {
      "provenance": [],
      "toc_visible": true,
      "gpuType": "T4"
    },
    "kernelspec": {
      "name": "python3",
      "display_name": "Python 3"
    },
    "language_info": {
      "name": "python"
    },
    "accelerator": "GPU"
  },
  "cells": [
    {
      "cell_type": "markdown",
      "source": [
        "# Procesamiento de lenguaje natural\n",
        "## Tokenización por palabras\n",
        "### Nombre: Eduardo Echeverria\n",
        "### Cohorte: 15Co2024"
      ],
      "metadata": {
        "id": "mLxMPyBzYhuy"
      }
    },
    {
      "cell_type": "markdown",
      "source": [
        "### Consigna\n",
        "- Seleccionar un corpus de texto sobre el cual entrenar el modelo de lenguaje.\n",
        "- Realizar el pre-procesamiento adecuado para tokenizar el corpus, estructurar el dataset y separar entre datos de entrenamiento y validación.\n",
        "- Proponer arquitecturas de redes neuronales basadas en unidades recurrentes para implementar un modelo de lenguaje.\n",
        "- Con el o los modelos que consideren adecuados, generar nuevas secuencias a partir de secuencias de contexto con las estrategias de greedy search y beam search determístico y estocástico. En este último caso observar el efecto de la temperatura en la generación de secuencias.\n",
        "\n",
        "\n",
        "### Sugerencias\n",
        "- Durante el entrenamiento, guiarse por el descenso de la perplejidad en los datos de validación para finalizar el entrenamiento. Para ello se provee un callback.\n",
        "- Explorar utilizar SimpleRNN (celda de Elman), LSTM y GRU.\n",
        "- rmsprop es el optimizador recomendado para la buena convergencia. No obstante se pueden explorar otros."
      ],
      "metadata": {
        "id": "nrTRfszuY3h3"
      }
    },
    {
      "cell_type": "code",
      "execution_count": 1,
      "metadata": {
        "colab": {
          "base_uri": "https://localhost:8080/"
        },
        "id": "ppszfh7Z9IoC",
        "outputId": "58b30c40-5590-416e-9097-81bde675df28"
      },
      "outputs": [
        {
          "output_type": "stream",
          "name": "stderr",
          "text": [
            "[nltk_data] Downloading package punkt to /root/nltk_data...\n",
            "[nltk_data]   Unzipping tokenizers/punkt.zip.\n"
          ]
        }
      ],
      "source": [
        "import bs4 as bs\n",
        "import io\n",
        "import matplotlib.pyplot as plt\n",
        "import nltk\n",
        "nltk.download('punkt')\n",
        "import numpy as np\n",
        "import pandas as pd\n",
        "import pickle\n",
        "import random\n",
        "import re\n",
        "import seaborn as sns\n",
        "import urllib.request\n",
        "\n",
        "from keras.utils import to_categorical\n",
        "from keras.models import Sequential\n",
        "from keras.layers import BatchNormalization, Dense, Dropout, Embedding, GRU, LSTM, SimpleRNN\n",
        "from keras.optimizers import Adam\n",
        "from nltk.tokenize import sent_tokenize\n",
        "from sklearn.model_selection import train_test_split\n",
        "from tensorflow import keras\n",
        "from tensorflow.keras import layers\n",
        "from tensorflow.keras.losses import CategoricalCrossentropy, SparseCategoricalCrossentropy\n",
        "from tensorflow.keras.preprocessing.text import Tokenizer\n",
        "from tensorflow.keras.preprocessing.text import text_to_word_sequence\n",
        "from tensorflow.keras.utils import pad_sequences"
      ]
    },
    {
      "cell_type": "markdown",
      "source": [
        "## DataSet\n",
        "\n",
        "Se utilizará para este desafio, el texto correspondiente al cuento \"Corazón Delator\" de Edgar Allan Poe obtenido del sitio web \"https://www.textos.info\".\n",
        "Se trata de un texto con una longitud mayor a la de los textos vistos en clases."
      ],
      "metadata": {
        "id": "3XTU0C_O9Y6F"
      }
    },
    {
      "cell_type": "code",
      "source": [
        "raw_html = urllib.request.urlopen('https://www.textos.info/edgar-allan-poe/el-corazon-delator/ebook')\n",
        "raw_html = raw_html.read()\n",
        "\n",
        "# Realizamos el parseo del articulo\n",
        "article_html = bs.BeautifulSoup(raw_html, 'lxml')\n",
        "\n",
        "# Encontramos todos los párrafos del HTML (bajo el tag <p>)\n",
        "article_paragraphs = article_html.find_all('p')\n",
        "\n",
        "article_text = ''\n",
        "\n",
        "for paragraph in article_paragraphs:\n",
        "    article_text += paragraph.text + ' '\n",
        "\n",
        "# Pasamos todo el texto a minúscula\n",
        "article_text = article_text.lower()\n",
        "\n",
        "# Eliminamos los salotos de linea\n",
        "article_text = article_text.replace('\\n', ' ')\n",
        "article_text = article_text.replace('\\r', ' ')"
      ],
      "metadata": {
        "id": "QMT_uXIE_2nK"
      },
      "execution_count": 2,
      "outputs": []
    },
    {
      "cell_type": "code",
      "source": [
        "article_text[:1000]"
      ],
      "metadata": {
        "colab": {
          "base_uri": "https://localhost:8080/",
          "height": 122
        },
        "id": "Y96pq43EA4fA",
        "outputId": "75b19d36-f22d-4f6f-8c7a-516c75fc2b4a"
      },
      "execution_count": 3,
      "outputs": [
        {
          "output_type": "execute_result",
          "data": {
            "text/plain": [
              "' ¡es verdad! nervioso, muy, muy terriblemente nervioso yo había sido y   soy; ¿pero por qué dirán ustedes que soy loco? la enfermedad había   aguzado mis sentidos, no destruido, no entorpecido. sobre todo estaba la   penetrante capacidad de oír. yo oí todas las cosas en el cielo y en la   tierra. yo oí muchas cosas en el infierno. ¿cómo entonces soy yo loco?   ¡escuchen! y observen cuan razonablemente, cuan serenamente, puedo   contarles toda la historia. es imposible decir cómo primero la idea entró en mi cerebro, pero,   una vez concebida, me acosó día y noche. objeto no había ninguno. pasión   no había ninguna. yo amé al viejo. el nunca me había hecho mal. él no   me había insultado. de su oro no tuve ningún deseo. ¡creo que fue su ojo! sí, ¡fue eso!   uno de sus ojos parecía como el de un buitre — un ojo azul pálido con   una nube encima. cada vez que caía sobre mí, la sangre se me helaba, y entonces de a   poco, muy gradualmente, me decidí a tomar la vida del viejo, y así   librar'"
            ],
            "application/vnd.google.colaboratory.intrinsic+json": {
              "type": "string"
            }
          },
          "metadata": {},
          "execution_count": 3
        }
      ]
    },
    {
      "cell_type": "code",
      "source": [
        "# Segmentamos el texto original en oraciones\n",
        "sentences = sent_tokenize(article_text, language='spanish')\n",
        "\n",
        "sentences[:10]"
      ],
      "metadata": {
        "colab": {
          "base_uri": "https://localhost:8080/"
        },
        "id": "kiFqyeyuE5dX",
        "outputId": "e2628765-6d88-4ac0-ddaf-2d63b5bfbf54"
      },
      "execution_count": 4,
      "outputs": [
        {
          "output_type": "execute_result",
          "data": {
            "text/plain": [
              "[' ¡es verdad!',\n",
              " 'nervioso, muy, muy terriblemente nervioso yo había sido y   soy; ¿pero por qué dirán ustedes que soy loco?',\n",
              " 'la enfermedad había   aguzado mis sentidos, no destruido, no entorpecido.',\n",
              " 'sobre todo estaba la   penetrante capacidad de oír.',\n",
              " 'yo oí todas las cosas en el cielo y en la   tierra.',\n",
              " 'yo oí muchas cosas en el infierno.',\n",
              " '¿cómo entonces soy yo loco?',\n",
              " '¡escuchen!',\n",
              " 'y observen cuan razonablemente, cuan serenamente, puedo   contarles toda la historia.',\n",
              " 'es imposible decir cómo primero la idea entró en mi cerebro, pero,   una vez concebida, me acosó día y noche.']"
            ]
          },
          "metadata": {},
          "execution_count": 4
        }
      ]
    },
    {
      "cell_type": "markdown",
      "source": [
        "Se procede a realizar una breve limpieza del texto con el objetivo de eliminar caracteres especiales como signos de interrogación, admiración, guiones, etc."
      ],
      "metadata": {
        "id": "TnDgJk4HZ6nW"
      }
    },
    {
      "cell_type": "code",
      "source": [
        "# Para simplificar el texto, eliminamos caracteres especiales\n",
        "only_letter_sentences = [re.sub(r'[^\\w\\s]', ' ', sentence) for sentence in sentences]\n",
        "\n",
        "# Se reemplazan espacios consecutivos por un único espacio\n",
        "fixed_sentences = [re.sub(r'\\s+', ' ', sentence).strip() for sentence in only_letter_sentences]\n",
        "\n",
        "fixed_sentences[:10]"
      ],
      "metadata": {
        "colab": {
          "base_uri": "https://localhost:8080/"
        },
        "id": "2NxKNFbuGfWD",
        "outputId": "d2ea88db-8e92-4ceb-8ba8-948bea7e1134"
      },
      "execution_count": 32,
      "outputs": [
        {
          "output_type": "execute_result",
          "data": {
            "text/plain": [
              "['es verdad',\n",
              " 'nervioso muy muy terriblemente nervioso yo había sido y soy pero por qué dirán ustedes que soy loco',\n",
              " 'la enfermedad había aguzado mis sentidos no destruido no entorpecido',\n",
              " 'sobre todo estaba la penetrante capacidad de oír',\n",
              " 'yo oí todas las cosas en el cielo y en la tierra',\n",
              " 'yo oí muchas cosas en el infierno',\n",
              " 'cómo entonces soy yo loco',\n",
              " 'escuchen',\n",
              " 'y observen cuan razonablemente cuan serenamente puedo contarles toda la historia',\n",
              " 'es imposible decir cómo primero la idea entró en mi cerebro pero una vez concebida me acosó día y noche']"
            ]
          },
          "metadata": {},
          "execution_count": 32
        }
      ]
    },
    {
      "cell_type": "markdown",
      "source": [
        "## Elección del tamaño del contexto"
      ],
      "metadata": {
        "id": "wjNL4X0WCgd2"
      }
    },
    {
      "cell_type": "code",
      "source": [
        "# Procedemos a segmentar el texto\n",
        "segmented_sentences = [text_to_word_sequence(sentence) for sentence in fixed_sentences]"
      ],
      "metadata": {
        "id": "_NpR0eBLCzk-"
      },
      "execution_count": 33,
      "outputs": []
    },
    {
      "cell_type": "code",
      "source": [
        "# Comparamos el texto inicial...\n",
        "fixed_sentences[50]"
      ],
      "metadata": {
        "colab": {
          "base_uri": "https://localhost:8080/",
          "height": 35
        },
        "id": "799UHl1wC1uc",
        "outputId": "b682fdf2-1806-4a24-d469-9352d2e6b6dc"
      },
      "execution_count": 34,
      "outputs": [
        {
          "output_type": "execute_result",
          "data": {
            "text/plain": [
              "'en un momento oí un suave gemido y supe que era el gemido del terror mortal'"
            ],
            "application/vnd.google.colaboratory.intrinsic+json": {
              "type": "string"
            }
          },
          "metadata": {},
          "execution_count": 34
        }
      ]
    },
    {
      "cell_type": "code",
      "source": [
        "# Con el texto segmentado\n",
        "segmented_sentences[50]"
      ],
      "metadata": {
        "colab": {
          "base_uri": "https://localhost:8080/"
        },
        "id": "bgb7ljkpC32z",
        "outputId": "6532921e-5509-4ede-e9dd-4afefa2434b6"
      },
      "execution_count": 35,
      "outputs": [
        {
          "output_type": "execute_result",
          "data": {
            "text/plain": [
              "['en',\n",
              " 'un',\n",
              " 'momento',\n",
              " 'oí',\n",
              " 'un',\n",
              " 'suave',\n",
              " 'gemido',\n",
              " 'y',\n",
              " 'supe',\n",
              " 'que',\n",
              " 'era',\n",
              " 'el',\n",
              " 'gemido',\n",
              " 'del',\n",
              " 'terror',\n",
              " 'mortal']"
            ]
          },
          "metadata": {},
          "execution_count": 35
        }
      ]
    },
    {
      "cell_type": "code",
      "source": [
        "# Calculamos la longitud de cada oracion\n",
        "sentence_length = [len(segmented_sentence) for segmented_sentence in segmented_sentences]\n",
        "\n",
        "# Desplegamos la distribucion de las longitudes de linea\n",
        "plt.hist(sentence_length, bins=20, color=\"blue\", edgecolor=\"lightblue\")\n"
      ],
      "metadata": {
        "colab": {
          "base_uri": "https://localhost:8080/",
          "height": 517
        },
        "id": "A5x7Ck2QC8Ce",
        "outputId": "ca527ddd-42f6-4024-b907-152d8a088335"
      },
      "execution_count": 36,
      "outputs": [
        {
          "output_type": "execute_result",
          "data": {
            "text/plain": [
              "(array([25., 25., 34., 16., 11., 18.,  8., 11.,  6.,  2.,  5.,  4.,  1.,\n",
              "         3.,  1.,  2.,  2.,  1.,  0.,  2.]),\n",
              " array([ 1. ,  3.4,  5.8,  8.2, 10.6, 13. , 15.4, 17.8, 20.2, 22.6, 25. ,\n",
              "        27.4, 29.8, 32.2, 34.6, 37. , 39.4, 41.8, 44.2, 46.6, 49. ]),\n",
              " <BarContainer object of 20 artists>)"
            ]
          },
          "metadata": {},
          "execution_count": 36
        },
        {
          "output_type": "display_data",
          "data": {
            "text/plain": [
              "<Figure size 640x480 with 1 Axes>"
            ],
            "image/png": "[encoded data removed]"
          },
          "metadata": {}
        }
      ]
    },
    {
      "cell_type": "code",
      "source": [
        "# A partir de la distribucion de longitudes de cada linea de texto, elegimos un percentil de 90%\n",
        "# como criterio para determinar el maximo tamaño del contexto.\n",
        "max_context_size = int(np.percentile(sentence_length, 90)-1)\n",
        "print(f\"Tamaño de contexto: {max_context_size}\")"
      ],
      "metadata": {
        "colab": {
          "base_uri": "https://localhost:8080/"
        },
        "id": "LuBxcOlTDAHM",
        "outputId": "0d207a9c-6f51-480f-f667-fdebaad358f5"
      },
      "execution_count": 37,
      "outputs": [
        {
          "output_type": "stream",
          "name": "stdout",
          "text": [
            "Tamaño de contexto: 25\n"
          ]
        }
      ]
    },
    {
      "cell_type": "markdown",
      "source": [
        "## Tokenización\n",
        "\n",
        "Se procede a realizar la tokenizacion de las oraciones (sentences) del texto para asignarle un número a cada palabra."
      ],
      "metadata": {
        "id": "_S3xsFfcDFLi"
      }
    },
    {
      "cell_type": "code",
      "source": [
        "# Instanciamos el tokenizador\n",
        "tok = Tokenizer()\n",
        "tok.fit_on_texts(segmented_sentences)\n",
        "\n",
        "# Convertimos las palabras a numeros\n",
        "tokenized_sentences = tok.texts_to_sequences(segmented_sentences)"
      ],
      "metadata": {
        "id": "FtyQ4cYSDFxI"
      },
      "execution_count": 38,
      "outputs": []
    },
    {
      "cell_type": "code",
      "source": [
        "# Tomamos una linea segmentada como ejemplo\n",
        "print(segmented_sentences[50])\n",
        "\n",
        "# Desplegamos la misma linea tokenizada\n",
        "print(tokenized_sentences[50])"
      ],
      "metadata": {
        "colab": {
          "base_uri": "https://localhost:8080/"
        },
        "id": "VEmzY7NKDKGw",
        "outputId": "3d873d38-8f4e-428d-a397-03d7b9a0229f"
      },
      "execution_count": 39,
      "outputs": [
        {
          "output_type": "stream",
          "name": "stdout",
          "text": [
            "['en', 'un', 'momento', 'oí', 'un', 'suave', 'gemido', 'y', 'supe', 'que', 'era', 'el', 'gemido', 'del', 'terror', 'mortal']\n",
            "[6, 7, 78, 81, 7, 409, 130, 3, 410, 5, 33, 2, 130, 20, 131, 411]\n"
          ]
        }
      ]
    },
    {
      "cell_type": "markdown",
      "source": [
        "## Estructuración de los DataSets de Entrenamiento y Validación\n",
        "\n",
        "Partiendo de la variable \"tokenized_lines\" vamos a armar los datasets de entrenamiento y validación."
      ],
      "metadata": {
        "id": "XVPhU8KvDNHc"
      }
    },
    {
      "cell_type": "code",
      "source": [
        "tokenized_sent_train, tokenized_sent_val, _, _ = train_test_split(tokenized_sentences, tokenized_sentences, test_size=0.2, random_state=42)"
      ],
      "metadata": {
        "id": "6fgQ072nDNvY"
      },
      "execution_count": 40,
      "outputs": []
    },
    {
      "cell_type": "markdown",
      "source": [
        "Vamos a separar las oraciones que tienen un tamaño menor al contexto máximo, para generarnos más secuencias de entrenamiento"
      ],
      "metadata": {
        "id": "Usfx_lf2DRTX"
      }
    },
    {
      "cell_type": "code",
      "source": [
        "tok_sentences = []\n",
        "\n",
        "for sentence in tokenized_sent_train:\n",
        "    if len(sentence) > (max_context_size + 1):\n",
        "        extra = len(sentence) - (max_context_size + 1) + 1\n",
        "        for i in range (extra):\n",
        "            tok_sentences.append(sentence[i:i + max_context_size + 1])\n",
        "    else:\n",
        "        tok_sentences.append(sentence)"
      ],
      "metadata": {
        "id": "_c6ZBqRrDZVO"
      },
      "execution_count": 41,
      "outputs": []
    },
    {
      "cell_type": "code",
      "source": [
        "len(tok_sentences)"
      ],
      "metadata": {
        "colab": {
          "base_uri": "https://localhost:8080/"
        },
        "id": "fRgPKSmiDbzi",
        "outputId": "d910b078-dfbe-4cc0-9181-736ddc8ddb1b"
      },
      "execution_count": 42,
      "outputs": [
        {
          "output_type": "execute_result",
          "data": {
            "text/plain": [
              "224"
            ]
          },
          "metadata": {},
          "execution_count": 42
        }
      ]
    },
    {
      "cell_type": "markdown",
      "source": [
        "Realizamos la aumentación de los datos"
      ],
      "metadata": {
        "id": "1konHqX-DfiK"
      }
    },
    {
      "cell_type": "code",
      "source": [
        "tok_sentences_augmented = []\n",
        "\n",
        "for sent in tok_sentences:\n",
        "    subsequence = [sent[:i + 2] for i in range(len(sent) - 1)]\n",
        "    tok_sentences_augmented.append(pad_sequences(subsequence, maxlen=max_context_size + 1, padding='pre'))"
      ],
      "metadata": {
        "id": "Ljkh4qBZDgFT"
      },
      "execution_count": 43,
      "outputs": []
    },
    {
      "cell_type": "code",
      "source": [
        "# Concatenamos todas las secuencias en un array único\n",
        "train_sequence = np.concatenate(tok_sentences_augmented, axis=0)"
      ],
      "metadata": {
        "id": "6Z2oTviqDkxp"
      },
      "execution_count": 44,
      "outputs": []
    },
    {
      "cell_type": "code",
      "source": [
        "train_sequence.shape"
      ],
      "metadata": {
        "colab": {
          "base_uri": "https://localhost:8080/"
        },
        "id": "1OFdmAGyDnsv",
        "outputId": "c8fcc389-5751-46b4-e719-391d37578e3a"
      },
      "execution_count": 45,
      "outputs": [
        {
          "output_type": "execute_result",
          "data": {
            "text/plain": [
              "(3475, 26)"
            ]
          },
          "metadata": {},
          "execution_count": 45
        }
      ]
    },
    {
      "cell_type": "code",
      "source": [
        "# Definimos las entradas y los targets\n",
        "X = train_sequence[:,:-1]\n",
        "y = train_sequence[:,1:]"
      ],
      "metadata": {
        "id": "LkfvYP1TDqf_"
      },
      "execution_count": 46,
      "outputs": []
    },
    {
      "cell_type": "code",
      "source": [
        "y.shape"
      ],
      "metadata": {
        "colab": {
          "base_uri": "https://localhost:8080/"
        },
        "id": "GtpttuFLDs6e",
        "outputId": "9757476a-5368-4513-ddbc-edacbc1887ae"
      },
      "execution_count": 47,
      "outputs": [
        {
          "output_type": "execute_result",
          "data": {
            "text/plain": [
              "(3475, 25)"
            ]
          },
          "metadata": {},
          "execution_count": 47
        }
      ]
    },
    {
      "cell_type": "code",
      "source": [
        "tok.index_word"
      ],
      "metadata": {
        "colab": {
          "base_uri": "https://localhost:8080/"
        },
        "id": "vf6qWkSxDwHc",
        "outputId": "0bcc4c8d-48e4-4e03-df2d-850906f6ada0"
      },
      "execution_count": 48,
      "outputs": [
        {
          "output_type": "execute_result",
          "data": {
            "text/plain": [
              "{1: 'la',\n",
              " 2: 'el',\n",
              " 3: 'y',\n",
              " 4: 'de',\n",
              " 5: 'que',\n",
              " 6: 'en',\n",
              " 7: 'un',\n",
              " 8: 'no',\n",
              " 9: 'más',\n",
              " 10: 'había',\n",
              " 11: 'me',\n",
              " 12: 'a',\n",
              " 13: 'con',\n",
              " 14: 'se',\n",
              " 15: 'pero',\n",
              " 16: 'yo',\n",
              " 17: 'lo',\n",
              " 18: 'mi',\n",
              " 19: 'como',\n",
              " 20: 'del',\n",
              " 21: 'para',\n",
              " 22: 'los',\n",
              " 23: 'las',\n",
              " 24: 'una',\n",
              " 25: 'sobre',\n",
              " 26: 'viejo',\n",
              " 27: 'por',\n",
              " 28: 'su',\n",
              " 29: 'fuerte',\n",
              " 30: 'muy',\n",
              " 31: 'noche',\n",
              " 32: 'al',\n",
              " 33: 'era',\n",
              " 34: 'él',\n",
              " 35: 'cuando',\n",
              " 36: 'bien',\n",
              " 37: 'es',\n",
              " 38: 'qué',\n",
              " 39: 'estaba',\n",
              " 40: 'ojo',\n",
              " 41: 'mis',\n",
              " 42: 'entonces',\n",
              " 43: 'tan',\n",
              " 44: 'ustedes',\n",
              " 45: 'todo',\n",
              " 46: 'ahora',\n",
              " 47: 'cabeza',\n",
              " 48: 'sonido',\n",
              " 49: 'corazón',\n",
              " 50: 'ellos',\n",
              " 51: 'sido',\n",
              " 52: 'nada',\n",
              " 53: 'cama',\n",
              " 54: 'cuarto',\n",
              " 55: 'ruido',\n",
              " 56: 'vez',\n",
              " 57: 'sí',\n",
              " 58: 'cada',\n",
              " 59: 'así',\n",
              " 60: 'linterna',\n",
              " 61: 'ver',\n",
              " 62: 'ya',\n",
              " 63: 'mientras',\n",
              " 64: 'podía',\n",
              " 65: 'sin',\n",
              " 66: 'soy',\n",
              " 67: 'loco',\n",
              " 68: 'fue',\n",
              " 69: 'puerta',\n",
              " 70: 'oh',\n",
              " 71: 'hora',\n",
              " 72: 'dentro',\n",
              " 73: 'hacer',\n",
              " 74: 'esto',\n",
              " 75: 'ni',\n",
              " 76: 'o',\n",
              " 77: 'constantemente',\n",
              " 78: 'momento',\n",
              " 79: 'les',\n",
              " 80: 'aún',\n",
              " 81: 'oí',\n",
              " 82: 'cuan',\n",
              " 83: 'hecho',\n",
              " 84: 'sus',\n",
              " 85: 'poco',\n",
              " 86: 'haber',\n",
              " 87: 'puse',\n",
              " 88: 'durante',\n",
              " 89: 'medianoche',\n",
              " 90: 'tanto',\n",
              " 91: 'rayo',\n",
              " 92: 'porque',\n",
              " 93: 'abrir',\n",
              " 94: 'estaban',\n",
              " 95: 'desde',\n",
              " 96: 'estado',\n",
              " 97: 'mismo',\n",
              " 98: 'piso',\n",
              " 99: 'hizo',\n",
              " 100: 'muerto',\n",
              " 101: 'oficiales',\n",
              " 102: 'aquí',\n",
              " 103: 'aumentaba',\n",
              " 104: 'nervioso',\n",
              " 105: 'penetrante',\n",
              " 106: 'cosas',\n",
              " 107: 'cómo',\n",
              " 108: 'toda',\n",
              " 109: 'ninguna',\n",
              " 110: 'nunca',\n",
              " 111: 'eso',\n",
              " 112: 'buitre',\n",
              " 113: 'pálido',\n",
              " 114: 'punto',\n",
              " 115: 'abría',\n",
              " 116: 'hábilmente',\n",
              " 117: 'hasta',\n",
              " 118: 'abrí',\n",
              " 119: 'cuidadosamente',\n",
              " 120: 'apenas',\n",
              " 121: 'sólo',\n",
              " 122: 'iba',\n",
              " 123: 'pueden',\n",
              " 124: 'reloj',\n",
              " 125: 'sabía',\n",
              " 126: 'quedé',\n",
              " 127: 'quieto',\n",
              " 128: 'todavía',\n",
              " 129: 'he',\n",
              " 130: 'gemido',\n",
              " 131: 'terror',\n",
              " 132: 'digo',\n",
              " 133: 'envuelto',\n",
              " 134: 'oídos',\n",
              " 135: 'golpeteo',\n",
              " 136: 'aumentó',\n",
              " 137: 'rápido',\n",
              " 138: 'minutos',\n",
              " 139: 'llegado',\n",
              " 140: 'embargo',\n",
              " 141: 'cadáver',\n",
              " 142: 'si',\n",
              " 143: 'tablas',\n",
              " 144: 'hombres',\n",
              " 145: 'hablé',\n",
              " 146: 'verdad',\n",
              " 147: 'sentidos',\n",
              " 148: 'oír',\n",
              " 149: 'todas',\n",
              " 150: 'escuchen',\n",
              " 151: 'imposible',\n",
              " 152: 'primero',\n",
              " 153: 'idea',\n",
              " 154: 'día',\n",
              " 155: 'ninguno',\n",
              " 156: 'ningún',\n",
              " 157: 'azul',\n",
              " 158: 'encima',\n",
              " 159: 'mí',\n",
              " 160: 'sangre',\n",
              " 161: 'librarme',\n",
              " 162: 'siempre',\n",
              " 163: 'deberían',\n",
              " 164: 'visto',\n",
              " 165: 'fui',\n",
              " 166: 'antes',\n",
              " 167: 'cerca',\n",
              " 168: 'apertura',\n",
              " 169: 'cerrada',\n",
              " 170: 'metía',\n",
              " 171: 'movía',\n",
              " 172: 'lentamente',\n",
              " 173: 'sueño',\n",
              " 174: 'entera',\n",
              " 175: 'único',\n",
              " 176: 'hice',\n",
              " 177: 'noches',\n",
              " 178: 'sino',\n",
              " 179: 'le',\n",
              " 180: 'tono',\n",
              " 181: 'dormía',\n",
              " 182: 'mano',\n",
              " 183: 'esa',\n",
              " 184: 'triunfo',\n",
              " 185: 'pensar',\n",
              " 186: 'allí',\n",
              " 187: 'siquiera',\n",
              " 188: 'di',\n",
              " 189: 'pesada',\n",
              " 190: 'dije',\n",
              " 191: 'sentado',\n",
              " 192: 'escuchando',\n",
              " 193: 'muerte',\n",
              " 194: 'pared',\n",
              " 195: 'conocía',\n",
              " 196: 'hace',\n",
              " 197: 'ha',\n",
              " 198: 'propio',\n",
              " 199: 'sentía',\n",
              " 200: 'aunque',\n",
              " 201: 'habían',\n",
              " 202: 'creciendo',\n",
              " 203: 'tratado',\n",
              " 204: 'estas',\n",
              " 205: 'vano',\n",
              " 206: 'sombra',\n",
              " 207: 'víctima',\n",
              " 208: 'sentir',\n",
              " 209: 'rendija',\n",
              " 210: 'sigilosamente',\n",
              " 211: 'fin',\n",
              " 212: 'abierto',\n",
              " 213: 'perfecta',\n",
              " 214: 'pude',\n",
              " 215: 'apagado',\n",
              " 216: 'sordo',\n",
              " 217: 'algodón',\n",
              " 218: 'también',\n",
              " 219: 'furia',\n",
              " 220: 'contuve',\n",
              " 221: 'mantener',\n",
              " 222: 'instante',\n",
              " 223: 'silencio',\n",
              " 224: 'casa',\n",
              " 225: 'pensé',\n",
              " 226: 'oído',\n",
              " 227: 'vecino',\n",
              " 228: 'sonreí',\n",
              " 229: 'acto',\n",
              " 230: 'podría',\n",
              " 231: 'algún',\n",
              " 232: 'piedra',\n",
              " 233: 'después',\n",
              " 234: 'levanté',\n",
              " 235: 'tres',\n",
              " 236: 'lugar',\n",
              " 237: 'temer',\n",
              " 238: 'policía',\n",
              " 239: 'grito',\n",
              " 240: 'buscaran',\n",
              " 241: 'sentí',\n",
              " 242: 'zumbido',\n",
              " 243: 'charlaban',\n",
              " 244: 'hacía',\n",
              " 245: 'oían',\n",
              " 246: 'dios',\n",
              " 247: 'cualquier',\n",
              " 248: 'cosa',\n",
              " 249: 'biblioteca',\n",
              " 250: 'textos',\n",
              " 251: 'libros',\n",
              " 252: 'proyecto',\n",
              " 253: 'puedes',\n",
              " 254: 'terriblemente',\n",
              " 255: 'dirán',\n",
              " 256: 'enfermedad',\n",
              " 257: 'aguzado',\n",
              " 258: 'destruido',\n",
              " 259: 'entorpecido',\n",
              " 260: 'capacidad',\n",
              " 261: 'cielo',\n",
              " 262: 'tierra',\n",
              " 263: 'muchas',\n",
              " 264: 'infierno',\n",
              " 265: 'observen',\n",
              " 266: 'razonablemente',\n",
              " 267: 'serenamente',\n",
              " 268: 'puedo',\n",
              " 269: 'contarles',\n",
              " 270: 'historia',\n",
              " 271: 'decir',\n",
              " 272: 'entró',\n",
              " 273: 'cerebro',\n",
              " 274: 'concebida',\n",
              " 275: 'acosó',\n",
              " 276: 'objeto',\n",
              " 277: 'pasión',\n",
              " 278: 'amé',\n",
              " 279: 'mal',\n",
              " 280: 'insultado',\n",
              " 281: 'oro',\n",
              " 282: 'tuve',\n",
              " 283: 'deseo',\n",
              " 284: 'creo',\n",
              " 285: 'uno',\n",
              " 286: 'ojos',\n",
              " 287: 'parecía',\n",
              " 288: 'nube',\n",
              " 289: 'caía',\n",
              " 290: 'helaba',\n",
              " 291: 'gradualmente',\n",
              " 292: 'decidí',\n",
              " 293: 'tomar',\n",
              " 294: 'vida',\n",
              " 295: 'éste',\n",
              " 296: 'imaginan',\n",
              " 297: 'locos',\n",
              " 298: 'saben',\n",
              " 299: 'haberme',\n",
              " 300: 'sabiamente',\n",
              " 301: 'procedí',\n",
              " 302: 'cuidado',\n",
              " 303: 'previsión',\n",
              " 304: 'disimulo',\n",
              " 305: 'trabajar',\n",
              " 306: 'amable',\n",
              " 307: 'semana',\n",
              " 308: 'matarlo',\n",
              " 309: 'giraba',\n",
              " 310: 'picaporte',\n",
              " 311: 'suavemente',\n",
              " 312: 'suficiente',\n",
              " 313: 'ponía',\n",
              " 314: 'oscura',\n",
              " 315: 'sorda',\n",
              " 316: 'luz',\n",
              " 317: 'saliera',\n",
              " 318: 'habrían',\n",
              " 319: 'reído',\n",
              " 320: 'perturbar',\n",
              " 321: 'tomó',\n",
              " 322: 'poner',\n",
              " 323: 'poder',\n",
              " 324: 'yacía',\n",
              " 325: 'ja',\n",
              " 326: 'habría',\n",
              " 327: 'inteligente',\n",
              " 328: 'goznes',\n",
              " 329: 'crujían',\n",
              " 330: 'delgado',\n",
              " 331: 'cayera',\n",
              " 332: 'siete',\n",
              " 333: 'largas',\n",
              " 334: 'encontraba',\n",
              " 335: 'cerrado',\n",
              " 336: 'trabajo',\n",
              " 337: 'quien',\n",
              " 338: 'vejaba',\n",
              " 339: 'perverso',\n",
              " 340: 'mañanas',\n",
              " 341: 'irrumpía',\n",
              " 342: 'audacia',\n",
              " 343: 'hablaba',\n",
              " 344: 'valientemente',\n",
              " 345: 'llamándolo',\n",
              " 346: 'nombre',\n",
              " 347: 'cordial',\n",
              " 348: 'averiguando',\n",
              " 349: 'pasado',\n",
              " 350: 'tendría',\n",
              " 351: 'profundo',\n",
              " 352: 'sospechar',\n",
              " 353: 'doce',\n",
              " 354: 'observaba',\n",
              " 355: 'hacia',\n",
              " 356: 'octava',\n",
              " 357: 'precavido',\n",
              " 358: 'común',\n",
              " 359: 'minutero',\n",
              " 360: 'mueve',\n",
              " 361: 'rapidez',\n",
              " 362: 'propia',\n",
              " 363: 'sentido',\n",
              " 364: 'alcance',\n",
              " 365: 'propias',\n",
              " 366: 'facultades',\n",
              " 367: 'sagacidad',\n",
              " 368: 'contener',\n",
              " 369: 'sentimientos',\n",
              " 370: 'abriendo',\n",
              " 371: 'soñaba',\n",
              " 372: 'actos',\n",
              " 373: 'pensamientos',\n",
              " 374: 'secretos',\n",
              " 375: 'casi',\n",
              " 376: 'reí',\n",
              " 377: 'quizás',\n",
              " 378: 'oyó',\n",
              " 379: 'repente',\n",
              " 380: 'movió',\n",
              " 381: 'alarmado',\n",
              " 382: 'marcha',\n",
              " 383: 'atrás',\n",
              " 384: 'negro',\n",
              " 385: 'brea',\n",
              " 386: 'oscuridad',\n",
              " 387: 'persianas',\n",
              " 388: 'cerradas',\n",
              " 389: 'miedo',\n",
              " 390: 'ladrones',\n",
              " 391: 'seguí',\n",
              " 392: 'empujándola',\n",
              " 393: 'entré',\n",
              " 394: 'pulgar',\n",
              " 395: 'resbaló',\n",
              " 396: 'lata',\n",
              " 397: 'cerraba',\n",
              " 398: 'saltó',\n",
              " 399: 'gritando',\n",
              " 400: 'quién',\n",
              " 401: 'anda',\n",
              " 402: 'ahí',\n",
              " 403: 'moví',\n",
              " 404: 'músculo',\n",
              " 405: 'acostarse',\n",
              " 406: 'igual',\n",
              " 407: 'tras',\n",
              " 408: 'relojes',\n",
              " 409: 'suave',\n",
              " 410: 'supe',\n",
              " 411: 'mortal',\n",
              " 412: 'dolor',\n",
              " 413: 'pena',\n",
              " 414: 'sofocado',\n",
              " 415: 'levanta',\n",
              " 416: 'fondo',\n",
              " 417: 'alma',\n",
              " 418: 'ésta',\n",
              " 419: 'sobrecarga',\n",
              " 420: 'temor',\n",
              " 421: 'algunas',\n",
              " 422: 'justo',\n",
              " 423: 'mundo',\n",
              " 424: 'brotado',\n",
              " 425: 'pecho',\n",
              " 426: 'profundizando',\n",
              " 427: 'tremendo',\n",
              " 428: 'eco',\n",
              " 429: 'terrores',\n",
              " 430: 'enloquecían',\n",
              " 431: 'compadecí',\n",
              " 432: 'riera',\n",
              " 433: 'despierto',\n",
              " 434: 'primer',\n",
              " 435: 'débil',\n",
              " 436: 'vuelto',\n",
              " 437: 'temores',\n",
              " 438: 'imaginarlos',\n",
              " 439: 'causa',\n",
              " 440: 'diciendo',\n",
              " 441: 'viento',\n",
              " 442: 'chimenea',\n",
              " 443: 'ratón',\n",
              " 444: 'corriendo',\n",
              " 445: 'grillo',\n",
              " 446: 'cantado',\n",
              " 447: 'confortar',\n",
              " 448: 'suposiciones',\n",
              " 449: 'aproximándose',\n",
              " 450: 'acechado',\n",
              " 451: 'negra',\n",
              " 452: 'influencia',\n",
              " 453: 'fúnebre',\n",
              " 454: 'percibida',\n",
              " 455: 'veía',\n",
              " 456: 'oía',\n",
              " 457: 'presencia',\n",
              " 458: 'hube',\n",
              " 459: 'esperado',\n",
              " 460: 'largo',\n",
              " 461: 'tiempo',\n",
              " 462: 'pacientemente',\n",
              " 463: 'recostara',\n",
              " 464: 'resolví',\n",
              " 465: 'pequeña',\n",
              " 466: 'imaginar',\n",
              " 467: 'tenue',\n",
              " 468: 'hilo',\n",
              " 469: 'araña',\n",
              " 470: 'disparó',\n",
              " 471: 'cayó',\n",
              " 472: 'furioso',\n",
              " 473: 'observarlo',\n",
              " 474: 'vi',\n",
              " 475: 'precisión',\n",
              " 476: 'sombrío',\n",
              " 477: 'horrendo',\n",
              " 478: 'velo',\n",
              " 479: 'heló',\n",
              " 480: 'misma',\n",
              " 481: 'médula',\n",
              " 482: 'huesos',\n",
              " 483: 'persona',\n",
              " 484: 'cara',\n",
              " 485: 'dirigido',\n",
              " 486: 'instinto',\n",
              " 487: 'precisamente',\n",
              " 488: 'maldito',\n",
              " 489: 'dicho',\n",
              " 490: 'confunden',\n",
              " 491: 'locura',\n",
              " 492: 'hiperestesia',\n",
              " 493: 'vino',\n",
              " 494: 'reconocí',\n",
              " 495: 'ese',\n",
              " 496: 'tambor',\n",
              " 497: 'estimula',\n",
              " 498: 'soldado',\n",
              " 499: 'coraje',\n",
              " 500: 'respiraba',\n",
              " 501: 'sostuve',\n",
              " 502: 'inmóvil',\n",
              " 503: 'traté',\n",
              " 504: 'firmemente',\n",
              " 505: 'compás',\n",
              " 506: 'infernal',\n",
              " 507: 'creció',\n",
              " 508: 'debe',\n",
              " 509: 'extremo',\n",
              " 510: 'entienden',\n",
              " 511: 'contado',\n",
              " 512: 'muerta',\n",
              " 513: 'terrible',\n",
              " 514: 'vieja',\n",
              " 515: 'extraño',\n",
              " 516: 'ése',\n",
              " 517: 'excitó',\n",
              " 518: 'incontrolable',\n",
              " 519: 'algunos',\n",
              " 520: 'estallar',\n",
              " 521: 'inquietud',\n",
              " 522: 'nueva',\n",
              " 523: 'apoderó',\n",
              " 524: 'sería',\n",
              " 525: 'gran',\n",
              " 526: 'alarido',\n",
              " 527: 'salté',\n",
              " 528: 'gritó',\n",
              " 529: 'solamente',\n",
              " 530: 'arrastré',\n",
              " 531: 'tiré',\n",
              " 532: 'alegremente',\n",
              " 533: 'muchos',\n",
              " 534: 'siguió',\n",
              " 535: 'latiendo',\n",
              " 536: 'ahogado',\n",
              " 537: 'molestó',\n",
              " 538: 'oírse',\n",
              " 539: 'través',\n",
              " 540: 'cesó',\n",
              " 541: 'saqué',\n",
              " 542: 'examiné',\n",
              " 543: 'mantuve',\n",
              " 544: 'varios',\n",
              " 545: 'pulsación',\n",
              " 546: 'molestaría',\n",
              " 547: 'creen',\n",
              " 548: 'pensarán',\n",
              " 549: 'describa',\n",
              " 550: 'precauciones',\n",
              " 551: 'sabias',\n",
              " 552: 'tomé',\n",
              " 553: 'ocultamiento',\n",
              " 554: 'cuerpo',\n",
              " 555: 'pasaba',\n",
              " 556: 'trabajé',\n",
              " 557: 'rápidamente',\n",
              " 558: 'desmembrar',\n",
              " 559: 'corté',\n",
              " 560: 'brazos',\n",
              " 561: 'piernas',\n",
              " 562: 'deposité',\n",
              " 563: 'entre',\n",
              " 564: 'maderas',\n",
              " 565: 'luego',\n",
              " 566: 'reemplacé',\n",
              " 567: 'placas',\n",
              " 568: 'humano',\n",
              " 569: 'suyo',\n",
              " 570: 'detectado',\n",
              " 571: 'algo',\n",
              " 572: 'fuera',\n",
              " 573: 'lavar',\n",
              " 574: 'mancha',\n",
              " 575: 'tipo',\n",
              " 576: 'rastro',\n",
              " 577: 'demasiado',\n",
              " 578: 'cuidadoso',\n",
              " 579: 'ocurriera',\n",
              " 580: 'labores',\n",
              " 581: 'eran',\n",
              " 582: 'cuatro',\n",
              " 583: 'oscuro',\n",
              " 584: 'campanada',\n",
              " 585: 'señaló',\n",
              " 586: 'hubo',\n",
              " 587: 'golpe',\n",
              " 588: 'calle',\n",
              " 589: 'bajé',\n",
              " 590: 'alegre',\n",
              " 591: 'entraron',\n",
              " 592: 'quienes',\n",
              " 593: 'presentaron',\n",
              " 594: 'suavidad',\n",
              " 595: 'sospecha',\n",
              " 596: 'crimen',\n",
              " 597: 'despertado',\n",
              " 598: 'información',\n",
              " 599: 'oficina',\n",
              " 600: 'enviados',\n",
              " 601: 'investigar',\n",
              " 602: 'propiedades',\n",
              " 603: 'bienvenida',\n",
              " 604: 'caballeros',\n",
              " 605: 'mío',\n",
              " 606: 'mencioné',\n",
              " 607: 'partido',\n",
              " 608: 'campo',\n",
              " 609: 'llevé',\n",
              " 610: 'visitantes',\n",
              " 611: 'invité',\n",
              " 612: 'conduje',\n",
              " 613: 'habitación',\n",
              " 614: 'mostré',\n",
              " 615: 'tesoros',\n",
              " 616: 'seguros',\n",
              " 617: 'inalterados',\n",
              " 618: 'entusiasmo',\n",
              " 619: 'confianza',\n",
              " 620: 'traje',\n",
              " 621: 'sillas',\n",
              " 622: 'rogué',\n",
              " 623: 'descansaran',\n",
              " 624: 'fatigas',\n",
              " 625: 'osadía',\n",
              " 626: 'salvaje',\n",
              " 627: 'perfecto',\n",
              " 628: 'coloqué',\n",
              " 629: 'asiento',\n",
              " 630: 'descansaba',\n",
              " 631: 'satisfechos',\n",
              " 632: 'comportamiento',\n",
              " 633: 'convencido',\n",
              " 634: 'particularmente',\n",
              " 635: 'tranquilo',\n",
              " 636: 'sentaron',\n",
              " 637: 'contestaba',\n",
              " 638: 'animadamente',\n",
              " 639: 'charlaron',\n",
              " 640: 'familiares',\n",
              " 641: 'poniendo',\n",
              " 642: 'deseé',\n",
              " 643: 'fueran',\n",
              " 644: 'dolía',\n",
              " 645: 'imaginé',\n",
              " 646: 'sentados',\n",
              " 647: 'claro',\n",
              " 648: 'desenfrenadamente',\n",
              " 649: 'conseguir',\n",
              " 650: 'continuó',\n",
              " 651: 'ganó',\n",
              " 652: 'carácter',\n",
              " 653: 'definitivo',\n",
              " 654: 'descubrí',\n",
              " 655: 'duda',\n",
              " 656: 'fluidamente',\n",
              " 657: 'voz',\n",
              " 658: 'alta',\n",
              " 659: 'parecido',\n",
              " 660: 'costaba',\n",
              " 661: 'respirar',\n",
              " 662: 'vehementemente',\n",
              " 663: 'argumenté',\n",
              " 664: 'tonterías',\n",
              " 665: 'alto',\n",
              " 666: 'gesticulaciones',\n",
              " 667: 'violentas',\n",
              " 668: 'iban',\n",
              " 669: 'recorrí',\n",
              " 670: 'allá',\n",
              " 671: 'pasos',\n",
              " 672: 'pesados',\n",
              " 673: 'excitaran',\n",
              " 674: 'observaciones',\n",
              " 675: 'lancé',\n",
              " 676: 'espuma',\n",
              " 677: 'enloquecí',\n",
              " 678: 'maldije',\n",
              " 679: 'silla',\n",
              " 680: 'rechinar',\n",
              " 681: 'levantaba',\n",
              " 682: 'continuamente',\n",
              " 683: 'gratamente',\n",
              " 684: 'sonreían',\n",
              " 685: 'posible',\n",
              " 686: 'oyeran',\n",
              " 687: 'todopoderoso',\n",
              " 688: 'sospechaban',\n",
              " 689: 'sabían',\n",
              " 690: 'burlando',\n",
              " 691: 'horror',\n",
              " 692: 'pienso',\n",
              " 693: 'mejor',\n",
              " 694: 'esta',\n",
              " 695: 'agonía',\n",
              " 696: 'tolerable',\n",
              " 697: 'este',\n",
              " 698: 'desprecio',\n",
              " 699: 'soportar',\n",
              " 700: 'esas',\n",
              " 701: 'sonrisas',\n",
              " 702: 'hipócritas',\n",
              " 703: 'debía',\n",
              " 704: 'gritar',\n",
              " 705: 'morir',\n",
              " 706: 'otra',\n",
              " 707: 'villanos',\n",
              " 708: 'grité',\n",
              " 709: 'disimulen',\n",
              " 710: 'admito',\n",
              " 711: 'arranquen',\n",
              " 712: 'latir',\n",
              " 713: 'horrible',\n",
              " 714: 'publicado',\n",
              " 715: '21',\n",
              " 716: 'mayo',\n",
              " 717: '2016',\n",
              " 718: 'edu',\n",
              " 719: 'robsy',\n",
              " 720: 'leído',\n",
              " 721: '609',\n",
              " 722: 'veces',\n",
              " 723: 'digital',\n",
              " 724: 'abierta',\n",
              " 725: 'legal',\n",
              " 726: 'gratuita',\n",
              " 727: 'formato',\n",
              " 728: 'electrónico',\n",
              " 729: 'online',\n",
              " 730: 'pdf',\n",
              " 731: 'epub',\n",
              " 732: 'mobi',\n",
              " 733: 'hotel',\n",
              " 734: 'maison',\n",
              " 735: 'carrée',\n",
              " 736: 'c',\n",
              " 737: 'des',\n",
              " 738: 'ramal',\n",
              " 739: '48',\n",
              " 740: '07730',\n",
              " 741: 'alayor',\n",
              " 742: 'menorca',\n",
              " 743: 'islas',\n",
              " 744: 'baleares',\n",
              " 745: 'españa',\n",
              " 746: 'info',\n",
              " 747: 'gratuito',\n",
              " 748: 'promoción',\n",
              " 749: 'lectura',\n",
              " 750: 'ayúdanos',\n",
              " 751: 'nuestros',\n",
              " 752: 'lleguen',\n",
              " 753: 'gente',\n",
              " 754: 'compartiendo',\n",
              " 755: 'lecturas',\n",
              " 756: 'redes',\n",
              " 757: 'sociales',\n",
              " 758: 'quieres',\n",
              " 759: 'donación',\n",
              " 760: 'posibilitar',\n",
              " 761: 'nuestra',\n",
              " 762: 'siga'}"
            ]
          },
          "metadata": {},
          "execution_count": 48
        }
      ]
    },
    {
      "cell_type": "code",
      "source": [
        "# Cantidad de plabras en el vocabulario\n",
        "vocabulary_size = len(tok.word_counts)\n",
        "\n",
        "print(f\"Cantidad de palabras en el vocabulario:\\n{vocabulary_size}\")\n",
        "print(f\"Indice para cada palabra:\\n{tok.word_index}\")\n",
        "print(f\"Recurrencia de las palabras:\\n{tok.word_docs}\")"
      ],
      "metadata": {
        "colab": {
          "base_uri": "https://localhost:8080/"
        },
        "id": "RDPV2j5fD0ni",
        "outputId": "a11600d7-ef13-4e1f-d563-b3b9b8eb0377"
      },
      "execution_count": 49,
      "outputs": [
        {
          "output_type": "stream",
          "name": "stdout",
          "text": [
            "Cantidad de palabras en el vocabulario:\n",
            "762\n",
            "Indice para cada palabra:\n",
            "{'la': 1, 'el': 2, 'y': 3, 'de': 4, 'que': 5, 'en': 6, 'un': 7, 'no': 8, 'más': 9, 'había': 10, 'me': 11, 'a': 12, 'con': 13, 'se': 14, 'pero': 15, 'yo': 16, 'lo': 17, 'mi': 18, 'como': 19, 'del': 20, 'para': 21, 'los': 22, 'las': 23, 'una': 24, 'sobre': 25, 'viejo': 26, 'por': 27, 'su': 28, 'fuerte': 29, 'muy': 30, 'noche': 31, 'al': 32, 'era': 33, 'él': 34, 'cuando': 35, 'bien': 36, 'es': 37, 'qué': 38, 'estaba': 39, 'ojo': 40, 'mis': 41, 'entonces': 42, 'tan': 43, 'ustedes': 44, 'todo': 45, 'ahora': 46, 'cabeza': 47, 'sonido': 48, 'corazón': 49, 'ellos': 50, 'sido': 51, 'nada': 52, 'cama': 53, 'cuarto': 54, 'ruido': 55, 'vez': 56, 'sí': 57, 'cada': 58, 'así': 59, 'linterna': 60, 'ver': 61, 'ya': 62, 'mientras': 63, 'podía': 64, 'sin': 65, 'soy': 66, 'loco': 67, 'fue': 68, 'puerta': 69, 'oh': 70, 'hora': 71, 'dentro': 72, 'hacer': 73, 'esto': 74, 'ni': 75, 'o': 76, 'constantemente': 77, 'momento': 78, 'les': 79, 'aún': 80, 'oí': 81, 'cuan': 82, 'hecho': 83, 'sus': 84, 'poco': 85, 'haber': 86, 'puse': 87, 'durante': 88, 'medianoche': 89, 'tanto': 90, 'rayo': 91, 'porque': 92, 'abrir': 93, 'estaban': 94, 'desde': 95, 'estado': 96, 'mismo': 97, 'piso': 98, 'hizo': 99, 'muerto': 100, 'oficiales': 101, 'aquí': 102, 'aumentaba': 103, 'nervioso': 104, 'penetrante': 105, 'cosas': 106, 'cómo': 107, 'toda': 108, 'ninguna': 109, 'nunca': 110, 'eso': 111, 'buitre': 112, 'pálido': 113, 'punto': 114, 'abría': 115, 'hábilmente': 116, 'hasta': 117, 'abrí': 118, 'cuidadosamente': 119, 'apenas': 120, 'sólo': 121, 'iba': 122, 'pueden': 123, 'reloj': 124, 'sabía': 125, 'quedé': 126, 'quieto': 127, 'todavía': 128, 'he': 129, 'gemido': 130, 'terror': 131, 'digo': 132, 'envuelto': 133, 'oídos': 134, 'golpeteo': 135, 'aumentó': 136, 'rápido': 137, 'minutos': 138, 'llegado': 139, 'embargo': 140, 'cadáver': 141, 'si': 142, 'tablas': 143, 'hombres': 144, 'hablé': 145, 'verdad': 146, 'sentidos': 147, 'oír': 148, 'todas': 149, 'escuchen': 150, 'imposible': 151, 'primero': 152, 'idea': 153, 'día': 154, 'ninguno': 155, 'ningún': 156, 'azul': 157, 'encima': 158, 'mí': 159, 'sangre': 160, 'librarme': 161, 'siempre': 162, 'deberían': 163, 'visto': 164, 'fui': 165, 'antes': 166, 'cerca': 167, 'apertura': 168, 'cerrada': 169, 'metía': 170, 'movía': 171, 'lentamente': 172, 'sueño': 173, 'entera': 174, 'único': 175, 'hice': 176, 'noches': 177, 'sino': 178, 'le': 179, 'tono': 180, 'dormía': 181, 'mano': 182, 'esa': 183, 'triunfo': 184, 'pensar': 185, 'allí': 186, 'siquiera': 187, 'di': 188, 'pesada': 189, 'dije': 190, 'sentado': 191, 'escuchando': 192, 'muerte': 193, 'pared': 194, 'conocía': 195, 'hace': 196, 'ha': 197, 'propio': 198, 'sentía': 199, 'aunque': 200, 'habían': 201, 'creciendo': 202, 'tratado': 203, 'estas': 204, 'vano': 205, 'sombra': 206, 'víctima': 207, 'sentir': 208, 'rendija': 209, 'sigilosamente': 210, 'fin': 211, 'abierto': 212, 'perfecta': 213, 'pude': 214, 'apagado': 215, 'sordo': 216, 'algodón': 217, 'también': 218, 'furia': 219, 'contuve': 220, 'mantener': 221, 'instante': 222, 'silencio': 223, 'casa': 224, 'pensé': 225, 'oído': 226, 'vecino': 227, 'sonreí': 228, 'acto': 229, 'podría': 230, 'algún': 231, 'piedra': 232, 'después': 233, 'levanté': 234, 'tres': 235, 'lugar': 236, 'temer': 237, 'policía': 238, 'grito': 239, 'buscaran': 240, 'sentí': 241, 'zumbido': 242, 'charlaban': 243, 'hacía': 244, 'oían': 245, 'dios': 246, 'cualquier': 247, 'cosa': 248, 'biblioteca': 249, 'textos': 250, 'libros': 251, 'proyecto': 252, 'puedes': 253, 'terriblemente': 254, 'dirán': 255, 'enfermedad': 256, 'aguzado': 257, 'destruido': 258, 'entorpecido': 259, 'capacidad': 260, 'cielo': 261, 'tierra': 262, 'muchas': 263, 'infierno': 264, 'observen': 265, 'razonablemente': 266, 'serenamente': 267, 'puedo': 268, 'contarles': 269, 'historia': 270, 'decir': 271, 'entró': 272, 'cerebro': 273, 'concebida': 274, 'acosó': 275, 'objeto': 276, 'pasión': 277, 'amé': 278, 'mal': 279, 'insultado': 280, 'oro': 281, 'tuve': 282, 'deseo': 283, 'creo': 284, 'uno': 285, 'ojos': 286, 'parecía': 287, 'nube': 288, 'caía': 289, 'helaba': 290, 'gradualmente': 291, 'decidí': 292, 'tomar': 293, 'vida': 294, 'éste': 295, 'imaginan': 296, 'locos': 297, 'saben': 298, 'haberme': 299, 'sabiamente': 300, 'procedí': 301, 'cuidado': 302, 'previsión': 303, 'disimulo': 304, 'trabajar': 305, 'amable': 306, 'semana': 307, 'matarlo': 308, 'giraba': 309, 'picaporte': 310, 'suavemente': 311, 'suficiente': 312, 'ponía': 313, 'oscura': 314, 'sorda': 315, 'luz': 316, 'saliera': 317, 'habrían': 318, 'reído': 319, 'perturbar': 320, 'tomó': 321, 'poner': 322, 'poder': 323, 'yacía': 324, 'ja': 325, 'habría': 326, 'inteligente': 327, 'goznes': 328, 'crujían': 329, 'delgado': 330, 'cayera': 331, 'siete': 332, 'largas': 333, 'encontraba': 334, 'cerrado': 335, 'trabajo': 336, 'quien': 337, 'vejaba': 338, 'perverso': 339, 'mañanas': 340, 'irrumpía': 341, 'audacia': 342, 'hablaba': 343, 'valientemente': 344, 'llamándolo': 345, 'nombre': 346, 'cordial': 347, 'averiguando': 348, 'pasado': 349, 'tendría': 350, 'profundo': 351, 'sospechar': 352, 'doce': 353, 'observaba': 354, 'hacia': 355, 'octava': 356, 'precavido': 357, 'común': 358, 'minutero': 359, 'mueve': 360, 'rapidez': 361, 'propia': 362, 'sentido': 363, 'alcance': 364, 'propias': 365, 'facultades': 366, 'sagacidad': 367, 'contener': 368, 'sentimientos': 369, 'abriendo': 370, 'soñaba': 371, 'actos': 372, 'pensamientos': 373, 'secretos': 374, 'casi': 375, 'reí': 376, 'quizás': 377, 'oyó': 378, 'repente': 379, 'movió': 380, 'alarmado': 381, 'marcha': 382, 'atrás': 383, 'negro': 384, 'brea': 385, 'oscuridad': 386, 'persianas': 387, 'cerradas': 388, 'miedo': 389, 'ladrones': 390, 'seguí': 391, 'empujándola': 392, 'entré': 393, 'pulgar': 394, 'resbaló': 395, 'lata': 396, 'cerraba': 397, 'saltó': 398, 'gritando': 399, 'quién': 400, 'anda': 401, 'ahí': 402, 'moví': 403, 'músculo': 404, 'acostarse': 405, 'igual': 406, 'tras': 407, 'relojes': 408, 'suave': 409, 'supe': 410, 'mortal': 411, 'dolor': 412, 'pena': 413, 'sofocado': 414, 'levanta': 415, 'fondo': 416, 'alma': 417, 'ésta': 418, 'sobrecarga': 419, 'temor': 420, 'algunas': 421, 'justo': 422, 'mundo': 423, 'brotado': 424, 'pecho': 425, 'profundizando': 426, 'tremendo': 427, 'eco': 428, 'terrores': 429, 'enloquecían': 430, 'compadecí': 431, 'riera': 432, 'despierto': 433, 'primer': 434, 'débil': 435, 'vuelto': 436, 'temores': 437, 'imaginarlos': 438, 'causa': 439, 'diciendo': 440, 'viento': 441, 'chimenea': 442, 'ratón': 443, 'corriendo': 444, 'grillo': 445, 'cantado': 446, 'confortar': 447, 'suposiciones': 448, 'aproximándose': 449, 'acechado': 450, 'negra': 451, 'influencia': 452, 'fúnebre': 453, 'percibida': 454, 'veía': 455, 'oía': 456, 'presencia': 457, 'hube': 458, 'esperado': 459, 'largo': 460, 'tiempo': 461, 'pacientemente': 462, 'recostara': 463, 'resolví': 464, 'pequeña': 465, 'imaginar': 466, 'tenue': 467, 'hilo': 468, 'araña': 469, 'disparó': 470, 'cayó': 471, 'furioso': 472, 'observarlo': 473, 'vi': 474, 'precisión': 475, 'sombrío': 476, 'horrendo': 477, 'velo': 478, 'heló': 479, 'misma': 480, 'médula': 481, 'huesos': 482, 'persona': 483, 'cara': 484, 'dirigido': 485, 'instinto': 486, 'precisamente': 487, 'maldito': 488, 'dicho': 489, 'confunden': 490, 'locura': 491, 'hiperestesia': 492, 'vino': 493, 'reconocí': 494, 'ese': 495, 'tambor': 496, 'estimula': 497, 'soldado': 498, 'coraje': 499, 'respiraba': 500, 'sostuve': 501, 'inmóvil': 502, 'traté': 503, 'firmemente': 504, 'compás': 505, 'infernal': 506, 'creció': 507, 'debe': 508, 'extremo': 509, 'entienden': 510, 'contado': 511, 'muerta': 512, 'terrible': 513, 'vieja': 514, 'extraño': 515, 'ése': 516, 'excitó': 517, 'incontrolable': 518, 'algunos': 519, 'estallar': 520, 'inquietud': 521, 'nueva': 522, 'apoderó': 523, 'sería': 524, 'gran': 525, 'alarido': 526, 'salté': 527, 'gritó': 528, 'solamente': 529, 'arrastré': 530, 'tiré': 531, 'alegremente': 532, 'muchos': 533, 'siguió': 534, 'latiendo': 535, 'ahogado': 536, 'molestó': 537, 'oírse': 538, 'través': 539, 'cesó': 540, 'saqué': 541, 'examiné': 542, 'mantuve': 543, 'varios': 544, 'pulsación': 545, 'molestaría': 546, 'creen': 547, 'pensarán': 548, 'describa': 549, 'precauciones': 550, 'sabias': 551, 'tomé': 552, 'ocultamiento': 553, 'cuerpo': 554, 'pasaba': 555, 'trabajé': 556, 'rápidamente': 557, 'desmembrar': 558, 'corté': 559, 'brazos': 560, 'piernas': 561, 'deposité': 562, 'entre': 563, 'maderas': 564, 'luego': 565, 'reemplacé': 566, 'placas': 567, 'humano': 568, 'suyo': 569, 'detectado': 570, 'algo': 571, 'fuera': 572, 'lavar': 573, 'mancha': 574, 'tipo': 575, 'rastro': 576, 'demasiado': 577, 'cuidadoso': 578, 'ocurriera': 579, 'labores': 580, 'eran': 581, 'cuatro': 582, 'oscuro': 583, 'campanada': 584, 'señaló': 585, 'hubo': 586, 'golpe': 587, 'calle': 588, 'bajé': 589, 'alegre': 590, 'entraron': 591, 'quienes': 592, 'presentaron': 593, 'suavidad': 594, 'sospecha': 595, 'crimen': 596, 'despertado': 597, 'información': 598, 'oficina': 599, 'enviados': 600, 'investigar': 601, 'propiedades': 602, 'bienvenida': 603, 'caballeros': 604, 'mío': 605, 'mencioné': 606, 'partido': 607, 'campo': 608, 'llevé': 609, 'visitantes': 610, 'invité': 611, 'conduje': 612, 'habitación': 613, 'mostré': 614, 'tesoros': 615, 'seguros': 616, 'inalterados': 617, 'entusiasmo': 618, 'confianza': 619, 'traje': 620, 'sillas': 621, 'rogué': 622, 'descansaran': 623, 'fatigas': 624, 'osadía': 625, 'salvaje': 626, 'perfecto': 627, 'coloqué': 628, 'asiento': 629, 'descansaba': 630, 'satisfechos': 631, 'comportamiento': 632, 'convencido': 633, 'particularmente': 634, 'tranquilo': 635, 'sentaron': 636, 'contestaba': 637, 'animadamente': 638, 'charlaron': 639, 'familiares': 640, 'poniendo': 641, 'deseé': 642, 'fueran': 643, 'dolía': 644, 'imaginé': 645, 'sentados': 646, 'claro': 647, 'desenfrenadamente': 648, 'conseguir': 649, 'continuó': 650, 'ganó': 651, 'carácter': 652, 'definitivo': 653, 'descubrí': 654, 'duda': 655, 'fluidamente': 656, 'voz': 657, 'alta': 658, 'parecido': 659, 'costaba': 660, 'respirar': 661, 'vehementemente': 662, 'argumenté': 663, 'tonterías': 664, 'alto': 665, 'gesticulaciones': 666, 'violentas': 667, 'iban': 668, 'recorrí': 669, 'allá': 670, 'pasos': 671, 'pesados': 672, 'excitaran': 673, 'observaciones': 674, 'lancé': 675, 'espuma': 676, 'enloquecí': 677, 'maldije': 678, 'silla': 679, 'rechinar': 680, 'levantaba': 681, 'continuamente': 682, 'gratamente': 683, 'sonreían': 684, 'posible': 685, 'oyeran': 686, 'todopoderoso': 687, 'sospechaban': 688, 'sabían': 689, 'burlando': 690, 'horror': 691, 'pienso': 692, 'mejor': 693, 'esta': 694, 'agonía': 695, 'tolerable': 696, 'este': 697, 'desprecio': 698, 'soportar': 699, 'esas': 700, 'sonrisas': 701, 'hipócritas': 702, 'debía': 703, 'gritar': 704, 'morir': 705, 'otra': 706, 'villanos': 707, 'grité': 708, 'disimulen': 709, 'admito': 710, 'arranquen': 711, 'latir': 712, 'horrible': 713, 'publicado': 714, '21': 715, 'mayo': 716, '2016': 717, 'edu': 718, 'robsy': 719, 'leído': 720, '609': 721, 'veces': 722, 'digital': 723, 'abierta': 724, 'legal': 725, 'gratuita': 726, 'formato': 727, 'electrónico': 728, 'online': 729, 'pdf': 730, 'epub': 731, 'mobi': 732, 'hotel': 733, 'maison': 734, 'carrée': 735, 'c': 736, 'des': 737, 'ramal': 738, '48': 739, '07730': 740, 'alayor': 741, 'menorca': 742, 'islas': 743, 'baleares': 744, 'españa': 745, 'info': 746, 'gratuito': 747, 'promoción': 748, 'lectura': 749, 'ayúdanos': 750, 'nuestros': 751, 'lleguen': 752, 'gente': 753, 'compartiendo': 754, 'lecturas': 755, 'redes': 756, 'sociales': 757, 'quieres': 758, 'donación': 759, 'posibilitar': 760, 'nuestra': 761, 'siga': 762}\n",
            "Recurrencia de las palabras:\n",
            "defaultdict(<class 'int'>, {'es': 7, 'verdad': 2, 'yo': 21, 'pero': 22, 'ustedes': 8, 'que': 47, 'y': 51, 'nervioso': 2, 'qué': 9, 'había': 26, 'loco': 5, 'sido': 6, 'muy': 8, 'terriblemente': 1, 'por': 12, 'soy': 3, 'dirán': 1, 'mis': 9, 'aguzado': 1, 'no': 30, 'sentidos': 2, 'destruido': 1, 'entorpecido': 1, 'enfermedad': 1, 'la': 47, 'estaba': 10, 'sobre': 13, 'penetrante': 3, 'capacidad': 1, 'de': 46, 'oír': 2, 'todo': 8, 'cielo': 1, 'todas': 2, 'tierra': 1, 'cosas': 3, 'el': 56, 'oí': 4, 'las': 14, 'en': 36, 'muchas': 1, 'infierno': 1, 'cómo': 3, 'entonces': 8, 'escuchen': 2, 'observen': 1, 'contarles': 1, 'toda': 3, 'cuan': 3, 'historia': 1, 'puedo': 1, 'razonablemente': 1, 'serenamente': 1, 'acosó': 1, 'mi': 15, 'noche': 11, 'concebida': 1, 'vez': 5, 'decir': 1, 'me': 25, 'día': 2, 'una': 13, 'cerebro': 1, 'entró': 1, 'primero': 2, 'imposible': 2, 'idea': 2, 'objeto': 1, 'ninguno': 2, 'pasión': 1, 'ninguna': 3, 'amé': 1, 'al': 12, 'viejo': 14, 'nunca': 3, 'hecho': 4, 'mal': 1, 'él': 11, 'insultado': 1, 'ningún': 2, 'deseo': 1, 'oro': 1, 'tuve': 1, 'su': 12, 'creo': 1, 'ojo': 9, 'fue': 5, 'eso': 3, 'sí': 5, 'nube': 1, 'ojos': 1, 'encima': 2, 'sus': 4, 'uno': 1, 'como': 16, 'con': 21, 'un': 30, 'parecía': 1, 'pálido': 3, 'azul': 2, 'buitre': 3, 'poco': 3, 'sangre': 2, 'cada': 6, 'librarme': 2, 'helaba': 1, 'se': 23, 'decidí': 1, 'mí': 2, 'a': 21, 'para': 15, 'siempre': 2, 'del': 14, 'caía': 1, 'vida': 1, 'así': 6, 'gradualmente': 1, 'tomar': 1, 'punto': 3, 'ahora': 8, 'éste': 1, 'imaginan': 1, 'saben': 1, 'locos': 1, 'los': 16, 'nada': 6, 'deberían': 2, 'haberme': 1, 'visto': 2, 'sabiamente': 1, 'cuidado': 1, 'procedí': 1, 'haber': 4, 'disimulo': 1, 'puse': 4, 'previsión': 1, 'trabajar': 1, 'antes': 2, 'matarlo': 1, 'semana': 1, 'más': 22, 'fui': 2, 'durante': 4, 'amable': 1, 'medianoche': 4, 'puerta': 5, 'giraba': 1, 'tan': 8, 'picaporte': 1, 'cerca': 2, 'abría': 3, 'oh': 5, 'suavemente': 1, 'lo': 20, 'linterna': 6, 'saliera': 1, 'cuando': 11, 'luz': 1, 'apertura': 2, 'ponía': 1, 'cerrada': 1, 'oscura': 1, 'sorda': 1, 'cabeza': 7, 'metía': 2, 'suficiente': 1, 'reído': 1, 'ver': 6, 'habrían': 1, 'hábilmente': 2, 'sueño': 2, 'movía': 2, 'lentamente': 1, 'perturbar': 1, 'poner': 1, 'hasta': 3, 'entera': 2, 'poder': 1, 'yacía': 1, 'cama': 7, 'hora': 5, 'tomó': 1, 'dentro': 5, 'ja': 1, 'inteligente': 1, 'habría': 1, 'hacer': 5, 'esto': 4, 'crujían': 1, 'apenas': 3, 'tanto': 4, 'ya': 6, 'abrí': 2, 'único': 2, 'delgado': 1, 'cuarto': 7, 'rayo': 4, 'cayera': 1, 'cuidadosamente': 1, 'bien': 10, 'goznes': 1, 'perverso': 1, 'sólo': 2, 'quien': 1, 'vejaba': 1, 'largas': 1, 'noches': 2, 'sino': 2, 'encontraba': 1, 'hice': 2, 'cerrado': 1, 'siete': 1, 'trabajo': 1, 'era': 11, 'porque': 4, 'nombre': 1, 'iba': 3, 'audacia': 1, 'hablaba': 1, 'tono': 2, 'le': 2, 'valientemente': 1, 'averiguando': 1, 'irrumpía': 1, 'cordial': 1, 'llamándolo': 1, 'pasado': 1, 'mañanas': 1, 'pueden': 3, 'observaba': 1, 'doce': 1, 'sospechar': 1, 'profundo': 1, 'mientras': 6, 'tendría': 1, 'dormía': 2, 'común': 1, 'octava': 1, 'abrir': 4, 'precavido': 1, 'hacia': 1, 'mueve': 1, 'reloj': 3, 'rapidez': 1, 'mano': 2, 'minutero': 1, 'propia': 1, 'propias': 1, 'alcance': 1, 'facultades': 1, 'sagacidad': 1, 'esa': 2, 'sentido': 1, 'sentimientos': 1, 'contener': 1, 'triunfo': 2, 'podía': 6, 'soñaba': 1, 'siquiera': 2, 'pensamientos': 1, 'pensar': 2, 'abriendo': 1, 'secretos': 1, 'o': 5, 'allí': 2, 'ni': 5, 'actos': 1, 'oyó': 1, 'casi': 1, 'reí': 1, 'repente': 1, 'quizás': 1, 'alarmado': 1, 'movió': 1, 'marcha': 1, 'atrás': 1, 'di': 2, 'seguí': 1, 'constantemente': 4, 'estaban': 4, 'persianas': 1, 'brea': 1, 'ladrones': 1, 'pesada': 2, 'oscuridad': 1, 'negro': 1, 'cerradas': 1, 'miedo': 1, 'sabía': 3, 'empujándola': 1, 'lata': 1, 'ahí': 1, 'quién': 1, 'gritando': 1, 'saltó': 1, 'entré': 1, 'anda': 1, 'resbaló': 1, 'pulgar': 1, 'cerraba': 1, 'quieto': 3, 'dije': 2, 'quedé': 3, 'acostarse': 1, 'músculo': 1, 'moví': 1, 'tras': 1, 'escuchando': 1, 'sentado': 2, 'relojes': 1, 'todavía': 3, 'igual': 1, 'he': 3, 'pared': 2, 'muerte': 2, 'gemido': 2, 'supe': 1, 'momento': 5, 'mortal': 1, 'suave': 1, 'terror': 3, 'dolor': 1, 'pena': 1, 'sobrecarga': 1, 'levanta': 1, 'fondo': 1, 'ésta': 1, 'sonido': 8, 'sofocado': 1, 'temor': 1, 'desde': 4, 'alma': 1, 'conocía': 2, 'propio': 2, 'terrores': 1, 'ha': 2, 'hace': 2, 'brotado': 1, 'enloquecían': 1, 'mundo': 1, 'justo': 1, 'profundizando': 1, 'pecho': 1, 'algunas': 1, 'tremendo': 1, 'eco': 1, 'digo': 3, 'corazón': 8, 'sentía': 2, 'compadecí': 1, 'riera': 1, 'aunque': 2, 'débil': 1, 'ruido': 7, 'estado': 4, 'vuelto': 1, 'primer': 1, 'despierto': 1, 'temores': 1, 'habían': 2, 'creciendo': 2, 'imaginarlos': 1, 'tratado': 2, 'sin': 6, 'causa': 1, 'grillo': 1, 'cantado': 1, 'viento': 1, 'piso': 4, 'mismo': 3, 'ratón': 1, 'corriendo': 1, 'chimenea': 1, 'diciendo': 1, 'suposiciones': 1, 'confortar': 1, 'estas': 2, 'vano': 2, 'acechado': 1, 'envuelto': 3, 'víctima': 2, 'aproximándose': 1, 'sombra': 2, 'negra': 1, 'veía': 1, 'sentir': 1, 'oía': 1, 'fúnebre': 1, 'hizo': 4, 'percibida': 1, 'influencia': 1, 'presencia': 1, 'pacientemente': 1, 'recostara': 1, 'pequeña': 1, 'tiempo': 1, 'largo': 1, 'hube': 1, 'esperado': 1, 'rendija': 2, 'resolví': 1, 'disparó': 1, 'tenue': 1, 'cayó': 1, 'fin': 2, 'imaginar': 1, 'araña': 1, 'hilo': 1, 'sigilosamente': 1, 'furioso': 1, 'abierto': 1, 'observarlo': 1, 'perfecta': 2, 'precisamente': 1, 'instinto': 1, 'huesos': 1, 'precisión': 1, 'médula': 1, 'horrendo': 1, 'pude': 2, 'cara': 1, 'dirigido': 1, 'velo': 1, 'heló': 1, 'misma': 1, 'sombrío': 1, 'maldito': 1, 'persona': 1, 'vi': 1, 'dicho': 1, 'hiperestesia': 1, 'locura': 1, 'les': 5, 'confunden': 1, 'oídos': 3, 'apagado': 2, 'vino': 1, 'algodón': 2, 'sordo': 2, 'reconocí': 1, 'también': 2, 'ese': 1, 'golpeteo': 3, 'aumentó': 3, 'estimula': 1, 'soldado': 1, 'coraje': 1, 'furia': 2, 'tambor': 1, 'contuve': 2, 'aún': 4, 'respiraba': 1, 'sostuve': 1, 'inmóvil': 1, 'mantener': 2, 'traté': 1, 'firmemente': 1, 'infernal': 1, 'compás': 1, 'fuerte': 8, 'rápido': 2, 'creció': 1, 'instante': 2, 'debe': 1, 'extremo': 1, 'entienden': 1, 'contado': 1, 'muerta': 1, 'incontrolable': 1, 'casa': 2, 'vieja': 1, 'terrible': 1, 'silencio': 2, 'ése': 1, 'extraño': 1, 'excitó': 1, 'algunos': 1, 'minutos': 3, 'estallar': 1, 'pensé': 2, 'oído': 2, 'nueva': 1, 'sería': 1, 'vecino': 2, 'apoderó': 1, 'inquietud': 1, 'llegado': 3, 'salté': 1, 'alarido': 1, 'gran': 1, 'solamente': 1, 'gritó': 1, 'arrastré': 1, 'tiré': 1, 'sonreí': 2, 'acto': 2, 'alegremente': 1, 'muchos': 1, 'ahogado': 1, 'latiendo': 1, 'siguió': 1, 'oírse': 1, 'podría': 2, 'través': 1, 'embargo': 3, 'molestó': 1, 'cesó': 1, 'algún': 2, 'muerto': 3, 'saqué': 1, 'examiné': 1, 'cadáver': 3, 'piedra': 2, 'varios': 1, 'mantuve': 1, 'pulsación': 1, 'molestaría': 1, 'sabias': 1, 'si': 3, 'precauciones': 1, 'describa': 1, 'creen': 1, 'cuerpo': 1, 'pensarán': 1, 'tomé': 1, 'ocultamiento': 1, 'trabajé': 1, 'rápidamente': 1, 'pasaba': 1, 'desmembrar': 1, 'corté': 1, 'después': 2, 'brazos': 1, 'piernas': 1, 'deposité': 1, 'levanté': 2, 'tres': 2, 'tablas': 3, 'maderas': 1, 'entre': 1, 'placas': 1, 'luego': 1, 'detectado': 1, 'reemplacé': 1, 'lugar': 2, 'fuera': 1, 'humano': 1, 'suyo': 1, 'algo': 1, 'mancha': 1, 'tipo': 1, 'rastro': 1, 'lavar': 1, 'cuidadoso': 1, 'demasiado': 1, 'ocurriera': 1, 'oscuro': 1, 'cuatro': 1, 'labores': 1, 'eran': 1, 'campanada': 1, 'señaló': 1, 'calle': 1, 'hubo': 1, 'golpe': 1, 'alegre': 1, 'temer': 2, 'bajé': 1, 'oficiales': 4, 'policía': 2, 'presentaron': 1, 'entraron': 1, 'quienes': 1, 'hombres': 3, 'suavidad': 1, 'oficina': 1, 'crimen': 1, 'despertado': 1, 'sospecha': 1, 'propiedades': 1, 'investigar': 1, 'grito': 2, 'información': 1, 'ellos': 8, 'enviados': 1, 'caballeros': 1, 'bienvenida': 1, 'mío': 1, 'partido': 1, 'mencioné': 1, 'campo': 1, 'llevé': 1, 'visitantes': 1, 'invité': 1, 'buscaran': 1, 'habitación': 1, 'conduje': 1, 'mostré': 1, 'inalterados': 1, 'seguros': 1, 'tesoros': 1, 'asiento': 1, 'descansaba': 1, 'descansaran': 1, 'aquí': 3, 'salvaje': 1, 'fatigas': 1, 'coloqué': 1, 'rogué': 1, 'confianza': 1, 'perfecto': 1, 'osadía': 1, 'traje': 1, 'sillas': 1, 'entusiasmo': 1, 'satisfechos': 1, 'convencido': 1, 'comportamiento': 1, 'particularmente': 1, 'tranquilo': 1, 'animadamente': 1, 'sentaron': 1, 'familiares': 1, 'charlaron': 1, 'contestaba': 1, 'deseé': 1, 'sentí': 2, 'poniendo': 1, 'fueran': 1, 'imaginé': 1, 'charlaban': 2, 'sentados': 1, 'zumbido': 2, 'dolía': 1, 'carácter': 1, 'claro': 1, 'continuó': 1, 'desenfrenadamente': 1, 'ganó': 1, 'conseguir': 1, 'hacía': 2, 'descubrí': 1, 'hablé': 3, 'definitivo': 1, 'fluidamente': 1, 'duda': 1, 'voz': 1, 'alta': 1, 'parecido': 1, 'oían': 2, 'respirar': 1, 'costaba': 1, 'vehementemente': 1, 'aumentaba': 4, 'violentas': 1, 'alto': 1, 'gesticulaciones': 1, 'tonterías': 1, 'argumenté': 1, 'iban': 1, 'excitaran': 1, 'recorrí': 1, 'pasos': 1, 'allá': 1, 'observaciones': 1, 'pesados': 1, 'dios': 2, 'lancé': 1, 'espuma': 1, 'enloquecí': 1, 'maldije': 1, 'levantaba': 1, 'continuamente': 1, 'rechinar': 1, 'silla': 1, 'gratamente': 1, 'sonreían': 1, 'oyeran': 1, 'posible': 1, 'todopoderoso': 1, 'sospechaban': 1, 'sabían': 1, 'horror': 1, 'burlando': 1, 'pienso': 1, 'esta': 1, 'agonía': 1, 'cualquier': 2, 'mejor': 1, 'cosa': 2, 'tolerable': 1, 'este': 1, 'desprecio': 1, 'soportar': 1, 'sonrisas': 1, 'esas': 1, 'hipócritas': 1, 'morir': 1, 'debía': 1, 'gritar': 1, 'otra': 1, 'villanos': 1, 'grité': 1, 'disimulen': 1, 'admito': 1, 'arranquen': 1, 'horrible': 1, 'latir': 1, '21': 1, 'mayo': 1, 'robsy': 1, '2016': 1, 'edu': 1, 'publicado': 1, 'leído': 1, 'veces': 1, '609': 1, 'libros': 2, 'pdf': 1, 'biblioteca': 2, 'textos': 2, 'formato': 1, 'abierta': 1, 'epub': 1, 'mobi': 1, 'digital': 1, 'electrónico': 1, 'online': 1, 'legal': 1, 'gratuita': 1, '07730': 1, 'alayor': 1, 'promoción': 1, 'carrée': 1, 'hotel': 1, '48': 1, 'des': 1, 'ramal': 1, 'c': 1, 'baleares': 1, 'maison': 1, 'gratuito': 1, 'info': 1, 'islas': 1, 'menorca': 1, 'proyecto': 2, 'españa': 1, 'lectura': 1, 'lleguen': 1, 'gente': 1, 'sociales': 1, 'nuestros': 1, 'ayúdanos': 1, 'compartiendo': 1, 'lecturas': 1, 'redes': 1, 'nuestra': 1, 'donación': 1, 'posibilitar': 1, 'quieres': 1, 'puedes': 1, 'siga': 1})\n"
          ]
        }
      ]
    },
    {
      "cell_type": "markdown",
      "source": [
        "## Definición del Modelo\n",
        "\n",
        "Se probaran tres tipos de arquitecturas:\n",
        "- LSTM, tal cual fue demostrada en clase.\n",
        "- SimpleRNN\n",
        "- GRU (Gated Recurrent Unit)"
      ],
      "metadata": {
        "id": "CsaJSRSTD3V7"
      }
    },
    {
      "cell_type": "markdown",
      "source": [
        "### Primer Modelo\n",
        "LSTM"
      ],
      "metadata": {
        "id": "A7pIOb8ONv5l"
      }
    },
    {
      "cell_type": "code",
      "source": [
        "model_LSTM = Sequential()\n",
        "\n",
        "# Capa de Embedding\n",
        "model_LSTM.add(Embedding(input_dim = vocabulary_size + 1, output_dim = 50, input_shape = (None,)))\n",
        "\n",
        "# Primera capa LSTM\n",
        "model_LSTM.add(LSTM(100, return_sequences = True))\n",
        "model_LSTM.add(Dropout(0.2))\n",
        "\n",
        "# Segunda capa LSTM\n",
        "model_LSTM.add(LSTM(100, return_sequences = True))\n",
        "model_LSTM.add(Dropout(0.2))\n",
        "\n",
        "# Capa de salida con activacion Softmax\n",
        "model_LSTM.add(Dense(vocabulary_size + 1, activation = 'softmax'))\n",
        "\n",
        "# Clasificación Sparse_categorical_crossentropy con optimizador RMSProp\n",
        "model_LSTM.compile(loss = SparseCategoricalCrossentropy(), optimizer = 'rmsprop')\n",
        "\n",
        "model_LSTM.summary()"
      ],
      "metadata": {
        "colab": {
          "base_uri": "https://localhost:8080/",
          "height": 321
        },
        "id": "cSZIjiO3D33F",
        "outputId": "a73521b4-1fd1-4b11-fedc-f70834838e4c"
      },
      "execution_count": 52,
      "outputs": [
        {
          "output_type": "display_data",
          "data": {
            "text/plain": [
              "\u001b[1mModel: \"sequential_5\"\u001b[0m\n"
            ],
            "text/html": [
              "<pre style=\"white-space:pre;overflow-x:auto;line-height:normal;font-family:Menlo,'DejaVu Sans Mono',consolas,'Courier New',monospace\"><span style=\"font-weight: bold\">Model: \"sequential_5\"</span>\n",
              "</pre>\n"
            ]
          },
          "metadata": {}
        },
        {
          "output_type": "display_data",
          "data": {
            "text/plain": [
              "┏━━━━━━━━━━━━━━━━━━━━━━━━━━━━━━━━━━━━━━┳━━━━━━━━━━━━━━━━━━━━━━━━━━━━━┳━━━━━━━━━━━━━━━━━┓\n",
              "┃\u001b[1m \u001b[0m\u001b[1mLayer (type)                        \u001b[0m\u001b[1m \u001b[0m┃\u001b[1m \u001b[0m\u001b[1mOutput Shape               \u001b[0m\u001b[1m \u001b[0m┃\u001b[1m \u001b[0m\u001b[1m        Param #\u001b[0m\u001b[1m \u001b[0m┃\n",
              "┡━━━━━━━━━━━━━━━━━━━━━━━━━━━━━━━━━━━━━━╇━━━━━━━━━━━━━━━━━━━━━━━━━━━━━╇━━━━━━━━━━━━━━━━━┩\n",
              "│ embedding_5 (\u001b[38;5;33mEmbedding\u001b[0m)              │ (\u001b[38;5;45mNone\u001b[0m, \u001b[38;5;45mNone\u001b[0m, \u001b[38;5;34m50\u001b[0m)            │          \u001b[38;5;34m38,150\u001b[0m │\n",
              "├──────────────────────────────────────┼─────────────────────────────┼─────────────────┤\n",
              "│ lstm_4 (\u001b[38;5;33mLSTM\u001b[0m)                        │ (\u001b[38;5;45mNone\u001b[0m, \u001b[38;5;45mNone\u001b[0m, \u001b[38;5;34m100\u001b[0m)           │          \u001b[38;5;34m60,400\u001b[0m │\n",
              "├──────────────────────────────────────┼─────────────────────────────┼─────────────────┤\n",
              "│ dropout_9 (\u001b[38;5;33mDropout\u001b[0m)                  │ (\u001b[38;5;45mNone\u001b[0m, \u001b[38;5;45mNone\u001b[0m, \u001b[38;5;34m100\u001b[0m)           │               \u001b[38;5;34m0\u001b[0m │\n",
              "├──────────────────────────────────────┼─────────────────────────────┼─────────────────┤\n",
              "│ lstm_5 (\u001b[38;5;33mLSTM\u001b[0m)                        │ (\u001b[38;5;45mNone\u001b[0m, \u001b[38;5;45mNone\u001b[0m, \u001b[38;5;34m100\u001b[0m)           │          \u001b[38;5;34m80,400\u001b[0m │\n",
              "├──────────────────────────────────────┼─────────────────────────────┼─────────────────┤\n",
              "│ dropout_10 (\u001b[38;5;33mDropout\u001b[0m)                 │ (\u001b[38;5;45mNone\u001b[0m, \u001b[38;5;45mNone\u001b[0m, \u001b[38;5;34m100\u001b[0m)           │               \u001b[38;5;34m0\u001b[0m │\n",
              "├──────────────────────────────────────┼─────────────────────────────┼─────────────────┤\n",
              "│ dense_5 (\u001b[38;5;33mDense\u001b[0m)                      │ (\u001b[38;5;45mNone\u001b[0m, \u001b[38;5;45mNone\u001b[0m, \u001b[38;5;34m763\u001b[0m)           │          \u001b[38;5;34m77,063\u001b[0m │\n",
              "└──────────────────────────────────────┴─────────────────────────────┴─────────────────┘\n"
            ],
            "text/html": [
              "<pre style=\"white-space:pre;overflow-x:auto;line-height:normal;font-family:Menlo,'DejaVu Sans Mono',consolas,'Courier New',monospace\">┏━━━━━━━━━━━━━━━━━━━━━━━━━━━━━━━━━━━━━━┳━━━━━━━━━━━━━━━━━━━━━━━━━━━━━┳━━━━━━━━━━━━━━━━━┓\n",
              "┃<span style=\"font-weight: bold\"> Layer (type)                         </span>┃<span style=\"font-weight: bold\"> Output Shape                </span>┃<span style=\"font-weight: bold\">         Param # </span>┃\n",
              "┡━━━━━━━━━━━━━━━━━━━━━━━━━━━━━━━━━━━━━━╇━━━━━━━━━━━━━━━━━━━━━━━━━━━━━╇━━━━━━━━━━━━━━━━━┩\n",
              "│ embedding_5 (<span style=\"color: #0087ff; text-decoration-color: #0087ff\">Embedding</span>)              │ (<span style=\"color: #00d7ff; text-decoration-color: #00d7ff\">None</span>, <span style=\"color: #00d7ff; text-decoration-color: #00d7ff\">None</span>, <span style=\"color: #00af00; text-decoration-color: #00af00\">50</span>)            │          <span style=\"color: #00af00; text-decoration-color: #00af00\">38,150</span> │\n",
              "├──────────────────────────────────────┼─────────────────────────────┼─────────────────┤\n",
              "│ lstm_4 (<span style=\"color: #0087ff; text-decoration-color: #0087ff\">LSTM</span>)                        │ (<span style=\"color: #00d7ff; text-decoration-color: #00d7ff\">None</span>, <span style=\"color: #00d7ff; text-decoration-color: #00d7ff\">None</span>, <span style=\"color: #00af00; text-decoration-color: #00af00\">100</span>)           │          <span style=\"color: #00af00; text-decoration-color: #00af00\">60,400</span> │\n",
              "├──────────────────────────────────────┼─────────────────────────────┼─────────────────┤\n",
              "│ dropout_9 (<span style=\"color: #0087ff; text-decoration-color: #0087ff\">Dropout</span>)                  │ (<span style=\"color: #00d7ff; text-decoration-color: #00d7ff\">None</span>, <span style=\"color: #00d7ff; text-decoration-color: #00d7ff\">None</span>, <span style=\"color: #00af00; text-decoration-color: #00af00\">100</span>)           │               <span style=\"color: #00af00; text-decoration-color: #00af00\">0</span> │\n",
              "├──────────────────────────────────────┼─────────────────────────────┼─────────────────┤\n",
              "│ lstm_5 (<span style=\"color: #0087ff; text-decoration-color: #0087ff\">LSTM</span>)                        │ (<span style=\"color: #00d7ff; text-decoration-color: #00d7ff\">None</span>, <span style=\"color: #00d7ff; text-decoration-color: #00d7ff\">None</span>, <span style=\"color: #00af00; text-decoration-color: #00af00\">100</span>)           │          <span style=\"color: #00af00; text-decoration-color: #00af00\">80,400</span> │\n",
              "├──────────────────────────────────────┼─────────────────────────────┼─────────────────┤\n",
              "│ dropout_10 (<span style=\"color: #0087ff; text-decoration-color: #0087ff\">Dropout</span>)                 │ (<span style=\"color: #00d7ff; text-decoration-color: #00d7ff\">None</span>, <span style=\"color: #00d7ff; text-decoration-color: #00d7ff\">None</span>, <span style=\"color: #00af00; text-decoration-color: #00af00\">100</span>)           │               <span style=\"color: #00af00; text-decoration-color: #00af00\">0</span> │\n",
              "├──────────────────────────────────────┼─────────────────────────────┼─────────────────┤\n",
              "│ dense_5 (<span style=\"color: #0087ff; text-decoration-color: #0087ff\">Dense</span>)                      │ (<span style=\"color: #00d7ff; text-decoration-color: #00d7ff\">None</span>, <span style=\"color: #00d7ff; text-decoration-color: #00d7ff\">None</span>, <span style=\"color: #00af00; text-decoration-color: #00af00\">763</span>)           │          <span style=\"color: #00af00; text-decoration-color: #00af00\">77,063</span> │\n",
              "└──────────────────────────────────────┴─────────────────────────────┴─────────────────┘\n",
              "</pre>\n"
            ]
          },
          "metadata": {}
        },
        {
          "output_type": "display_data",
          "data": {
            "text/plain": [
              "\u001b[1m Total params: \u001b[0m\u001b[38;5;34m256,013\u001b[0m (1000.05 KB)\n"
            ],
            "text/html": [
              "<pre style=\"white-space:pre;overflow-x:auto;line-height:normal;font-family:Menlo,'DejaVu Sans Mono',consolas,'Courier New',monospace\"><span style=\"font-weight: bold\"> Total params: </span><span style=\"color: #00af00; text-decoration-color: #00af00\">256,013</span> (1000.05 KB)\n",
              "</pre>\n"
            ]
          },
          "metadata": {}
        },
        {
          "output_type": "display_data",
          "data": {
            "text/plain": [
              "\u001b[1m Trainable params: \u001b[0m\u001b[38;5;34m256,013\u001b[0m (1000.05 KB)\n"
            ],
            "text/html": [
              "<pre style=\"white-space:pre;overflow-x:auto;line-height:normal;font-family:Menlo,'DejaVu Sans Mono',consolas,'Courier New',monospace\"><span style=\"font-weight: bold\"> Trainable params: </span><span style=\"color: #00af00; text-decoration-color: #00af00\">256,013</span> (1000.05 KB)\n",
              "</pre>\n"
            ]
          },
          "metadata": {}
        },
        {
          "output_type": "display_data",
          "data": {
            "text/plain": [
              "\u001b[1m Non-trainable params: \u001b[0m\u001b[38;5;34m0\u001b[0m (0.00 B)\n"
            ],
            "text/html": [
              "<pre style=\"white-space:pre;overflow-x:auto;line-height:normal;font-family:Menlo,'DejaVu Sans Mono',consolas,'Courier New',monospace\"><span style=\"font-weight: bold\"> Non-trainable params: </span><span style=\"color: #00af00; text-decoration-color: #00af00\">0</span> (0.00 B)\n",
              "</pre>\n"
            ]
          },
          "metadata": {}
        }
      ]
    },
    {
      "cell_type": "markdown",
      "source": [
        "### Segundo Modelo\n",
        "SimpleRNN"
      ],
      "metadata": {
        "id": "ebcNy6YwPLVI"
      }
    },
    {
      "cell_type": "code",
      "source": [
        "model_simpleRNN = Sequential()\n",
        "\n",
        "# Capa de Embedding\n",
        "model_simpleRNN.add(Embedding(input_dim = vocabulary_size + 1, output_dim = 50, input_shape = (None,)))\n",
        "\n",
        "# Primera capa SimpleRNN\n",
        "model_simpleRNN.add(SimpleRNN(100, return_sequences = True))\n",
        "model_simpleRNN.add(Dropout(0.2))\n",
        "\n",
        "# Segunda capa SimpleRNN\n",
        "model_simpleRNN.add(SimpleRNN(100, return_sequences = True))\n",
        "# model_simpleRNN.add(Dropout(0.2))\n",
        "\n",
        "# Capa de salida con activacion con softmax\n",
        "model_simpleRNN.add(Dense(vocabulary_size + 1, activation='softmax'))\n",
        "\n",
        "# Clasificación Sparse_categorical_crossentropy. Optimizador RMSProp\n",
        "model_simpleRNN.compile(loss = SparseCategoricalCrossentropy(), optimizer='rmsprop')\n",
        "\n",
        "model_simpleRNN.summary()"
      ],
      "metadata": {
        "colab": {
          "base_uri": "https://localhost:8080/",
          "height": 289
        },
        "id": "1uspFJWfPNjx",
        "outputId": "acacef20-f32e-4baf-f2a4-8d43ba03cfef"
      },
      "execution_count": 51,
      "outputs": [
        {
          "output_type": "display_data",
          "data": {
            "text/plain": [
              "\u001b[1mModel: \"sequential_4\"\u001b[0m\n"
            ],
            "text/html": [
              "<pre style=\"white-space:pre;overflow-x:auto;line-height:normal;font-family:Menlo,'DejaVu Sans Mono',consolas,'Courier New',monospace\"><span style=\"font-weight: bold\">Model: \"sequential_4\"</span>\n",
              "</pre>\n"
            ]
          },
          "metadata": {}
        },
        {
          "output_type": "display_data",
          "data": {
            "text/plain": [
              "┏━━━━━━━━━━━━━━━━━━━━━━━━━━━━━━━━━━━━━━┳━━━━━━━━━━━━━━━━━━━━━━━━━━━━━┳━━━━━━━━━━━━━━━━━┓\n",
              "┃\u001b[1m \u001b[0m\u001b[1mLayer (type)                        \u001b[0m\u001b[1m \u001b[0m┃\u001b[1m \u001b[0m\u001b[1mOutput Shape               \u001b[0m\u001b[1m \u001b[0m┃\u001b[1m \u001b[0m\u001b[1m        Param #\u001b[0m\u001b[1m \u001b[0m┃\n",
              "┡━━━━━━━━━━━━━━━━━━━━━━━━━━━━━━━━━━━━━━╇━━━━━━━━━━━━━━━━━━━━━━━━━━━━━╇━━━━━━━━━━━━━━━━━┩\n",
              "│ embedding_4 (\u001b[38;5;33mEmbedding\u001b[0m)              │ (\u001b[38;5;45mNone\u001b[0m, \u001b[38;5;45mNone\u001b[0m, \u001b[38;5;34m50\u001b[0m)            │          \u001b[38;5;34m38,150\u001b[0m │\n",
              "├──────────────────────────────────────┼─────────────────────────────┼─────────────────┤\n",
              "│ simple_rnn_2 (\u001b[38;5;33mSimpleRNN\u001b[0m)             │ (\u001b[38;5;45mNone\u001b[0m, \u001b[38;5;45mNone\u001b[0m, \u001b[38;5;34m100\u001b[0m)           │          \u001b[38;5;34m15,100\u001b[0m │\n",
              "├──────────────────────────────────────┼─────────────────────────────┼─────────────────┤\n",
              "│ dropout_8 (\u001b[38;5;33mDropout\u001b[0m)                  │ (\u001b[38;5;45mNone\u001b[0m, \u001b[38;5;45mNone\u001b[0m, \u001b[38;5;34m100\u001b[0m)           │               \u001b[38;5;34m0\u001b[0m │\n",
              "├──────────────────────────────────────┼─────────────────────────────┼─────────────────┤\n",
              "│ simple_rnn_3 (\u001b[38;5;33mSimpleRNN\u001b[0m)             │ (\u001b[38;5;45mNone\u001b[0m, \u001b[38;5;45mNone\u001b[0m, \u001b[38;5;34m100\u001b[0m)           │          \u001b[38;5;34m20,100\u001b[0m │\n",
              "├──────────────────────────────────────┼─────────────────────────────┼─────────────────┤\n",
              "│ dense_4 (\u001b[38;5;33mDense\u001b[0m)                      │ (\u001b[38;5;45mNone\u001b[0m, \u001b[38;5;45mNone\u001b[0m, \u001b[38;5;34m763\u001b[0m)           │          \u001b[38;5;34m77,063\u001b[0m │\n",
              "└──────────────────────────────────────┴─────────────────────────────┴─────────────────┘\n"
            ],
            "text/html": [
              "<pre style=\"white-space:pre;overflow-x:auto;line-height:normal;font-family:Menlo,'DejaVu Sans Mono',consolas,'Courier New',monospace\">┏━━━━━━━━━━━━━━━━━━━━━━━━━━━━━━━━━━━━━━┳━━━━━━━━━━━━━━━━━━━━━━━━━━━━━┳━━━━━━━━━━━━━━━━━┓\n",
              "┃<span style=\"font-weight: bold\"> Layer (type)                         </span>┃<span style=\"font-weight: bold\"> Output Shape                </span>┃<span style=\"font-weight: bold\">         Param # </span>┃\n",
              "┡━━━━━━━━━━━━━━━━━━━━━━━━━━━━━━━━━━━━━━╇━━━━━━━━━━━━━━━━━━━━━━━━━━━━━╇━━━━━━━━━━━━━━━━━┩\n",
              "│ embedding_4 (<span style=\"color: #0087ff; text-decoration-color: #0087ff\">Embedding</span>)              │ (<span style=\"color: #00d7ff; text-decoration-color: #00d7ff\">None</span>, <span style=\"color: #00d7ff; text-decoration-color: #00d7ff\">None</span>, <span style=\"color: #00af00; text-decoration-color: #00af00\">50</span>)            │          <span style=\"color: #00af00; text-decoration-color: #00af00\">38,150</span> │\n",
              "├──────────────────────────────────────┼─────────────────────────────┼─────────────────┤\n",
              "│ simple_rnn_2 (<span style=\"color: #0087ff; text-decoration-color: #0087ff\">SimpleRNN</span>)             │ (<span style=\"color: #00d7ff; text-decoration-color: #00d7ff\">None</span>, <span style=\"color: #00d7ff; text-decoration-color: #00d7ff\">None</span>, <span style=\"color: #00af00; text-decoration-color: #00af00\">100</span>)           │          <span style=\"color: #00af00; text-decoration-color: #00af00\">15,100</span> │\n",
              "├──────────────────────────────────────┼─────────────────────────────┼─────────────────┤\n",
              "│ dropout_8 (<span style=\"color: #0087ff; text-decoration-color: #0087ff\">Dropout</span>)                  │ (<span style=\"color: #00d7ff; text-decoration-color: #00d7ff\">None</span>, <span style=\"color: #00d7ff; text-decoration-color: #00d7ff\">None</span>, <span style=\"color: #00af00; text-decoration-color: #00af00\">100</span>)           │               <span style=\"color: #00af00; text-decoration-color: #00af00\">0</span> │\n",
              "├──────────────────────────────────────┼─────────────────────────────┼─────────────────┤\n",
              "│ simple_rnn_3 (<span style=\"color: #0087ff; text-decoration-color: #0087ff\">SimpleRNN</span>)             │ (<span style=\"color: #00d7ff; text-decoration-color: #00d7ff\">None</span>, <span style=\"color: #00d7ff; text-decoration-color: #00d7ff\">None</span>, <span style=\"color: #00af00; text-decoration-color: #00af00\">100</span>)           │          <span style=\"color: #00af00; text-decoration-color: #00af00\">20,100</span> │\n",
              "├──────────────────────────────────────┼─────────────────────────────┼─────────────────┤\n",
              "│ dense_4 (<span style=\"color: #0087ff; text-decoration-color: #0087ff\">Dense</span>)                      │ (<span style=\"color: #00d7ff; text-decoration-color: #00d7ff\">None</span>, <span style=\"color: #00d7ff; text-decoration-color: #00d7ff\">None</span>, <span style=\"color: #00af00; text-decoration-color: #00af00\">763</span>)           │          <span style=\"color: #00af00; text-decoration-color: #00af00\">77,063</span> │\n",
              "└──────────────────────────────────────┴─────────────────────────────┴─────────────────┘\n",
              "</pre>\n"
            ]
          },
          "metadata": {}
        },
        {
          "output_type": "display_data",
          "data": {
            "text/plain": [
              "\u001b[1m Total params: \u001b[0m\u001b[38;5;34m150,413\u001b[0m (587.55 KB)\n"
            ],
            "text/html": [
              "<pre style=\"white-space:pre;overflow-x:auto;line-height:normal;font-family:Menlo,'DejaVu Sans Mono',consolas,'Courier New',monospace\"><span style=\"font-weight: bold\"> Total params: </span><span style=\"color: #00af00; text-decoration-color: #00af00\">150,413</span> (587.55 KB)\n",
              "</pre>\n"
            ]
          },
          "metadata": {}
        },
        {
          "output_type": "display_data",
          "data": {
            "text/plain": [
              "\u001b[1m Trainable params: \u001b[0m\u001b[38;5;34m150,413\u001b[0m (587.55 KB)\n"
            ],
            "text/html": [
              "<pre style=\"white-space:pre;overflow-x:auto;line-height:normal;font-family:Menlo,'DejaVu Sans Mono',consolas,'Courier New',monospace\"><span style=\"font-weight: bold\"> Trainable params: </span><span style=\"color: #00af00; text-decoration-color: #00af00\">150,413</span> (587.55 KB)\n",
              "</pre>\n"
            ]
          },
          "metadata": {}
        },
        {
          "output_type": "display_data",
          "data": {
            "text/plain": [
              "\u001b[1m Non-trainable params: \u001b[0m\u001b[38;5;34m0\u001b[0m (0.00 B)\n"
            ],
            "text/html": [
              "<pre style=\"white-space:pre;overflow-x:auto;line-height:normal;font-family:Menlo,'DejaVu Sans Mono',consolas,'Courier New',monospace\"><span style=\"font-weight: bold\"> Non-trainable params: </span><span style=\"color: #00af00; text-decoration-color: #00af00\">0</span> (0.00 B)\n",
              "</pre>\n"
            ]
          },
          "metadata": {}
        }
      ]
    },
    {
      "cell_type": "markdown",
      "source": [
        "### Tercer modelo\n",
        "GRU"
      ],
      "metadata": {
        "id": "r_NkdWGVQjj0"
      }
    },
    {
      "cell_type": "code",
      "source": [
        "model_GRU = Sequential()\n",
        "\n",
        "# Capa de Embedding\n",
        "model_GRU.add(Embedding(input_dim = vocabulary_size + 1, output_dim = 50, input_shape = (None,)))\n",
        "\n",
        "# Primera capa GRU\n",
        "model_GRU.add(GRU(100, return_sequences = True))\n",
        "model_GRU.add(Dropout(0.2))\n",
        "\n",
        "# Segunda capa GRU\n",
        "model_GRU.add(GRU(100, return_sequences = True))\n",
        "model_GRU.add(Dropout(0.2))\n",
        "\n",
        "# Capa de salida con activacion con softmax\n",
        "model_GRU.add(Dense(vocabulary_size + 1, activation = 'softmax'))\n",
        "\n",
        "# Clasificacion Sparse_categorical_crossentropy. Optimizador RMSProp\n",
        "model_GRU.compile(loss = SparseCategoricalCrossentropy(), optimizer = 'rmsprop')\n",
        "\n",
        "model_GRU.summary()"
      ],
      "metadata": {
        "colab": {
          "base_uri": "https://localhost:8080/",
          "height": 321
        },
        "id": "8xEqAkgLQmXQ",
        "outputId": "8e11bbe0-72f9-49d4-ff5c-86e5ec6a96af"
      },
      "execution_count": 53,
      "outputs": [
        {
          "output_type": "display_data",
          "data": {
            "text/plain": [
              "\u001b[1mModel: \"sequential_6\"\u001b[0m\n"
            ],
            "text/html": [
              "<pre style=\"white-space:pre;overflow-x:auto;line-height:normal;font-family:Menlo,'DejaVu Sans Mono',consolas,'Courier New',monospace\"><span style=\"font-weight: bold\">Model: \"sequential_6\"</span>\n",
              "</pre>\n"
            ]
          },
          "metadata": {}
        },
        {
          "output_type": "display_data",
          "data": {
            "text/plain": [
              "┏━━━━━━━━━━━━━━━━━━━━━━━━━━━━━━━━━━━━━━┳━━━━━━━━━━━━━━━━━━━━━━━━━━━━━┳━━━━━━━━━━━━━━━━━┓\n",
              "┃\u001b[1m \u001b[0m\u001b[1mLayer (type)                        \u001b[0m\u001b[1m \u001b[0m┃\u001b[1m \u001b[0m\u001b[1mOutput Shape               \u001b[0m\u001b[1m \u001b[0m┃\u001b[1m \u001b[0m\u001b[1m        Param #\u001b[0m\u001b[1m \u001b[0m┃\n",
              "┡━━━━━━━━━━━━━━━━━━━━━━━━━━━━━━━━━━━━━━╇━━━━━━━━━━━━━━━━━━━━━━━━━━━━━╇━━━━━━━━━━━━━━━━━┩\n",
              "│ embedding_6 (\u001b[38;5;33mEmbedding\u001b[0m)              │ (\u001b[38;5;45mNone\u001b[0m, \u001b[38;5;45mNone\u001b[0m, \u001b[38;5;34m50\u001b[0m)            │          \u001b[38;5;34m38,150\u001b[0m │\n",
              "├──────────────────────────────────────┼─────────────────────────────┼─────────────────┤\n",
              "│ gru_2 (\u001b[38;5;33mGRU\u001b[0m)                          │ (\u001b[38;5;45mNone\u001b[0m, \u001b[38;5;45mNone\u001b[0m, \u001b[38;5;34m100\u001b[0m)           │          \u001b[38;5;34m45,600\u001b[0m │\n",
              "├──────────────────────────────────────┼─────────────────────────────┼─────────────────┤\n",
              "│ dropout_11 (\u001b[38;5;33mDropout\u001b[0m)                 │ (\u001b[38;5;45mNone\u001b[0m, \u001b[38;5;45mNone\u001b[0m, \u001b[38;5;34m100\u001b[0m)           │               \u001b[38;5;34m0\u001b[0m │\n",
              "├──────────────────────────────────────┼─────────────────────────────┼─────────────────┤\n",
              "│ gru_3 (\u001b[38;5;33mGRU\u001b[0m)                          │ (\u001b[38;5;45mNone\u001b[0m, \u001b[38;5;45mNone\u001b[0m, \u001b[38;5;34m100\u001b[0m)           │          \u001b[38;5;34m60,600\u001b[0m │\n",
              "├──────────────────────────────────────┼─────────────────────────────┼─────────────────┤\n",
              "│ dropout_12 (\u001b[38;5;33mDropout\u001b[0m)                 │ (\u001b[38;5;45mNone\u001b[0m, \u001b[38;5;45mNone\u001b[0m, \u001b[38;5;34m100\u001b[0m)           │               \u001b[38;5;34m0\u001b[0m │\n",
              "├──────────────────────────────────────┼─────────────────────────────┼─────────────────┤\n",
              "│ dense_6 (\u001b[38;5;33mDense\u001b[0m)                      │ (\u001b[38;5;45mNone\u001b[0m, \u001b[38;5;45mNone\u001b[0m, \u001b[38;5;34m763\u001b[0m)           │          \u001b[38;5;34m77,063\u001b[0m │\n",
              "└──────────────────────────────────────┴─────────────────────────────┴─────────────────┘\n"
            ],
            "text/html": [
              "<pre style=\"white-space:pre;overflow-x:auto;line-height:normal;font-family:Menlo,'DejaVu Sans Mono',consolas,'Courier New',monospace\">┏━━━━━━━━━━━━━━━━━━━━━━━━━━━━━━━━━━━━━━┳━━━━━━━━━━━━━━━━━━━━━━━━━━━━━┳━━━━━━━━━━━━━━━━━┓\n",
              "┃<span style=\"font-weight: bold\"> Layer (type)                         </span>┃<span style=\"font-weight: bold\"> Output Shape                </span>┃<span style=\"font-weight: bold\">         Param # </span>┃\n",
              "┡━━━━━━━━━━━━━━━━━━━━━━━━━━━━━━━━━━━━━━╇━━━━━━━━━━━━━━━━━━━━━━━━━━━━━╇━━━━━━━━━━━━━━━━━┩\n",
              "│ embedding_6 (<span style=\"color: #0087ff; text-decoration-color: #0087ff\">Embedding</span>)              │ (<span style=\"color: #00d7ff; text-decoration-color: #00d7ff\">None</span>, <span style=\"color: #00d7ff; text-decoration-color: #00d7ff\">None</span>, <span style=\"color: #00af00; text-decoration-color: #00af00\">50</span>)            │          <span style=\"color: #00af00; text-decoration-color: #00af00\">38,150</span> │\n",
              "├──────────────────────────────────────┼─────────────────────────────┼─────────────────┤\n",
              "│ gru_2 (<span style=\"color: #0087ff; text-decoration-color: #0087ff\">GRU</span>)                          │ (<span style=\"color: #00d7ff; text-decoration-color: #00d7ff\">None</span>, <span style=\"color: #00d7ff; text-decoration-color: #00d7ff\">None</span>, <span style=\"color: #00af00; text-decoration-color: #00af00\">100</span>)           │          <span style=\"color: #00af00; text-decoration-color: #00af00\">45,600</span> │\n",
              "├──────────────────────────────────────┼─────────────────────────────┼─────────────────┤\n",
              "│ dropout_11 (<span style=\"color: #0087ff; text-decoration-color: #0087ff\">Dropout</span>)                 │ (<span style=\"color: #00d7ff; text-decoration-color: #00d7ff\">None</span>, <span style=\"color: #00d7ff; text-decoration-color: #00d7ff\">None</span>, <span style=\"color: #00af00; text-decoration-color: #00af00\">100</span>)           │               <span style=\"color: #00af00; text-decoration-color: #00af00\">0</span> │\n",
              "├──────────────────────────────────────┼─────────────────────────────┼─────────────────┤\n",
              "│ gru_3 (<span style=\"color: #0087ff; text-decoration-color: #0087ff\">GRU</span>)                          │ (<span style=\"color: #00d7ff; text-decoration-color: #00d7ff\">None</span>, <span style=\"color: #00d7ff; text-decoration-color: #00d7ff\">None</span>, <span style=\"color: #00af00; text-decoration-color: #00af00\">100</span>)           │          <span style=\"color: #00af00; text-decoration-color: #00af00\">60,600</span> │\n",
              "├──────────────────────────────────────┼─────────────────────────────┼─────────────────┤\n",
              "│ dropout_12 (<span style=\"color: #0087ff; text-decoration-color: #0087ff\">Dropout</span>)                 │ (<span style=\"color: #00d7ff; text-decoration-color: #00d7ff\">None</span>, <span style=\"color: #00d7ff; text-decoration-color: #00d7ff\">None</span>, <span style=\"color: #00af00; text-decoration-color: #00af00\">100</span>)           │               <span style=\"color: #00af00; text-decoration-color: #00af00\">0</span> │\n",
              "├──────────────────────────────────────┼─────────────────────────────┼─────────────────┤\n",
              "│ dense_6 (<span style=\"color: #0087ff; text-decoration-color: #0087ff\">Dense</span>)                      │ (<span style=\"color: #00d7ff; text-decoration-color: #00d7ff\">None</span>, <span style=\"color: #00d7ff; text-decoration-color: #00d7ff\">None</span>, <span style=\"color: #00af00; text-decoration-color: #00af00\">763</span>)           │          <span style=\"color: #00af00; text-decoration-color: #00af00\">77,063</span> │\n",
              "└──────────────────────────────────────┴─────────────────────────────┴─────────────────┘\n",
              "</pre>\n"
            ]
          },
          "metadata": {}
        },
        {
          "output_type": "display_data",
          "data": {
            "text/plain": [
              "\u001b[1m Total params: \u001b[0m\u001b[38;5;34m221,413\u001b[0m (864.89 KB)\n"
            ],
            "text/html": [
              "<pre style=\"white-space:pre;overflow-x:auto;line-height:normal;font-family:Menlo,'DejaVu Sans Mono',consolas,'Courier New',monospace\"><span style=\"font-weight: bold\"> Total params: </span><span style=\"color: #00af00; text-decoration-color: #00af00\">221,413</span> (864.89 KB)\n",
              "</pre>\n"
            ]
          },
          "metadata": {}
        },
        {
          "output_type": "display_data",
          "data": {
            "text/plain": [
              "\u001b[1m Trainable params: \u001b[0m\u001b[38;5;34m221,413\u001b[0m (864.89 KB)\n"
            ],
            "text/html": [
              "<pre style=\"white-space:pre;overflow-x:auto;line-height:normal;font-family:Menlo,'DejaVu Sans Mono',consolas,'Courier New',monospace\"><span style=\"font-weight: bold\"> Trainable params: </span><span style=\"color: #00af00; text-decoration-color: #00af00\">221,413</span> (864.89 KB)\n",
              "</pre>\n"
            ]
          },
          "metadata": {}
        },
        {
          "output_type": "display_data",
          "data": {
            "text/plain": [
              "\u001b[1m Non-trainable params: \u001b[0m\u001b[38;5;34m0\u001b[0m (0.00 B)\n"
            ],
            "text/html": [
              "<pre style=\"white-space:pre;overflow-x:auto;line-height:normal;font-family:Menlo,'DejaVu Sans Mono',consolas,'Courier New',monospace\"><span style=\"font-weight: bold\"> Non-trainable params: </span><span style=\"color: #00af00; text-decoration-color: #00af00\">0</span> (0.00 B)\n",
              "</pre>\n"
            ]
          },
          "metadata": {}
        }
      ]
    },
    {
      "cell_type": "markdown",
      "source": [
        "Utilizamos la Clase \"PplCallback\" para el calculo de la Perplejidad a medida que avanzan los entrenamientos."
      ],
      "metadata": {
        "id": "p_xfdTbBD-d-"
      }
    },
    {
      "cell_type": "code",
      "source": [
        "class PplCallback(keras.callbacks.Callback):\n",
        "\n",
        "    '''\n",
        "    Este callback es una solución ad-hoc para calcular al final de cada epoch de\n",
        "    entrenamiento la métrica de Perplejidad sobre un conjunto de datos de validación.\n",
        "    La perplejidad es una métrica cuantitativa para evaluar la calidad de la generación de secuencias.\n",
        "    Además implementa la finalización del entrenamiento (Early Stopping)\n",
        "    si la perplejidad no mejora después de `patience` epochs.\n",
        "    '''\n",
        "\n",
        "    def __init__(self, val_data, history_ppl, model_name, patience=15):\n",
        "      # El callback lo inicializamos con secuencias de validación sobre las cuales\n",
        "      # mediremos la perplejidad y la paciencia para detener el entrenamiento.\n",
        "      self.val_data = val_data\n",
        "\n",
        "      self.target = []\n",
        "      self.padded = []\n",
        "\n",
        "      count = 0\n",
        "      self.info = []\n",
        "      self.history_ppl = history_ppl\n",
        "      self.model_name = model_name\n",
        "      self.min_score = np.inf\n",
        "      self.patience_counter = 0\n",
        "      self.patience = patience\n",
        "\n",
        "      # nos movemos en todas las secuencias de los datos de validación\n",
        "      for seq in self.val_data:\n",
        "\n",
        "        len_seq = len(seq)\n",
        "        # armamos todas las subsecuencias\n",
        "        subseq = [seq[:i] for i in range(len_seq)]\n",
        "        self.target.extend([seq[i] for i in range(len_seq)])\n",
        "\n",
        "        if len(subseq)!=0:\n",
        "\n",
        "          self.padded.append(pad_sequences(subseq, maxlen=max_context_size, padding='pre'))\n",
        "\n",
        "          self.info.append((count,count+len_seq))\n",
        "          count += len_seq\n",
        "\n",
        "      self.padded = np.vstack(self.padded)\n",
        "\n",
        "\n",
        "    def on_epoch_end(self, epoch, logs=None):\n",
        "        scores = []\n",
        "        batch_size = 32  # Tamaño del lote para las predicciones\n",
        "\n",
        "        # Se realizan predicciones por lotes para el cálculo de la perplejidad\n",
        "        for start_idx, (start, end) in enumerate(self.info):\n",
        "\n",
        "            # Se selecciona el lote de secuencias correspondiente\n",
        "            batch_padded = self.padded[start:end]\n",
        "            num_batches = int(np.ceil(len(batch_padded) / batch_size))\n",
        "\n",
        "            # Se calculan las probabilidades para cada lote\n",
        "            probs = []\n",
        "            for i in range(num_batches):\n",
        "                batch_start = i * batch_size\n",
        "                batch_end = min((i + 1) * batch_size, len(batch_padded))\n",
        "                batch_predictions = self.model.predict(batch_padded[batch_start:batch_end], verbose=0)\n",
        "\n",
        "                # Se recopilan las probabilidades para los términos target\n",
        "                for idx_seq, idx_vocab in zip(range(batch_start, batch_end), self.target[start:end]):\n",
        "                    probs.append(batch_predictions[idx_seq - batch_start, -1, idx_vocab])\n",
        "\n",
        "            # Se calcula la perplejidad para la secuencia actual\n",
        "            scores.append(np.exp(-np.sum(np.log(probs)) / (end - start)))\n",
        "\n",
        "            # Se limpian variables para liberar memoria\n",
        "            del batch_padded, batch_predictions, probs\n",
        "\n",
        "        # Se promedian todos los scores\n",
        "        current_score = np.mean(scores)\n",
        "        self.history_ppl.append(current_score)\n",
        "        print(f'\\n mean perplexity: {current_score} \\n')\n",
        "\n",
        "        # Se verifica si se debe detener el entrenamiento\n",
        "        if current_score < self.min_score:\n",
        "            self.min_score = current_score\n",
        "            self.model.save(f'{self.model_name}.keras')\n",
        "            print(\"Saved new model!\")\n",
        "            self.patience_counter = 0\n",
        "        else:\n",
        "            self.patience_counter += 1\n",
        "            if self.patience_counter == self.patience:\n",
        "                print(\"Stopping training...\")\n",
        "                self.model.stop_training = True\n"
      ],
      "metadata": {
        "id": "cB4qMdSXD_nD"
      },
      "execution_count": 64,
      "outputs": []
    },
    {
      "cell_type": "markdown",
      "source": [
        "## Entrenamiento\n",
        "\n",
        "En este punto se realiza el entrenamiento de los modelos propuestos. Cabe mencionar que se probaron varias arquitecturas, con diferentes parámetros y tamaños de Embeddings.\n",
        "\n",
        "Tambien se probaron distintos tipos de optimizadores como RMSProp y Adam. Sin embargo loe mejores resultados se obtuvieron con RMSProp.\n",
        "\n",
        "En general, luego de haber probado con diferentes variaciones, se observa que los resultados no son del todo los esperados, dado que los valores de perplejidad no descienden de la manera esperada, lo cual indica que el modelo aún continua teniendo problemas con el texto."
      ],
      "metadata": {
        "id": "rNK26dB9EGJn"
      }
    },
    {
      "cell_type": "code",
      "source": [
        "history_ppl_LSTM = []\n",
        "hist_LSTM = model_LSTM.fit(X, y, epochs=20, callbacks=[PplCallback(tokenized_sent_val, history_ppl_LSTM, model_name='model_LSTM')], batch_size=64)"
      ],
      "metadata": {
        "colab": {
          "base_uri": "https://localhost:8080/"
        },
        "id": "M3GpWrOrEGrZ",
        "outputId": "29e70ab6-bc04-4a17-bacc-62e029e06ce8"
      },
      "execution_count": 65,
      "outputs": [
        {
          "output_type": "stream",
          "name": "stdout",
          "text": [
            "Epoch 1/20\n",
            "\u001b[1m55/55\u001b[0m \u001b[32m━━━━━━━━━━━━━━━━━━━━\u001b[0m\u001b[37m\u001b[0m \u001b[1m0s\u001b[0m 187ms/step - loss: 1.9751\n",
            " mean perplexity: 8944.997854249239 \n",
            "\n",
            "Saved new model!\n",
            "\u001b[1m55/55\u001b[0m \u001b[32m━━━━━━━━━━━━━━━━━━━━\u001b[0m\u001b[37m\u001b[0m \u001b[1m14s\u001b[0m 259ms/step - loss: 1.9750\n",
            "Epoch 2/20\n",
            "\u001b[1m55/55\u001b[0m \u001b[32m━━━━━━━━━━━━━━━━━━━━\u001b[0m\u001b[37m\u001b[0m \u001b[1m0s\u001b[0m 188ms/step - loss: 1.8931\n",
            " mean perplexity: 6868.807311110017 \n",
            "\n",
            "Saved new model!\n",
            "\u001b[1m55/55\u001b[0m \u001b[32m━━━━━━━━━━━━━━━━━━━━\u001b[0m\u001b[37m\u001b[0m \u001b[1m14s\u001b[0m 259ms/step - loss: 1.8931\n",
            "Epoch 3/20\n",
            "\u001b[1m55/55\u001b[0m \u001b[32m━━━━━━━━━━━━━━━━━━━━\u001b[0m\u001b[37m\u001b[0m \u001b[1m0s\u001b[0m 150ms/step - loss: 1.8214\n",
            " mean perplexity: 5935.936116806385 \n",
            "\n",
            "Saved new model!\n",
            "\u001b[1m55/55\u001b[0m \u001b[32m━━━━━━━━━━━━━━━━━━━━\u001b[0m\u001b[37m\u001b[0m \u001b[1m21s\u001b[0m 273ms/step - loss: 1.8214\n",
            "Epoch 4/20\n",
            "\u001b[1m55/55\u001b[0m \u001b[32m━━━━━━━━━━━━━━━━━━━━\u001b[0m\u001b[37m\u001b[0m \u001b[1m0s\u001b[0m 185ms/step - loss: 1.7579\n",
            " mean perplexity: 6532.433122354949 \n",
            "\n",
            "\u001b[1m55/55\u001b[0m \u001b[32m━━━━━━━━━━━━━━━━━━━━\u001b[0m\u001b[37m\u001b[0m \u001b[1m20s\u001b[0m 258ms/step - loss: 1.7578\n",
            "Epoch 5/20\n",
            "\u001b[1m55/55\u001b[0m \u001b[32m━━━━━━━━━━━━━━━━━━━━\u001b[0m\u001b[37m\u001b[0m \u001b[1m0s\u001b[0m 182ms/step - loss: 1.6995\n",
            " mean perplexity: 5798.342163279373 \n",
            "\n",
            "Saved new model!\n",
            "\u001b[1m55/55\u001b[0m \u001b[32m━━━━━━━━━━━━━━━━━━━━\u001b[0m\u001b[37m\u001b[0m \u001b[1m20s\u001b[0m 255ms/step - loss: 1.6993\n",
            "Epoch 6/20\n",
            "\u001b[1m55/55\u001b[0m \u001b[32m━━━━━━━━━━━━━━━━━━━━\u001b[0m\u001b[37m\u001b[0m \u001b[1m0s\u001b[0m 139ms/step - loss: 1.6425\n",
            " mean perplexity: 7320.971045308661 \n",
            "\n",
            "\u001b[1m55/55\u001b[0m \u001b[32m━━━━━━━━━━━━━━━━━━━━\u001b[0m\u001b[37m\u001b[0m \u001b[1m20s\u001b[0m 243ms/step - loss: 1.6421\n",
            "Epoch 7/20\n",
            "\u001b[1m55/55\u001b[0m \u001b[32m━━━━━━━━━━━━━━━━━━━━\u001b[0m\u001b[37m\u001b[0m \u001b[1m0s\u001b[0m 189ms/step - loss: 1.5816\n",
            " mean perplexity: 6765.336350755363 \n",
            "\n",
            "\u001b[1m55/55\u001b[0m \u001b[32m━━━━━━━━━━━━━━━━━━━━\u001b[0m\u001b[37m\u001b[0m \u001b[1m22s\u001b[0m 266ms/step - loss: 1.5812\n",
            "Epoch 8/20\n",
            "\u001b[1m55/55\u001b[0m \u001b[32m━━━━━━━━━━━━━━━━━━━━\u001b[0m\u001b[37m\u001b[0m \u001b[1m0s\u001b[0m 138ms/step - loss: 1.5116\n",
            " mean perplexity: 6287.487601180931 \n",
            "\n",
            "\u001b[1m55/55\u001b[0m \u001b[32m━━━━━━━━━━━━━━━━━━━━\u001b[0m\u001b[37m\u001b[0m \u001b[1m18s\u001b[0m 218ms/step - loss: 1.5115\n",
            "Epoch 9/20\n",
            "\u001b[1m55/55\u001b[0m \u001b[32m━━━━━━━━━━━━━━━━━━━━\u001b[0m\u001b[37m\u001b[0m \u001b[1m0s\u001b[0m 189ms/step - loss: 1.4613\n",
            " mean perplexity: 6404.665656329075 \n",
            "\n",
            "\u001b[1m55/55\u001b[0m \u001b[32m━━━━━━━━━━━━━━━━━━━━\u001b[0m\u001b[37m\u001b[0m \u001b[1m23s\u001b[0m 265ms/step - loss: 1.4611\n",
            "Epoch 10/20\n",
            "\u001b[1m55/55\u001b[0m \u001b[32m━━━━━━━━━━━━━━━━━━━━\u001b[0m\u001b[37m\u001b[0m \u001b[1m0s\u001b[0m 166ms/step - loss: 1.3896\n",
            " mean perplexity: 8803.184857563898 \n",
            "\n",
            "\u001b[1m55/55\u001b[0m \u001b[32m━━━━━━━━━━━━━━━━━━━━\u001b[0m\u001b[37m\u001b[0m \u001b[1m19s\u001b[0m 240ms/step - loss: 1.3897\n",
            "Epoch 11/20\n",
            "\u001b[1m55/55\u001b[0m \u001b[32m━━━━━━━━━━━━━━━━━━━━\u001b[0m\u001b[37m\u001b[0m \u001b[1m0s\u001b[0m 165ms/step - loss: 1.3576\n",
            " mean perplexity: 7403.719667978082 \n",
            "\n",
            "\u001b[1m55/55\u001b[0m \u001b[32m━━━━━━━━━━━━━━━━━━━━\u001b[0m\u001b[37m\u001b[0m \u001b[1m23s\u001b[0m 282ms/step - loss: 1.3575\n",
            "Epoch 12/20\n",
            "\u001b[1m55/55\u001b[0m \u001b[32m━━━━━━━━━━━━━━━━━━━━\u001b[0m\u001b[37m\u001b[0m \u001b[1m0s\u001b[0m 189ms/step - loss: 1.3175\n",
            " mean perplexity: 9353.292393053991 \n",
            "\n",
            "\u001b[1m55/55\u001b[0m \u001b[32m━━━━━━━━━━━━━━━━━━━━\u001b[0m\u001b[37m\u001b[0m \u001b[1m19s\u001b[0m 261ms/step - loss: 1.3173\n",
            "Epoch 13/20\n",
            "\u001b[1m55/55\u001b[0m \u001b[32m━━━━━━━━━━━━━━━━━━━━\u001b[0m\u001b[37m\u001b[0m \u001b[1m0s\u001b[0m 137ms/step - loss: 1.2789\n",
            " mean perplexity: 8478.919115646526 \n",
            "\n",
            "\u001b[1m55/55\u001b[0m \u001b[32m━━━━━━━━━━━━━━━━━━━━\u001b[0m\u001b[37m\u001b[0m \u001b[1m19s\u001b[0m 228ms/step - loss: 1.2786\n",
            "Epoch 14/20\n",
            "\u001b[1m55/55\u001b[0m \u001b[32m━━━━━━━━━━━━━━━━━━━━\u001b[0m\u001b[37m\u001b[0m \u001b[1m0s\u001b[0m 152ms/step - loss: 1.2532\n",
            " mean perplexity: 8528.402785076574 \n",
            "\n",
            "\u001b[1m55/55\u001b[0m \u001b[32m━━━━━━━━━━━━━━━━━━━━\u001b[0m\u001b[37m\u001b[0m \u001b[1m13s\u001b[0m 230ms/step - loss: 1.2527\n",
            "Epoch 15/20\n",
            "\u001b[1m55/55\u001b[0m \u001b[32m━━━━━━━━━━━━━━━━━━━━\u001b[0m\u001b[37m\u001b[0m \u001b[1m0s\u001b[0m 186ms/step - loss: 1.1908\n",
            " mean perplexity: 11598.008455616908 \n",
            "\n",
            "\u001b[1m55/55\u001b[0m \u001b[32m━━━━━━━━━━━━━━━━━━━━\u001b[0m\u001b[37m\u001b[0m \u001b[1m22s\u001b[0m 261ms/step - loss: 1.1907\n",
            "Epoch 16/20\n",
            "\u001b[1m55/55\u001b[0m \u001b[32m━━━━━━━━━━━━━━━━━━━━\u001b[0m\u001b[37m\u001b[0m \u001b[1m0s\u001b[0m 184ms/step - loss: 1.1666\n",
            " mean perplexity: 7873.857284638918 \n",
            "\n",
            "\u001b[1m55/55\u001b[0m \u001b[32m━━━━━━━━━━━━━━━━━━━━\u001b[0m\u001b[37m\u001b[0m \u001b[1m20s\u001b[0m 257ms/step - loss: 1.1664\n",
            "Epoch 17/20\n",
            "\u001b[1m55/55\u001b[0m \u001b[32m━━━━━━━━━━━━━━━━━━━━\u001b[0m\u001b[37m\u001b[0m \u001b[1m0s\u001b[0m 140ms/step - loss: 1.1154\n",
            " mean perplexity: 8088.607214800115 \n",
            "\n",
            "\u001b[1m55/55\u001b[0m \u001b[32m━━━━━━━━━━━━━━━━━━━━\u001b[0m\u001b[37m\u001b[0m \u001b[1m20s\u001b[0m 242ms/step - loss: 1.1155\n",
            "Epoch 18/20\n",
            "\u001b[1m55/55\u001b[0m \u001b[32m━━━━━━━━━━━━━━━━━━━━\u001b[0m\u001b[37m\u001b[0m \u001b[1m0s\u001b[0m 189ms/step - loss: 1.0961\n",
            " mean perplexity: 9823.120725015257 \n",
            "\n",
            "\u001b[1m55/55\u001b[0m \u001b[32m━━━━━━━━━━━━━━━━━━━━\u001b[0m\u001b[37m\u001b[0m \u001b[1m22s\u001b[0m 264ms/step - loss: 1.0960\n",
            "Epoch 19/20\n",
            "\u001b[1m55/55\u001b[0m \u001b[32m━━━━━━━━━━━━━━━━━━━━\u001b[0m\u001b[37m\u001b[0m \u001b[1m0s\u001b[0m 150ms/step - loss: 1.0628\n",
            " mean perplexity: 11121.23067252717 \n",
            "\n",
            "\u001b[1m55/55\u001b[0m \u001b[32m━━━━━━━━━━━━━━━━━━━━\u001b[0m\u001b[37m\u001b[0m \u001b[1m19s\u001b[0m 230ms/step - loss: 1.0627\n",
            "Epoch 20/20\n",
            "\u001b[1m55/55\u001b[0m \u001b[32m━━━━━━━━━━━━━━━━━━━━\u001b[0m\u001b[37m\u001b[0m \u001b[1m0s\u001b[0m 236ms/step - loss: 1.0494\n",
            " mean perplexity: 11362.148001218484 \n",
            "\n",
            "Stopping training...\n",
            "\u001b[1m55/55\u001b[0m \u001b[32m━━━━━━━━━━━━━━━━━━━━\u001b[0m\u001b[37m\u001b[0m \u001b[1m25s\u001b[0m 312ms/step - loss: 1.0492\n"
          ]
        }
      ]
    },
    {
      "cell_type": "code",
      "source": [
        "history_ppl_simpleRNN = []\n",
        "hist_simpleRNN = model_simpleRNN.fit(X, y, epochs=20, callbacks=[PplCallback(tokenized_sent_val, history_ppl_simpleRNN, model_name='model_simpleRNN')], batch_size=64)"
      ],
      "metadata": {
        "colab": {
          "base_uri": "https://localhost:8080/"
        },
        "id": "430pgO0fSKa3",
        "outputId": "9c456e54-db55-4e91-834d-0e4e869ddd95"
      },
      "execution_count": 66,
      "outputs": [
        {
          "output_type": "stream",
          "name": "stdout",
          "text": [
            "Epoch 1/20\n",
            "\u001b[1m54/55\u001b[0m \u001b[32m━━━━━━━━━━━━━━━━━━━\u001b[0m\u001b[37m━\u001b[0m \u001b[1m0s\u001b[0m 129ms/step - loss: 0.6607\n",
            " mean perplexity: 12838.416407330007 \n",
            "\n",
            "Saved new model!\n",
            "\u001b[1m55/55\u001b[0m \u001b[32m━━━━━━━━━━━━━━━━━━━━\u001b[0m\u001b[37m\u001b[0m \u001b[1m11s\u001b[0m 200ms/step - loss: 0.6602\n",
            "Epoch 2/20\n",
            "\u001b[1m54/55\u001b[0m \u001b[32m━━━━━━━━━━━━━━━━━━━\u001b[0m\u001b[37m━\u001b[0m \u001b[1m0s\u001b[0m 86ms/step - loss: 0.6129\n",
            " mean perplexity: 10107.800889629783 \n",
            "\n",
            "Saved new model!\n",
            "\u001b[1m55/55\u001b[0m \u001b[32m━━━━━━━━━━━━━━━━━━━━\u001b[0m\u001b[37m\u001b[0m \u001b[1m18s\u001b[0m 158ms/step - loss: 0.6126\n",
            "Epoch 3/20\n",
            "\u001b[1m54/55\u001b[0m \u001b[32m━━━━━━━━━━━━━━━━━━━\u001b[0m\u001b[37m━\u001b[0m \u001b[1m0s\u001b[0m 114ms/step - loss: 0.5799\n",
            " mean perplexity: 13024.902456048894 \n",
            "\n",
            "\u001b[1m55/55\u001b[0m \u001b[32m━━━━━━━━━━━━━━━━━━━━\u001b[0m\u001b[37m\u001b[0m \u001b[1m12s\u001b[0m 187ms/step - loss: 0.5797\n",
            "Epoch 4/20\n",
            "\u001b[1m54/55\u001b[0m \u001b[32m━━━━━━━━━━━━━━━━━━━\u001b[0m\u001b[37m━\u001b[0m \u001b[1m0s\u001b[0m 85ms/step - loss: 0.5480\n",
            " mean perplexity: 14911.190287461666 \n",
            "\n",
            "\u001b[1m55/55\u001b[0m \u001b[32m━━━━━━━━━━━━━━━━━━━━\u001b[0m\u001b[37m\u001b[0m \u001b[1m20s\u001b[0m 173ms/step - loss: 0.5479\n",
            "Epoch 5/20\n",
            "\u001b[1m54/55\u001b[0m \u001b[32m━━━━━━━━━━━━━━━━━━━\u001b[0m\u001b[37m━\u001b[0m \u001b[1m0s\u001b[0m 87ms/step - loss: 0.5276\n",
            " mean perplexity: 12421.664348354865 \n",
            "\n",
            "\u001b[1m55/55\u001b[0m \u001b[32m━━━━━━━━━━━━━━━━━━━━\u001b[0m\u001b[37m\u001b[0m \u001b[1m10s\u001b[0m 160ms/step - loss: 0.5274\n",
            "Epoch 6/20\n",
            "\u001b[1m54/55\u001b[0m \u001b[32m━━━━━━━━━━━━━━━━━━━\u001b[0m\u001b[37m━\u001b[0m \u001b[1m0s\u001b[0m 123ms/step - loss: 0.5011\n",
            " mean perplexity: 12062.797590393297 \n",
            "\n",
            "\u001b[1m55/55\u001b[0m \u001b[32m━━━━━━━━━━━━━━━━━━━━\u001b[0m\u001b[37m\u001b[0m \u001b[1m12s\u001b[0m 192ms/step - loss: 0.5012\n",
            "Epoch 7/20\n",
            "\u001b[1m54/55\u001b[0m \u001b[32m━━━━━━━━━━━━━━━━━━━\u001b[0m\u001b[37m━\u001b[0m \u001b[1m0s\u001b[0m 85ms/step - loss: 0.4906\n",
            " mean perplexity: 12171.643806171864 \n",
            "\n",
            "\u001b[1m55/55\u001b[0m \u001b[32m━━━━━━━━━━━━━━━━━━━━\u001b[0m\u001b[37m\u001b[0m \u001b[1m19s\u001b[0m 170ms/step - loss: 0.4903\n",
            "Epoch 8/20\n",
            "\u001b[1m54/55\u001b[0m \u001b[32m━━━━━━━━━━━━━━━━━━━\u001b[0m\u001b[37m━\u001b[0m \u001b[1m0s\u001b[0m 111ms/step - loss: 0.4745\n",
            " mean perplexity: 16687.0290188225 \n",
            "\n",
            "\u001b[1m55/55\u001b[0m \u001b[32m━━━━━━━━━━━━━━━━━━━━\u001b[0m\u001b[37m\u001b[0m \u001b[1m10s\u001b[0m 188ms/step - loss: 0.4743\n",
            "Epoch 9/20\n",
            "\u001b[1m54/55\u001b[0m \u001b[32m━━━━━━━━━━━━━━━━━━━\u001b[0m\u001b[37m━\u001b[0m \u001b[1m0s\u001b[0m 84ms/step - loss: 0.4541\n",
            " mean perplexity: 13715.02996881566 \n",
            "\n",
            "\u001b[1m55/55\u001b[0m \u001b[32m━━━━━━━━━━━━━━━━━━━━\u001b[0m\u001b[37m\u001b[0m \u001b[1m20s\u001b[0m 182ms/step - loss: 0.4542\n",
            "Epoch 10/20\n",
            "\u001b[1m54/55\u001b[0m \u001b[32m━━━━━━━━━━━━━━━━━━━\u001b[0m\u001b[37m━\u001b[0m \u001b[1m0s\u001b[0m 91ms/step - loss: 0.4478\n",
            " mean perplexity: 14639.832378146704 \n",
            "\n",
            "\u001b[1m55/55\u001b[0m \u001b[32m━━━━━━━━━━━━━━━━━━━━\u001b[0m\u001b[37m\u001b[0m \u001b[1m9s\u001b[0m 162ms/step - loss: 0.4477\n",
            "Epoch 11/20\n",
            "\u001b[1m55/55\u001b[0m \u001b[32m━━━━━━━━━━━━━━━━━━━━\u001b[0m\u001b[37m\u001b[0m \u001b[1m0s\u001b[0m 150ms/step - loss: 0.4381\n",
            " mean perplexity: 16895.939566230663 \n",
            "\n",
            "\u001b[1m55/55\u001b[0m \u001b[32m━━━━━━━━━━━━━━━━━━━━\u001b[0m\u001b[37m\u001b[0m \u001b[1m14s\u001b[0m 234ms/step - loss: 0.4381\n",
            "Epoch 12/20\n",
            "\u001b[1m54/55\u001b[0m \u001b[32m━━━━━━━━━━━━━━━━━━━\u001b[0m\u001b[37m━\u001b[0m \u001b[1m0s\u001b[0m 86ms/step - loss: 0.4284\n",
            " mean perplexity: 12949.569824180895 \n",
            "\n",
            "\u001b[1m55/55\u001b[0m \u001b[32m━━━━━━━━━━━━━━━━━━━━\u001b[0m\u001b[37m\u001b[0m \u001b[1m16s\u001b[0m 158ms/step - loss: 0.4283\n",
            "Epoch 13/20\n",
            "\u001b[1m54/55\u001b[0m \u001b[32m━━━━━━━━━━━━━━━━━━━\u001b[0m\u001b[37m━\u001b[0m \u001b[1m0s\u001b[0m 128ms/step - loss: 0.4287\n",
            " mean perplexity: 15346.822974852079 \n",
            "\n",
            "\u001b[1m55/55\u001b[0m \u001b[32m━━━━━━━━━━━━━━━━━━━━\u001b[0m\u001b[37m\u001b[0m \u001b[1m12s\u001b[0m 199ms/step - loss: 0.4284\n",
            "Epoch 14/20\n",
            "\u001b[1m55/55\u001b[0m \u001b[32m━━━━━━━━━━━━━━━━━━━━\u001b[0m\u001b[37m\u001b[0m \u001b[1m0s\u001b[0m 87ms/step - loss: 0.4131\n",
            " mean perplexity: 17801.312491815777 \n",
            "\n",
            "\u001b[1m55/55\u001b[0m \u001b[32m━━━━━━━━━━━━━━━━━━━━\u001b[0m\u001b[37m\u001b[0m \u001b[1m10s\u001b[0m 187ms/step - loss: 0.4131\n",
            "Epoch 15/20\n",
            "\u001b[1m55/55\u001b[0m \u001b[32m━━━━━━━━━━━━━━━━━━━━\u001b[0m\u001b[37m\u001b[0m \u001b[1m0s\u001b[0m 86ms/step - loss: 0.4080\n",
            " mean perplexity: 18116.82411037245 \n",
            "\n",
            "\u001b[1m55/55\u001b[0m \u001b[32m━━━━━━━━━━━━━━━━━━━━\u001b[0m\u001b[37m\u001b[0m \u001b[1m9s\u001b[0m 157ms/step - loss: 0.4080\n",
            "Epoch 16/20\n",
            "\u001b[1m54/55\u001b[0m \u001b[32m━━━━━━━━━━━━━━━━━━━\u001b[0m\u001b[37m━\u001b[0m \u001b[1m0s\u001b[0m 117ms/step - loss: 0.4028\n",
            " mean perplexity: 17052.604721054762 \n",
            "\n",
            "\u001b[1m55/55\u001b[0m \u001b[32m━━━━━━━━━━━━━━━━━━━━\u001b[0m\u001b[37m\u001b[0m \u001b[1m12s\u001b[0m 186ms/step - loss: 0.4028\n",
            "Epoch 17/20\n",
            "\u001b[1m55/55\u001b[0m \u001b[32m━━━━━━━━━━━━━━━━━━━━\u001b[0m\u001b[37m\u001b[0m \u001b[1m0s\u001b[0m 94ms/step - loss: 0.3974\n",
            " mean perplexity: 22551.56980912145 \n",
            "\n",
            "Stopping training...\n",
            "\u001b[1m55/55\u001b[0m \u001b[32m━━━━━━━━━━━━━━━━━━━━\u001b[0m\u001b[37m\u001b[0m \u001b[1m10s\u001b[0m 188ms/step - loss: 0.3974\n"
          ]
        }
      ]
    },
    {
      "cell_type": "code",
      "source": [
        "history_ppl_GRU= []\n",
        "hist_GRU = model_GRU.fit(X, y, epochs=20, callbacks=[PplCallback(tokenized_sent_val, history_ppl_GRU, model_name='model_GRU')], batch_size=64)"
      ],
      "metadata": {
        "colab": {
          "base_uri": "https://localhost:8080/"
        },
        "id": "6YFlCxsgS0Gc",
        "outputId": "deae051c-5294-480d-f801-61e64523ce66"
      },
      "execution_count": 67,
      "outputs": [
        {
          "output_type": "stream",
          "name": "stdout",
          "text": [
            "Epoch 1/20\n",
            "\u001b[1m55/55\u001b[0m \u001b[32m━━━━━━━━━━━━━━━━━━━━\u001b[0m\u001b[37m\u001b[0m \u001b[1m0s\u001b[0m 201ms/step - loss: 1.3120\n",
            " mean perplexity: 13198.709566679541 \n",
            "\n",
            "Saved new model!\n",
            "\u001b[1m55/55\u001b[0m \u001b[32m━━━━━━━━━━━━━━━━━━━━\u001b[0m\u001b[37m\u001b[0m \u001b[1m15s\u001b[0m 279ms/step - loss: 1.3119\n",
            "Epoch 2/20\n",
            "\u001b[1m55/55\u001b[0m \u001b[32m━━━━━━━━━━━━━━━━━━━━\u001b[0m\u001b[37m\u001b[0m \u001b[1m0s\u001b[0m 178ms/step - loss: 1.2431\n",
            " mean perplexity: 18277.54620129798 \n",
            "\n",
            "\u001b[1m55/55\u001b[0m \u001b[32m━━━━━━━━━━━━━━━━━━━━\u001b[0m\u001b[37m\u001b[0m \u001b[1m20s\u001b[0m 259ms/step - loss: 1.2431\n",
            "Epoch 3/20\n",
            "\u001b[1m55/55\u001b[0m \u001b[32m━━━━━━━━━━━━━━━━━━━━\u001b[0m\u001b[37m\u001b[0m \u001b[1m0s\u001b[0m 185ms/step - loss: 1.2044\n",
            " mean perplexity: 18512.324289282446 \n",
            "\n",
            "\u001b[1m55/55\u001b[0m \u001b[32m━━━━━━━━━━━━━━━━━━━━\u001b[0m\u001b[37m\u001b[0m \u001b[1m21s\u001b[0m 268ms/step - loss: 1.2042\n",
            "Epoch 4/20\n",
            "\u001b[1m55/55\u001b[0m \u001b[32m━━━━━━━━━━━━━━━━━━━━\u001b[0m\u001b[37m\u001b[0m \u001b[1m0s\u001b[0m 202ms/step - loss: 1.1500\n",
            " mean perplexity: 13947.043655822814 \n",
            "\n",
            "\u001b[1m55/55\u001b[0m \u001b[32m━━━━━━━━━━━━━━━━━━━━\u001b[0m\u001b[37m\u001b[0m \u001b[1m21s\u001b[0m 275ms/step - loss: 1.1498\n",
            "Epoch 5/20\n",
            "\u001b[1m55/55\u001b[0m \u001b[32m━━━━━━━━━━━━━━━━━━━━\u001b[0m\u001b[37m\u001b[0m \u001b[1m0s\u001b[0m 157ms/step - loss: 1.1072\n",
            " mean perplexity: 18471.855690652403 \n",
            "\n",
            "\u001b[1m55/55\u001b[0m \u001b[32m━━━━━━━━━━━━━━━━━━━━\u001b[0m\u001b[37m\u001b[0m \u001b[1m19s\u001b[0m 254ms/step - loss: 1.1070\n",
            "Epoch 6/20\n",
            "\u001b[1m55/55\u001b[0m \u001b[32m━━━━━━━━━━━━━━━━━━━━\u001b[0m\u001b[37m\u001b[0m \u001b[1m0s\u001b[0m 205ms/step - loss: 1.0678\n",
            " mean perplexity: 16970.894313006283 \n",
            "\n",
            "\u001b[1m55/55\u001b[0m \u001b[32m━━━━━━━━━━━━━━━━━━━━\u001b[0m\u001b[37m\u001b[0m \u001b[1m22s\u001b[0m 290ms/step - loss: 1.0677\n",
            "Epoch 7/20\n",
            "\u001b[1m55/55\u001b[0m \u001b[32m━━━━━━━━━━━━━━━━━━━━\u001b[0m\u001b[37m\u001b[0m \u001b[1m0s\u001b[0m 203ms/step - loss: 1.0363\n",
            " mean perplexity: 17545.866170174744 \n",
            "\n",
            "\u001b[1m55/55\u001b[0m \u001b[32m━━━━━━━━━━━━━━━━━━━━\u001b[0m\u001b[37m\u001b[0m \u001b[1m15s\u001b[0m 282ms/step - loss: 1.0361\n",
            "Epoch 8/20\n",
            "\u001b[1m55/55\u001b[0m \u001b[32m━━━━━━━━━━━━━━━━━━━━\u001b[0m\u001b[37m\u001b[0m \u001b[1m0s\u001b[0m 174ms/step - loss: 1.0006\n",
            " mean perplexity: 16466.554782530435 \n",
            "\n",
            "\u001b[1m55/55\u001b[0m \u001b[32m━━━━━━━━━━━━━━━━━━━━\u001b[0m\u001b[37m\u001b[0m \u001b[1m19s\u001b[0m 259ms/step - loss: 1.0005\n",
            "Epoch 9/20\n",
            "\u001b[1m55/55\u001b[0m \u001b[32m━━━━━━━━━━━━━━━━━━━━\u001b[0m\u001b[37m\u001b[0m \u001b[1m0s\u001b[0m 232ms/step - loss: 0.9775\n",
            " mean perplexity: 18030.802863983336 \n",
            "\n",
            "\u001b[1m55/55\u001b[0m \u001b[32m━━━━━━━━━━━━━━━━━━━━\u001b[0m\u001b[37m\u001b[0m \u001b[1m18s\u001b[0m 336ms/step - loss: 0.9773\n",
            "Epoch 10/20\n",
            "\u001b[1m55/55\u001b[0m \u001b[32m━━━━━━━━━━━━━━━━━━━━\u001b[0m\u001b[37m\u001b[0m \u001b[1m0s\u001b[0m 147ms/step - loss: 0.9270\n",
            " mean perplexity: 25254.97825435381 \n",
            "\n",
            "\u001b[1m55/55\u001b[0m \u001b[32m━━━━━━━━━━━━━━━━━━━━\u001b[0m\u001b[37m\u001b[0m \u001b[1m14s\u001b[0m 248ms/step - loss: 0.9272\n",
            "Epoch 11/20\n",
            "\u001b[1m55/55\u001b[0m \u001b[32m━━━━━━━━━━━━━━━━━━━━\u001b[0m\u001b[37m\u001b[0m \u001b[1m0s\u001b[0m 198ms/step - loss: 0.9192\n",
            " mean perplexity: 16961.635321319252 \n",
            "\n",
            "\u001b[1m55/55\u001b[0m \u001b[32m━━━━━━━━━━━━━━━━━━━━\u001b[0m\u001b[37m\u001b[0m \u001b[1m22s\u001b[0m 276ms/step - loss: 0.9191\n",
            "Epoch 12/20\n",
            "\u001b[1m55/55\u001b[0m \u001b[32m━━━━━━━━━━━━━━━━━━━━\u001b[0m\u001b[37m\u001b[0m \u001b[1m0s\u001b[0m 172ms/step - loss: 0.9106\n",
            " mean perplexity: 21386.850555059267 \n",
            "\n",
            "\u001b[1m55/55\u001b[0m \u001b[32m━━━━━━━━━━━━━━━━━━━━\u001b[0m\u001b[37m\u001b[0m \u001b[1m20s\u001b[0m 258ms/step - loss: 0.9103\n",
            "Epoch 13/20\n",
            "\u001b[1m55/55\u001b[0m \u001b[32m━━━━━━━━━━━━━━━━━━━━\u001b[0m\u001b[37m\u001b[0m \u001b[1m0s\u001b[0m 179ms/step - loss: 0.8691\n",
            " mean perplexity: 22663.618747666325 \n",
            "\n",
            "\u001b[1m55/55\u001b[0m \u001b[32m━━━━━━━━━━━━━━━━━━━━\u001b[0m\u001b[37m\u001b[0m \u001b[1m15s\u001b[0m 262ms/step - loss: 0.8692\n",
            "Epoch 14/20\n",
            "\u001b[1m55/55\u001b[0m \u001b[32m━━━━━━━━━━━━━━━━━━━━\u001b[0m\u001b[37m\u001b[0m \u001b[1m0s\u001b[0m 189ms/step - loss: 0.8516\n",
            " mean perplexity: 25434.67849088723 \n",
            "\n",
            "\u001b[1m55/55\u001b[0m \u001b[32m━━━━━━━━━━━━━━━━━━━━\u001b[0m\u001b[37m\u001b[0m \u001b[1m21s\u001b[0m 273ms/step - loss: 0.8516\n",
            "Epoch 15/20\n",
            "\u001b[1m55/55\u001b[0m \u001b[32m━━━━━━━━━━━━━━━━━━━━\u001b[0m\u001b[37m\u001b[0m \u001b[1m0s\u001b[0m 197ms/step - loss: 0.8482\n",
            " mean perplexity: 31175.637391870343 \n",
            "\n",
            "\u001b[1m55/55\u001b[0m \u001b[32m━━━━━━━━━━━━━━━━━━━━\u001b[0m\u001b[37m\u001b[0m \u001b[1m21s\u001b[0m 274ms/step - loss: 0.8480\n",
            "Epoch 16/20\n",
            "\u001b[1m55/55\u001b[0m \u001b[32m━━━━━━━━━━━━━━━━━━━━\u001b[0m\u001b[37m\u001b[0m \u001b[1m0s\u001b[0m 149ms/step - loss: 0.8208\n",
            " mean perplexity: 25510.24064575714 \n",
            "\n",
            "Stopping training...\n",
            "\u001b[1m55/55\u001b[0m \u001b[32m━━━━━━━━━━━━━━━━━━━━\u001b[0m\u001b[37m\u001b[0m \u001b[1m19s\u001b[0m 253ms/step - loss: 0.8208\n"
          ]
        }
      ]
    },
    {
      "cell_type": "code",
      "source": [
        "# Creamos subplots\n",
        "fig, axs = plt.subplots(1, 3, figsize=(15, 5))\n",
        "\n",
        "# Para el modelo LSTM\n",
        "axs[0].plot(history_ppl_LSTM, color='blue')\n",
        "axs[0].set_title('Perplexity vs Epoch (Modelo: LSTM)')\n",
        "axs[0].set_xlabel('Epoch')\n",
        "axs[0].set_ylabel('Perplexity')\n",
        "\n",
        "# Para el modelo SimpleRNN\n",
        "axs[1].plot(history_ppl_simpleRNN, color='blue')\n",
        "axs[1].set_title('Perplexity vs Epoch (Modelo: SimpleRNN)')\n",
        "axs[1].set_xlabel('Epoch')\n",
        "axs[1].set_ylabel('Perplexity')\n",
        "\n",
        "# Para el modelo GRU\n",
        "axs[2].plot(history_ppl_GRU, color='blue')\n",
        "axs[2].set_title('Perplexity vs Epoch (Modelo: GRU)')\n",
        "axs[2].set_xlabel('Epoch')\n",
        "axs[2].set_ylabel('Perplexity')\n",
        "\n",
        "plt.tight_layout()\n",
        "plt.show()"
      ],
      "metadata": {
        "colab": {
          "base_uri": "https://localhost:8080/",
          "height": 507
        },
        "id": "XSmILBfUT6q4",
        "outputId": "edca554c-247d-41b6-9e3a-81ab4c8bb38c"
      },
      "execution_count": 68,
      "outputs": [
        {
          "output_type": "display_data",
          "data": {
            "text/plain": [
              "<Figure size 1500x500 with 3 Axes>"
            ],
            "image/png": "[encoded data removed]"
          },
          "metadata": {}
        }
      ]
    },
    {
      "cell_type": "markdown",
      "source": [
        "En los gráficos anteriores  se observa que en general la perplejidad no baja de acuerdo a lo esperado. En general, el mejor rendimiento se obtiene con el modelo LSTM, donde si bien, la perplejidad sube también se observa que en ciertos momentos se presentan descenso.\n",
        "\n",
        "El peor escenario se presenta con el modelo GRU donde los valores de perplejidad ascienden bastane, al margen del comportamiento irregular de las mediciones obtenidas."
      ],
      "metadata": {
        "id": "0EaORTX1drhq"
      }
    },
    {
      "cell_type": "code",
      "source": [
        "# Cargamos el mejor modelo guardado del entrenamiento para hacer inferencia\n",
        "model_LSTM = keras.models.load_model('model_LSTM.keras')\n",
        "model_simpleRNN = keras.models.load_model('model_simpleRNN.keras')\n",
        "model_GRU = keras.models.load_model('model_GRU.keras')"
      ],
      "metadata": {
        "id": "ZgSfVHlgpihl"
      },
      "execution_count": 70,
      "outputs": []
    },
    {
      "cell_type": "markdown",
      "source": [
        "## Predicción de Próxima Palabra\n",
        "\n",
        "A continuación se utiliza la librería Gradio para obtener las predicciones mediante una interfaz gráfica."
      ],
      "metadata": {
        "id": "-ssJs93kiXbk"
      }
    },
    {
      "cell_type": "code",
      "source": [
        "!pip install -q gradio"
      ],
      "metadata": {
        "colab": {
          "base_uri": "https://localhost:8080/"
        },
        "id": "_GGEf05OioEq",
        "outputId": "26e1d42a-f194-43ec-9306-2714c3323cc6"
      },
      "execution_count": 71,
      "outputs": [
        {
          "output_type": "stream",
          "name": "stdout",
          "text": [
            "\u001b[2K     \u001b[90m━━━━━━━━━━━━━━━━━━━━━━━━━━━━━━━━━━━━━━━━\u001b[0m \u001b[32m50.4/50.4 kB\u001b[0m \u001b[31m3.1 MB/s\u001b[0m eta \u001b[36m0:00:00\u001b[0m\n",
            "\u001b[2K   \u001b[90m━━━━━━━━━━━━━━━━━━━━━━━━━━━━━━━━━━━━━━━━\u001b[0m \u001b[32m42.3/42.3 MB\u001b[0m \u001b[31m15.5 MB/s\u001b[0m eta \u001b[36m0:00:00\u001b[0m\n",
            "\u001b[2K   \u001b[90m━━━━━━━━━━━━━━━━━━━━━━━━━━━━━━━━━━━━━━━━\u001b[0m \u001b[32m319.8/319.8 kB\u001b[0m \u001b[31m17.5 MB/s\u001b[0m eta \u001b[36m0:00:00\u001b[0m\n",
            "\u001b[2K   \u001b[90m━━━━━━━━━━━━━━━━━━━━━━━━━━━━━━━━━━━━━━━━\u001b[0m \u001b[32m94.6/94.6 kB\u001b[0m \u001b[31m5.4 MB/s\u001b[0m eta \u001b[36m0:00:00\u001b[0m\n",
            "\u001b[2K   \u001b[90m━━━━━━━━━━━━━━━━━━━━━━━━━━━━━━━━━━━━━━━━\u001b[0m \u001b[32m76.4/76.4 kB\u001b[0m \u001b[31m4.2 MB/s\u001b[0m eta \u001b[36m0:00:00\u001b[0m\n",
            "\u001b[2K   \u001b[90m━━━━━━━━━━━━━━━━━━━━━━━━━━━━━━━━━━━━━━━━\u001b[0m \u001b[32m78.0/78.0 kB\u001b[0m \u001b[31m4.2 MB/s\u001b[0m eta \u001b[36m0:00:00\u001b[0m\n",
            "\u001b[2K   \u001b[90m━━━━━━━━━━━━━━━━━━━━━━━━━━━━━━━━━━━━━━━━\u001b[0m \u001b[32m436.6/436.6 kB\u001b[0m \u001b[31m21.8 MB/s\u001b[0m eta \u001b[36m0:00:00\u001b[0m\n",
            "\u001b[2K   \u001b[90m━━━━━━━━━━━━━━━━━━━━━━━━━━━━━━━━━━━━━━━━\u001b[0m \u001b[32m141.9/141.9 kB\u001b[0m \u001b[31m6.9 MB/s\u001b[0m eta \u001b[36m0:00:00\u001b[0m\n",
            "\u001b[2K   \u001b[90m━━━━━━━━━━━━━━━━━━━━━━━━━━━━━━━━━━━━━━━━\u001b[0m \u001b[32m10.9/10.9 MB\u001b[0m \u001b[31m59.9 MB/s\u001b[0m eta \u001b[36m0:00:00\u001b[0m\n",
            "\u001b[2K   \u001b[90m━━━━━━━━━━━━━━━━━━━━━━━━━━━━━━━━━━━━━━━━\u001b[0m \u001b[32m63.7/63.7 kB\u001b[0m \u001b[31m3.5 MB/s\u001b[0m eta \u001b[36m0:00:00\u001b[0m\n",
            "\u001b[2K   \u001b[90m━━━━━━━━━━━━━━━━━━━━━━━━━━━━━━━━━━━━━━━━\u001b[0m \u001b[32m58.3/58.3 kB\u001b[0m \u001b[31m4.2 MB/s\u001b[0m eta \u001b[36m0:00:00\u001b[0m\n",
            "\u001b[2K   \u001b[90m━━━━━━━━━━━━━━━━━━━━━━━━━━━━━━━━━━━━━━━━\u001b[0m \u001b[32m71.5/71.5 kB\u001b[0m \u001b[31m4.1 MB/s\u001b[0m eta \u001b[36m0:00:00\u001b[0m\n",
            "\u001b[2K   \u001b[90m━━━━━━━━━━━━━━━━━━━━━━━━━━━━━━━━━━━━━━━━\u001b[0m \u001b[32m130.2/130.2 kB\u001b[0m \u001b[31m8.3 MB/s\u001b[0m eta \u001b[36m0:00:00\u001b[0m\n",
            "\u001b[?25h"
          ]
        }
      ]
    },
    {
      "cell_type": "code",
      "source": [
        "import gradio as gr\n",
        "\n",
        "def model_response(input_text, model=model_LSTM):\n",
        "    encoded = tok.texts_to_sequences([input_text])[0]\n",
        "    encoded = pad_sequences([encoded], maxlen=max_context_size, padding='pre')\n",
        "    y_pred = np.argmax(model.predict(encoded)[0,-1,:])\n",
        "\n",
        "    output_word = \"\"\n",
        "    for word, index in tok.word_index.items():\n",
        "        if index == y_pred:\n",
        "            output_word = word\n",
        "            break\n",
        "\n",
        "    return f\"{input_text} {output_word}\"\n",
        "\n",
        "interface = gr.Interface(fn=model_response, inputs=[\"textbox\"], outputs=\"text\")\n",
        "interface.launch(debug=True)\n"
      ],
      "metadata": {
        "colab": {
          "base_uri": "https://localhost:8080/",
          "height": 750
        },
        "id": "GepIGQ9PpVhf",
        "outputId": "5dbc911a-d06c-438e-e58a-b09c1f2634bb"
      },
      "execution_count": 72,
      "outputs": [
        {
          "output_type": "stream",
          "name": "stdout",
          "text": [
            "Setting queue=True in a Colab notebook requires sharing enabled. Setting `share=True` (you can turn this off by setting `share=False` in `launch()` explicitly).\n",
            "\n",
            "Colab notebook detected. This cell will run indefinitely so that you can see errors and logs. To turn off, set debug=False in launch().\n",
            "* Running on public URL: https://f100dde8e55e048190.gradio.live\n",
            "\n",
            "This share link expires in 72 hours. For free permanent hosting and GPU upgrades, run `gradio deploy` from the terminal in the working directory to deploy to Hugging Face Spaces (https://huggingface.co/spaces)\n"
          ]
        },
        {
          "output_type": "display_data",
          "data": {
            "text/plain": [
              "<IPython.core.display.HTML object>"
            ],
            "text/html": [
              "<div><iframe src=\"https://f100dde8e55e048190.gradio.live\" width=\"100%\" height=\"500\" allow=\"autoplay; camera; microphone; clipboard-read; clipboard-write;\" frameborder=\"0\" allowfullscreen></iframe></div>"
            ]
          },
          "metadata": {}
        },
        {
          "output_type": "stream",
          "name": "stdout",
          "text": [
            "\u001b[1m1/1\u001b[0m \u001b[32m━━━━━━━━━━━━━━━━━━━━\u001b[0m\u001b[37m\u001b[0m \u001b[1m0s\u001b[0m 347ms/step\n",
            "\u001b[1m1/1\u001b[0m \u001b[32m━━━━━━━━━━━━━━━━━━━━\u001b[0m\u001b[37m\u001b[0m \u001b[1m0s\u001b[0m 31ms/step\n",
            "\u001b[1m1/1\u001b[0m \u001b[32m━━━━━━━━━━━━━━━━━━━━\u001b[0m\u001b[37m\u001b[0m \u001b[1m0s\u001b[0m 31ms/step\n",
            "\u001b[1m1/1\u001b[0m \u001b[32m━━━━━━━━━━━━━━━━━━━━\u001b[0m\u001b[37m\u001b[0m \u001b[1m0s\u001b[0m 28ms/step\n",
            "Keyboard interruption in main thread... closing server.\n",
            "Killing tunnel 127.0.0.1:7860 <> https://f100dde8e55e048190.gradio.live\n"
          ]
        },
        {
          "output_type": "execute_result",
          "data": {
            "text/plain": []
          },
          "metadata": {},
          "execution_count": 72
        }
      ]
    },
    {
      "cell_type": "code",
      "source": [
        "print(f'Respuesta LSTM: { model_response(\"Los oficiales estaban\", model_LSTM) }')\n",
        "print(f'Respuesta SimpleRNN: {model_response(\"Los oficiales estaban\", model_simpleRNN)}')\n",
        "print(f'Respuesta GRU: {model_response(\"Los oficiales estaban\", model_GRU)}')"
      ],
      "metadata": {
        "colab": {
          "base_uri": "https://localhost:8080/"
        },
        "id": "0P5_aYieW83E",
        "outputId": "91cdc8c4-f632-4ae9-8842-5539681a4ff2"
      },
      "execution_count": 73,
      "outputs": [
        {
          "output_type": "stream",
          "name": "stdout",
          "text": [
            "\u001b[1m1/1\u001b[0m \u001b[32m━━━━━━━━━━━━━━━━━━━━\u001b[0m\u001b[37m\u001b[0m \u001b[1m0s\u001b[0m 57ms/step\n",
            "Respuesta LSTM: Los oficiales estaban de\n",
            "\u001b[1m1/1\u001b[0m \u001b[32m━━━━━━━━━━━━━━━━━━━━\u001b[0m\u001b[37m\u001b[0m \u001b[1m1s\u001b[0m 507ms/step\n",
            "Respuesta SimpleRNN: Los oficiales estaban haber\n",
            "\u001b[1m1/1\u001b[0m \u001b[32m━━━━━━━━━━━━━━━━━━━━\u001b[0m\u001b[37m\u001b[0m \u001b[1m1s\u001b[0m 719ms/step\n",
            "Respuesta GRU: Los oficiales estaban más\n"
          ]
        }
      ]
    },
    {
      "cell_type": "markdown",
      "source": [
        "Se observa en general resultados mas comprensibles con los modelos LSTM y GRU. En correspondencia con la irregularidad observada en las mediciones de perplejidad, el resultado obtenido para el modelo SimpleRNN es el que presenta un texto menos comprensible"
      ],
      "metadata": {
        "id": "5GQZrY1Yflp6"
      }
    },
    {
      "cell_type": "markdown",
      "source": [
        "## Generacion de Secuencias\n",
        "\n",
        "A continuación se analiza la generación de secuencias para los tres modelos entrenados"
      ],
      "metadata": {
        "id": "EL0QIecQWDZh"
      }
    },
    {
      "cell_type": "code",
      "source": [
        "def generate_seq(model, tokenizer, seed_text, max_length, n_words):\n",
        "    output_text = seed_text\n",
        "    for _ in range(n_words):\n",
        "        encoded = tokenizer.texts_to_sequences([output_text])[0]\n",
        "        encoded = pad_sequences([encoded], maxlen=max_length, padding='pre')\n",
        "        y_pred = np.argmax(model.predict(encoded)[0,-1,:])\n",
        "\n",
        "        output_word = ''\n",
        "        for word, index in tokenizer.word_index.items():\n",
        "            if index == y_pred:\n",
        "                output_word = word\n",
        "                break\n",
        "\n",
        "\t\t  # Agrego las palabras a la frase predicha\n",
        "        output_text += f\"  {output_word}\"\n",
        "\n",
        "    return output_text"
      ],
      "metadata": {
        "id": "4rpXPpHKzPQY"
      },
      "execution_count": 74,
      "outputs": []
    },
    {
      "cell_type": "code",
      "source": [
        "input_text='Llevé a mis visitantes'\n",
        "\n",
        "print('Modelo LSTM:')\n",
        "print(generate_seq(model_LSTM, tok, input_text, max_length=max_context_size, n_words=10))\n",
        "\n",
        "print('Modelo Simple RNN:')\n",
        "print(generate_seq(model_simpleRNN, tok, input_text, max_length=max_context_size, n_words=10))\n",
        "\n",
        "print('Modelo GRU:')\n",
        "print(generate_seq(model_GRU, tok, input_text, max_length=max_context_size, n_words=10))"
      ],
      "metadata": {
        "colab": {
          "base_uri": "https://localhost:8080/"
        },
        "id": "AhmPc14b0SiE",
        "outputId": "39e8aed9-fb9e-4439-ab8e-4f78930101d8"
      },
      "execution_count": 75,
      "outputs": [
        {
          "output_type": "stream",
          "name": "stdout",
          "text": [
            "Modelo LSTM:\n",
            "\u001b[1m1/1\u001b[0m \u001b[32m━━━━━━━━━━━━━━━━━━━━\u001b[0m\u001b[37m\u001b[0m \u001b[1m0s\u001b[0m 32ms/step\n",
            "\u001b[1m1/1\u001b[0m \u001b[32m━━━━━━━━━━━━━━━━━━━━\u001b[0m\u001b[37m\u001b[0m \u001b[1m0s\u001b[0m 30ms/step\n",
            "\u001b[1m1/1\u001b[0m \u001b[32m━━━━━━━━━━━━━━━━━━━━\u001b[0m\u001b[37m\u001b[0m \u001b[1m0s\u001b[0m 31ms/step\n",
            "\u001b[1m1/1\u001b[0m \u001b[32m━━━━━━━━━━━━━━━━━━━━\u001b[0m\u001b[37m\u001b[0m \u001b[1m0s\u001b[0m 40ms/step\n",
            "\u001b[1m1/1\u001b[0m \u001b[32m━━━━━━━━━━━━━━━━━━━━\u001b[0m\u001b[37m\u001b[0m \u001b[1m0s\u001b[0m 32ms/step\n",
            "\u001b[1m1/1\u001b[0m \u001b[32m━━━━━━━━━━━━━━━━━━━━\u001b[0m\u001b[37m\u001b[0m \u001b[1m0s\u001b[0m 30ms/step\n",
            "\u001b[1m1/1\u001b[0m \u001b[32m━━━━━━━━━━━━━━━━━━━━\u001b[0m\u001b[37m\u001b[0m \u001b[1m0s\u001b[0m 35ms/step\n",
            "\u001b[1m1/1\u001b[0m \u001b[32m━━━━━━━━━━━━━━━━━━━━\u001b[0m\u001b[37m\u001b[0m \u001b[1m0s\u001b[0m 33ms/step\n",
            "\u001b[1m1/1\u001b[0m \u001b[32m━━━━━━━━━━━━━━━━━━━━\u001b[0m\u001b[37m\u001b[0m \u001b[1m0s\u001b[0m 42ms/step\n",
            "\u001b[1m1/1\u001b[0m \u001b[32m━━━━━━━━━━━━━━━━━━━━\u001b[0m\u001b[37m\u001b[0m \u001b[1m0s\u001b[0m 31ms/step\n",
            "Llevé a mis visitantes  de  y  que  cabeza  ponía  una  oscura  oscura  muy  sorda\n",
            "Modelo Simple RNN:\n",
            "\u001b[1m1/1\u001b[0m \u001b[32m━━━━━━━━━━━━━━━━━━━━\u001b[0m\u001b[37m\u001b[0m \u001b[1m0s\u001b[0m 31ms/step\n",
            "\u001b[1m1/1\u001b[0m \u001b[32m━━━━━━━━━━━━━━━━━━━━\u001b[0m\u001b[37m\u001b[0m \u001b[1m0s\u001b[0m 39ms/step\n",
            "\u001b[1m1/1\u001b[0m \u001b[32m━━━━━━━━━━━━━━━━━━━━\u001b[0m\u001b[37m\u001b[0m \u001b[1m0s\u001b[0m 38ms/step\n",
            "\u001b[1m1/1\u001b[0m \u001b[32m━━━━━━━━━━━━━━━━━━━━\u001b[0m\u001b[37m\u001b[0m \u001b[1m0s\u001b[0m 74ms/step\n",
            "\u001b[1m1/1\u001b[0m \u001b[32m━━━━━━━━━━━━━━━━━━━━\u001b[0m\u001b[37m\u001b[0m \u001b[1m0s\u001b[0m 37ms/step\n",
            "\u001b[1m1/1\u001b[0m \u001b[32m━━━━━━━━━━━━━━━━━━━━\u001b[0m\u001b[37m\u001b[0m \u001b[1m0s\u001b[0m 58ms/step\n",
            "\u001b[1m1/1\u001b[0m \u001b[32m━━━━━━━━━━━━━━━━━━━━\u001b[0m\u001b[37m\u001b[0m \u001b[1m0s\u001b[0m 48ms/step\n",
            "\u001b[1m1/1\u001b[0m \u001b[32m━━━━━━━━━━━━━━━━━━━━\u001b[0m\u001b[37m\u001b[0m \u001b[1m0s\u001b[0m 39ms/step\n",
            "\u001b[1m1/1\u001b[0m \u001b[32m━━━━━━━━━━━━━━━━━━━━\u001b[0m\u001b[37m\u001b[0m \u001b[1m0s\u001b[0m 36ms/step\n",
            "\u001b[1m1/1\u001b[0m \u001b[32m━━━━━━━━━━━━━━━━━━━━\u001b[0m\u001b[37m\u001b[0m \u001b[1m0s\u001b[0m 42ms/step\n",
            "Llevé a mis visitantes  a  de  sus  fatigas  mientras  yo  mismo  con  la  osadía\n",
            "Modelo GRU:\n",
            "\u001b[1m1/1\u001b[0m \u001b[32m━━━━━━━━━━━━━━━━━━━━\u001b[0m\u001b[37m\u001b[0m \u001b[1m0s\u001b[0m 56ms/step\n",
            "\u001b[1m1/1\u001b[0m \u001b[32m━━━━━━━━━━━━━━━━━━━━\u001b[0m\u001b[37m\u001b[0m \u001b[1m0s\u001b[0m 48ms/step\n",
            "\u001b[1m1/1\u001b[0m \u001b[32m━━━━━━━━━━━━━━━━━━━━\u001b[0m\u001b[37m\u001b[0m \u001b[1m0s\u001b[0m 56ms/step\n",
            "\u001b[1m1/1\u001b[0m \u001b[32m━━━━━━━━━━━━━━━━━━━━\u001b[0m\u001b[37m\u001b[0m \u001b[1m0s\u001b[0m 47ms/step\n",
            "\u001b[1m1/1\u001b[0m \u001b[32m━━━━━━━━━━━━━━━━━━━━\u001b[0m\u001b[37m\u001b[0m \u001b[1m0s\u001b[0m 44ms/step\n",
            "\u001b[1m1/1\u001b[0m \u001b[32m━━━━━━━━━━━━━━━━━━━━\u001b[0m\u001b[37m\u001b[0m \u001b[1m0s\u001b[0m 43ms/step\n",
            "\u001b[1m1/1\u001b[0m \u001b[32m━━━━━━━━━━━━━━━━━━━━\u001b[0m\u001b[37m\u001b[0m \u001b[1m0s\u001b[0m 47ms/step\n",
            "\u001b[1m1/1\u001b[0m \u001b[32m━━━━━━━━━━━━━━━━━━━━\u001b[0m\u001b[37m\u001b[0m \u001b[1m0s\u001b[0m 49ms/step\n",
            "\u001b[1m1/1\u001b[0m \u001b[32m━━━━━━━━━━━━━━━━━━━━\u001b[0m\u001b[37m\u001b[0m \u001b[1m0s\u001b[0m 49ms/step\n",
            "\u001b[1m1/1\u001b[0m \u001b[32m━━━━━━━━━━━━━━━━━━━━\u001b[0m\u001b[37m\u001b[0m \u001b[1m0s\u001b[0m 44ms/step\n",
            "Llevé a mis visitantes  de  aquí  la  cuidadosamente  cuidadosamente  ya  que  los  goznes  crujían\n"
          ]
        }
      ]
    },
    {
      "cell_type": "markdown",
      "source": [
        "Si bien se observa que pequeñas secciones de cada oración presentan algo de coherencia (\"...mientras yo mismo\") en general las oraciones generadas por cada modelo no tienen mucho sentido. Se observó que ajustando algunos parámetros, es posible mejorar las secuencias obteniendo mayor variedad de palabras."
      ],
      "metadata": {
        "id": "FjtdYrI8gPVS"
      }
    },
    {
      "cell_type": "markdown",
      "source": [
        "## Beam Search y Muestreo Aleatorio"
      ],
      "metadata": {
        "id": "7tGqAPusHa3v"
      }
    },
    {
      "cell_type": "code",
      "source": [
        "def encode(text,max_length=max_context_size):\n",
        "\n",
        "    encoded = tok.texts_to_sequences([text])[0]\n",
        "    encoded = pad_sequences([encoded], maxlen=max_length, padding='pre')\n",
        "\n",
        "    return encoded\n",
        "\n",
        "def decode(seq):\n",
        "    return tok.sequences_to_texts([seq])"
      ],
      "metadata": {
        "id": "qmwrCxaTHe3f"
      },
      "execution_count": 76,
      "outputs": []
    },
    {
      "cell_type": "code",
      "source": [
        "from scipy.special import softmax\n",
        "\n",
        "# función que selecciona candidatos para el beam search\n",
        "def select_candidates(pred,num_beams,vocab_size,history_probs,history_tokens,temp,mode):\n",
        "\n",
        "  # colectar todas las probabilidades para la siguiente búsqueda\n",
        "  pred_large = []\n",
        "\n",
        "  for idx,pp in enumerate(pred):\n",
        "    pred_large.extend(np.log(pp+1E-10)+history_probs[idx])\n",
        "\n",
        "  pred_large = np.array(pred_large)\n",
        "\n",
        "  # criterio de selección\n",
        "  if mode == 'det':\n",
        "    idx_select = np.argsort(pred_large)[::-1][:num_beams] # beam search determinista\n",
        "  elif mode == 'sto':\n",
        "    idx_select = np.random.choice(np.arange(pred_large.shape[0]), num_beams, p=softmax(pred_large/temp)) # beam search con muestreo aleatorio\n",
        "  else:\n",
        "    raise ValueError(f'Wrong selection mode. {mode} was given. det and sto are supported.')\n",
        "\n",
        "  # traducir a índices de token en el vocabulario\n",
        "  new_history_tokens = np.concatenate((np.array(history_tokens)[idx_select//vocab_size],\n",
        "                        np.array([idx_select%vocab_size]).T),\n",
        "                      axis=1)\n",
        "\n",
        "  # devolver el producto de las probabilidades (log) y la secuencia de tokens seleccionados\n",
        "  return pred_large[idx_select.astype(int)], new_history_tokens.astype(int)\n",
        "\n",
        "\n",
        "def beam_search(model,num_beams,num_words,input,temp=1,mode='det'):\n",
        "\n",
        "    # first iteration\n",
        "\n",
        "    # encode\n",
        "    encoded = encode(input)\n",
        "\n",
        "    # first prediction\n",
        "    y_hat = model.predict(encoded,verbose=0)[0,-1,:]\n",
        "\n",
        "    # get vocabulary size\n",
        "    vocab_size = y_hat.shape[0]\n",
        "\n",
        "    # initialize history\n",
        "    history_probs = [0]*num_beams\n",
        "    history_tokens = [encoded[0]]*num_beams\n",
        "\n",
        "    # select num_beams candidates\n",
        "    history_probs, history_tokens = select_candidates([y_hat],\n",
        "                                        num_beams,\n",
        "                                        vocab_size,\n",
        "                                        history_probs,\n",
        "                                        history_tokens,\n",
        "                                        temp,\n",
        "                                        mode)\n",
        "\n",
        "    # beam search loop\n",
        "    for i in range(num_words-1):\n",
        "\n",
        "      preds = []\n",
        "\n",
        "      for hist in history_tokens:\n",
        "\n",
        "        # actualizar secuencia de tokens\n",
        "        input_update = np.array([hist[i+1:]]).copy()\n",
        "\n",
        "        # predicción\n",
        "        y_hat = model.predict(input_update,verbose=0)[0,-1,:]\n",
        "\n",
        "        preds.append(y_hat)\n",
        "\n",
        "      history_probs, history_tokens = select_candidates(preds,\n",
        "                                                        num_beams,\n",
        "                                                        vocab_size,\n",
        "                                                        history_probs,\n",
        "                                                        history_tokens,\n",
        "                                                        temp,\n",
        "                                                        mode)\n",
        "\n",
        "    return history_tokens"
      ],
      "metadata": {
        "id": "1Eho8h3xHyOA"
      },
      "execution_count": 77,
      "outputs": []
    },
    {
      "cell_type": "code",
      "source": [
        "lstm_sto_beamsearch = beam_search(model_LSTM, num_beams=10, num_words=5, input=\"Lo primero que hice fue\", temp=5, mode=\"sto\")\n",
        "print(f\"model_LSTM (estocastico), temp=5: {decode(lstm_sto_beamsearch[0])}\")\n",
        "\n",
        "rnn_sto_beamsearch = beam_search(model_simpleRNN, num_beams=10, num_words=5, input=\"Lo primero que hice fue\", temp=5, mode=\"sto\")\n",
        "print(f\"model_simpleRNN (estocastico), temp=5: {decode(rnn_sto_beamsearch[0])}\")\n",
        "\n",
        "gru_sto_beamsearch = beam_search(model_GRU, num_beams=10, num_words=5, input=\"Lo primero que hice fue\", temp=5, mode=\"sto\")\n",
        "print(f\"model_GRU (estocastico), temp=5: {decode(gru_sto_beamsearch[0])}\")"
      ],
      "metadata": {
        "colab": {
          "base_uri": "https://localhost:8080/"
        },
        "id": "ml-GJsXrYsRS",
        "outputId": "94d749eb-b134-491f-8e67-454f86541e12"
      },
      "execution_count": 78,
      "outputs": [
        {
          "output_type": "stream",
          "name": "stdout",
          "text": [
            "model_LSTM (estocastico), temp=5: ['lo primero que hice fue embargo observaciones hablé más oído']\n",
            "model_simpleRNN (estocastico), temp=5: ['lo primero que hice fue despierto información más ninguno hora']\n",
            "model_GRU (estocastico), temp=5: ['lo primero que hice fue haber serenamente dentro salté cerraba']\n"
          ]
        }
      ]
    },
    {
      "cell_type": "code",
      "source": [
        "lstm_det_beamsearch = beam_search(model_LSTM, num_beams=10, num_words=5, input=\"Lo primero que hice fue\", mode=\"det\")\n",
        "print(f\"model_LSTM (determinista): {decode(lstm_det_beamsearch[0])}\")\n",
        "\n",
        "rnn_det_beamsearch = beam_search(model_simpleRNN, num_beams=10, num_words=5, input=\"Lo primero que hice fue\", mode=\"det\")\n",
        "print(f\"model_simpleRNN (determinista): {decode(rnn_det_beamsearch[0])}\")\n",
        "\n",
        "gru_det_beamsearch = beam_search(model_GRU, num_beams=10, num_words=5, input=\"Lo primero que hice fue\", mode=\"det\")\n",
        "print(f\"model_GRU (determinista): {decode(gru_det_beamsearch[0])}\")"
      ],
      "metadata": {
        "colab": {
          "base_uri": "https://localhost:8080/"
        },
        "id": "rCVdqzOFb2iO",
        "outputId": "d70e0e76-0eb7-42e6-9ca3-9fd2bbd6867a"
      },
      "execution_count": 80,
      "outputs": [
        {
          "output_type": "stream",
          "name": "stdout",
          "text": [
            "model_LSTM (determinista): ['lo primero que hice fue de para la linterna que']\n",
            "model_simpleRNN (determinista): ['lo primero que hice fue claro hablé desenfrenadamente para conseguir']\n",
            "model_GRU (determinista): ['lo primero que hice fue desenfrenadamente para conseguir librarme de']\n"
          ]
        }
      ]
    },
    {
      "cell_type": "markdown",
      "source": [
        "En general se observa que las salidas de los modelos Beam Search estocásticos presentan textos mas incoherentes mientras más aumenta la temperatura.\n",
        "\n",
        "Es interesante ver que para el modelo determinístico de Beam Search para GRU presenta quizás la secuencia más coherente, en especial en la parte final \"... desenfrenadamente para conseguir librarme de\"."
      ],
      "metadata": {
        "id": "VBEPRsO3g2lR"
      }
    },
    {
      "cell_type": "markdown",
      "source": [
        "## Conclusiones Finales\n",
        "\n",
        "Luego de analizar los tres modelos LSTM, SimpleRNN y GRU con un texto más abundante que el que se vió en clases se puede observar los siguientes:\n",
        "\n",
        "En cuanto a la medida de perplejidad, se observa que el modelo LSTM fue el que mejor comportamiento tuvo, si bien los valores siguieron incrementandose, lo hicieron de forma un poco más regular, presentando incluso secciones donde la perplejidad bajó. El modelo SimpleRNN fue el que peor resultados dió, no solo presentando una perplejidad bastante alta, sino también por lo irregular de las mediciones.\n",
        "\n",
        "En cuanto a predicciones y generación de secuencias, se ve que los tres modelos tuvieron un comportamiento similar, en general poco satisfactorio, ya que las predicciones y las secuencias generadas mostraron poca coherencia con el texto de partida.\n",
        "\n",
        "Con Beam Search se generaron secuencias con mayor número de palabras y con un grado mayor de coherencia, en especial para el modelo GRU."
      ],
      "metadata": {
        "id": "BpxnEL8ohcK_"
      }
    }
  ]
}